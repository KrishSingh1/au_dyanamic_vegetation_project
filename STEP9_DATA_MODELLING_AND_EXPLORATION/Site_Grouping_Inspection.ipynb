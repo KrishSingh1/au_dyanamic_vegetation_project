{
 "cells": [
  {
   "cell_type": "code",
   "execution_count": 1,
   "id": "7d8c60e6-6ab2-4c8f-b705-39d7b84d910a",
   "metadata": {
    "tags": []
   },
   "outputs": [],
   "source": [
    "import pandas as pd"
   ]
  },
  {
   "cell_type": "code",
   "execution_count": 2,
   "id": "ad2f1038-2d6f-4f86-8936-11c203e89312",
   "metadata": {
    "tags": []
   },
   "outputs": [],
   "source": [
    "sites_info = pd.read_csv('../DATASETS/AusPlots_Extracted_Data/Final/extracted_Final_site_info_2-0-6.csv', index_col = 0)\n",
    "classifications = {0: 'Unclassed', \n",
    "                   1: 'Tropical',\n",
    "                   2: 'Savanna',\n",
    "                   3: 'Warm Temperate',\n",
    "                   4: 'Cool Temperate',\n",
    "                   5: 'Mediterranean',\n",
    "                   6: 'Desert'}\n",
    "\n",
    "Broader_Classifications = {0: 'Unclassed',\n",
    "                          1: 'Tropical/Savanna',\n",
    "                          2: 'Tropical/Savanna',\n",
    "                          3: 'Temp/Med',\n",
    "                          4: 'Temp/Med',\n",
    "                          5: 'Temp/Med',\n",
    "                          6: 'Desert'}"
   ]
  },
  {
   "cell_type": "code",
   "execution_count": 3,
   "id": "57e8c5b9-95b3-449a-a5bd-1b784da91e91",
   "metadata": {
    "tags": []
   },
   "outputs": [
    {
     "data": {
      "text/html": [
       "<div>\n",
       "<style scoped>\n",
       "    .dataframe tbody tr th:only-of-type {\n",
       "        vertical-align: middle;\n",
       "    }\n",
       "\n",
       "    .dataframe tbody tr th {\n",
       "        vertical-align: top;\n",
       "    }\n",
       "\n",
       "    .dataframe thead th {\n",
       "        text-align: right;\n",
       "    }\n",
       "</style>\n",
       "<table border=\"1\" class=\"dataframe\">\n",
       "  <thead>\n",
       "    <tr style=\"text-align: right;\">\n",
       "      <th></th>\n",
       "      <th>site_location_name</th>\n",
       "      <th>is_complete</th>\n",
       "    </tr>\n",
       "  </thead>\n",
       "  <tbody>\n",
       "    <tr>\n",
       "      <th>0</th>\n",
       "      <td>NTAARP0005</td>\n",
       "      <td>1</td>\n",
       "    </tr>\n",
       "    <tr>\n",
       "      <th>1</th>\n",
       "      <td>SAARIV0007</td>\n",
       "      <td>1</td>\n",
       "    </tr>\n",
       "    <tr>\n",
       "      <th>2</th>\n",
       "      <td>WAAVIB0004</td>\n",
       "      <td>1</td>\n",
       "    </tr>\n",
       "    <tr>\n",
       "      <th>3</th>\n",
       "      <td>SASMDD0001</td>\n",
       "      <td>1</td>\n",
       "    </tr>\n",
       "    <tr>\n",
       "      <th>4</th>\n",
       "      <td>SAAMDD0011</td>\n",
       "      <td>1</td>\n",
       "    </tr>\n",
       "  </tbody>\n",
       "</table>\n",
       "</div>"
      ],
      "text/plain": [
       "  site_location_name  is_complete\n",
       "0         NTAARP0005            1\n",
       "1         SAARIV0007            1\n",
       "2         WAAVIB0004            1\n",
       "3         SASMDD0001            1\n",
       "4         SAAMDD0011            1"
      ]
     },
     "execution_count": 3,
     "metadata": {},
     "output_type": "execute_result"
    }
   ],
   "source": [
    "sites_info_completed = pd.read_csv('../DATASETS/AusPlots_Extracted_Data/Final/completed_AusPlots_dataset_2-0-6.csv', index_col = 0)\n",
    "sites_info_completed.head()"
   ]
  },
  {
   "cell_type": "code",
   "execution_count": 4,
   "id": "95ef5c10-1da3-4937-927d-3faca32e1a40",
   "metadata": {
    "tags": []
   },
   "outputs": [],
   "source": [
    "avaliable_veg = pd.read_csv('../DATASETS/AusPlots_Extracted_Data/Final/growth_forms_classification_by_dom_species_final_2-0-6.csv', index_col = 0)"
   ]
  },
  {
   "cell_type": "code",
   "execution_count": 5,
   "id": "c71d86cd-faa9-45e6-9572-b77bbd792182",
   "metadata": {
    "tags": []
   },
   "outputs": [],
   "source": [
    "ausplots_classifications = pd.read_csv('../DATASETS/Australian Bioclimatic Regions/AusPlots_Bioregion_Classifications.csv', index_col = 0)"
   ]
  },
  {
   "cell_type": "code",
   "execution_count": 6,
   "id": "feaa04f8-dc57-4fd5-9f88-09a46deeb22b",
   "metadata": {
    "tags": []
   },
   "outputs": [],
   "source": [
    "valid_sites_list = sites_info_completed['site_location_name'].values"
   ]
  },
  {
   "cell_type": "code",
   "execution_count": 7,
   "id": "0d5fd2ad-92f3-409f-9ecd-652a61d114be",
   "metadata": {
    "tags": []
   },
   "outputs": [],
   "source": [
    "ausplots_classifications_subsetted = ausplots_classifications.iloc[ausplots_classifications.index.isin(valid_sites_list)]"
   ]
  },
  {
   "cell_type": "code",
   "execution_count": 8,
   "id": "c55e7283-0acd-4828-97d1-861068d5e91e",
   "metadata": {
    "tags": []
   },
   "outputs": [
    {
     "data": {
      "text/html": [
       "<div>\n",
       "<style scoped>\n",
       "    .dataframe tbody tr th:only-of-type {\n",
       "        vertical-align: middle;\n",
       "    }\n",
       "\n",
       "    .dataframe tbody tr th {\n",
       "        vertical-align: top;\n",
       "    }\n",
       "\n",
       "    .dataframe thead th {\n",
       "        text-align: right;\n",
       "    }\n",
       "</style>\n",
       "<table border=\"1\" class=\"dataframe\">\n",
       "  <thead>\n",
       "    <tr style=\"text-align: right;\">\n",
       "      <th></th>\n",
       "      <th>Group_Code</th>\n",
       "    </tr>\n",
       "  </thead>\n",
       "  <tbody>\n",
       "    <tr>\n",
       "      <th>NSABHC0015</th>\n",
       "      <td>6</td>\n",
       "    </tr>\n",
       "    <tr>\n",
       "      <th>NSABHC0018</th>\n",
       "      <td>6</td>\n",
       "    </tr>\n",
       "    <tr>\n",
       "      <th>NSABHC0019</th>\n",
       "      <td>6</td>\n",
       "    </tr>\n",
       "    <tr>\n",
       "      <th>NSABHC0020</th>\n",
       "      <td>6</td>\n",
       "    </tr>\n",
       "    <tr>\n",
       "      <th>NSABHC0021</th>\n",
       "      <td>6</td>\n",
       "    </tr>\n",
       "    <tr>\n",
       "      <th>...</th>\n",
       "      <td>...</td>\n",
       "    </tr>\n",
       "    <tr>\n",
       "      <th>WAAYAL0007</th>\n",
       "      <td>5</td>\n",
       "    </tr>\n",
       "    <tr>\n",
       "      <th>WAAYAL0008</th>\n",
       "      <td>5</td>\n",
       "    </tr>\n",
       "    <tr>\n",
       "      <th>WAGCOO0001</th>\n",
       "      <td>6</td>\n",
       "    </tr>\n",
       "    <tr>\n",
       "      <th>WAGCOO0002</th>\n",
       "      <td>6</td>\n",
       "    </tr>\n",
       "    <tr>\n",
       "      <th>WAGCOO0004</th>\n",
       "      <td>6</td>\n",
       "    </tr>\n",
       "  </tbody>\n",
       "</table>\n",
       "<p>738 rows × 1 columns</p>\n",
       "</div>"
      ],
      "text/plain": [
       "            Group_Code\n",
       "NSABHC0015           6\n",
       "NSABHC0018           6\n",
       "NSABHC0019           6\n",
       "NSABHC0020           6\n",
       "NSABHC0021           6\n",
       "...                ...\n",
       "WAAYAL0007           5\n",
       "WAAYAL0008           5\n",
       "WAGCOO0001           6\n",
       "WAGCOO0002           6\n",
       "WAGCOO0004           6\n",
       "\n",
       "[738 rows x 1 columns]"
      ]
     },
     "execution_count": 8,
     "metadata": {},
     "output_type": "execute_result"
    }
   ],
   "source": [
    "ausplots_classifications_subsetted"
   ]
  },
  {
   "cell_type": "code",
   "execution_count": 9,
   "id": "ffa7ff49-287f-440a-b74e-aa4702ec224b",
   "metadata": {
    "tags": []
   },
   "outputs": [],
   "source": [
    "avaliable_veg = avaliable_veg.set_index('site_location_name')"
   ]
  },
  {
   "cell_type": "code",
   "execution_count": 10,
   "id": "707a5f9d-d32b-4574-b984-7add953fb511",
   "metadata": {
    "tags": []
   },
   "outputs": [],
   "source": [
    "ausplots_classifications_subsetted = ausplots_classifications_subsetted.merge(avaliable_veg, left_index=True, right_index=True)"
   ]
  },
  {
   "cell_type": "code",
   "execution_count": 11,
   "id": "e3dd91c6-e3ad-4669-aa33-52cfc3b1b038",
   "metadata": {
    "tags": []
   },
   "outputs": [],
   "source": [
    "ausplots_classifications_subsetted_essential = ausplots_classifications_subsetted[['Group_Code', 'vegetation_type']].copy()\n",
    "\n",
    "for i in classifications.keys():\n",
    "    ausplots_classifications_subsetted_essential.loc[ausplots_classifications_subsetted_essential['Group_Code'] == i, 'Group_Code'] = classifications[i]"
   ]
  },
  {
   "cell_type": "code",
   "execution_count": 12,
   "id": "ecdec034-bcc2-47af-b123-3bda4209c315",
   "metadata": {
    "tags": []
   },
   "outputs": [],
   "source": [
    "# For the original 6 code numbers \n",
    "ausplots_classifications_subsetted_essential_counts = ausplots_classifications_subsetted_essential.groupby(['Group_Code', 'vegetation_type']).size()\n",
    "ausplots_classifications_subsetted_essential_counts = pd.DataFrame(ausplots_classifications_subsetted_essential_counts, columns = ['counts'])\n",
    "ausplots_classifications_subsetted_essential_counts.to_csv('../DATASETS/Australian Bioclimatic Regions/ausplots_bioclimatic_group_counts.csv')"
   ]
  },
  {
   "cell_type": "code",
   "execution_count": 22,
   "id": "be2374a9-54d3-4c4a-8880-da2cda9b9af6",
   "metadata": {
    "tags": []
   },
   "outputs": [
    {
     "name": "stdout",
     "output_type": "stream",
     "text": [
      "                                counts\n",
      "Group_Code     vegetation_type        \n",
      "Cool Temperate Bryophyte             1\n",
      "               Forb                  6\n",
      "               Heath.shrub           4\n",
      "               Rush                  4\n",
      "               Sedge                 2\n",
      "               Shrub                 3\n",
      "               Tree.Palm            10\n",
      "               Tussock.grass        15\n",
      "Desert         Chenopod             61\n",
      "               Forb                 39\n",
      "               Heath.shrub           2\n",
      "               Hummock.grass        39\n",
      "               Sedge                 1\n",
      "               Shrub                85\n",
      "               Shrub.Mallee          1\n",
      "               Tree.Mallee          16\n",
      "               Tree.Palm            56\n",
      "               Tussock.grass       101\n",
      "Mediterranean  Chenopod              2\n",
      "               Forb                  7\n",
      "               Heath.shrub           5\n",
      "               Sedge                 1\n",
      "               Shrub                45\n",
      "               Shrub.Mallee          1\n",
      "               Tree.Mallee          10\n",
      "               Tree.Palm            18\n",
      "               Tussock.grass         4\n",
      "Savanna        Chenopod              1\n",
      "               Hummock.grass        15\n",
      "               Sedge                 1\n",
      "               Shrub                11\n",
      "               Tree.Mallee           1\n",
      "               Tree.Palm            29\n",
      "               Tussock.grass        66\n",
      "Tropical       Sedge                 3\n",
      "               Shrub                 5\n",
      "               Tree.Palm            22\n",
      "               Tussock.grass        31\n",
      "Warm Temperate Shrub                 3\n",
      "               Tree.Palm            10\n",
      "               Tussock.grass         1\n"
     ]
    }
   ],
   "source": [
    "print(ausplots_classifications_subsetted_essential_counts)"
   ]
  },
  {
   "cell_type": "code",
   "execution_count": 14,
   "id": "43260db9-60a4-4e83-bef2-937b331a47b1",
   "metadata": {
    "tags": []
   },
   "outputs": [
    {
     "data": {
      "text/html": [
       "<div>\n",
       "<style scoped>\n",
       "    .dataframe tbody tr th:only-of-type {\n",
       "        vertical-align: middle;\n",
       "    }\n",
       "\n",
       "    .dataframe tbody tr th {\n",
       "        vertical-align: top;\n",
       "    }\n",
       "\n",
       "    .dataframe thead th {\n",
       "        text-align: right;\n",
       "    }\n",
       "</style>\n",
       "<table border=\"1\" class=\"dataframe\">\n",
       "  <thead>\n",
       "    <tr style=\"text-align: right;\">\n",
       "      <th></th>\n",
       "      <th></th>\n",
       "      <th>counts</th>\n",
       "    </tr>\n",
       "    <tr>\n",
       "      <th>Group_Code</th>\n",
       "      <th>vegetation_type</th>\n",
       "      <th></th>\n",
       "    </tr>\n",
       "  </thead>\n",
       "  <tbody>\n",
       "    <tr>\n",
       "      <th>Cool Temperate</th>\n",
       "      <th>Tussock.grass</th>\n",
       "      <td>15</td>\n",
       "    </tr>\n",
       "    <tr>\n",
       "      <th rowspan=\"7\" valign=\"top\">Desert</th>\n",
       "      <th>Chenopod</th>\n",
       "      <td>61</td>\n",
       "    </tr>\n",
       "    <tr>\n",
       "      <th>Forb</th>\n",
       "      <td>39</td>\n",
       "    </tr>\n",
       "    <tr>\n",
       "      <th>Hummock.grass</th>\n",
       "      <td>39</td>\n",
       "    </tr>\n",
       "    <tr>\n",
       "      <th>Shrub</th>\n",
       "      <td>85</td>\n",
       "    </tr>\n",
       "    <tr>\n",
       "      <th>Tree.Mallee</th>\n",
       "      <td>16</td>\n",
       "    </tr>\n",
       "    <tr>\n",
       "      <th>Tree.Palm</th>\n",
       "      <td>56</td>\n",
       "    </tr>\n",
       "    <tr>\n",
       "      <th>Tussock.grass</th>\n",
       "      <td>101</td>\n",
       "    </tr>\n",
       "    <tr>\n",
       "      <th rowspan=\"2\" valign=\"top\">Mediterranean</th>\n",
       "      <th>Shrub</th>\n",
       "      <td>45</td>\n",
       "    </tr>\n",
       "    <tr>\n",
       "      <th>Tree.Palm</th>\n",
       "      <td>18</td>\n",
       "    </tr>\n",
       "    <tr>\n",
       "      <th rowspan=\"4\" valign=\"top\">Savanna</th>\n",
       "      <th>Hummock.grass</th>\n",
       "      <td>15</td>\n",
       "    </tr>\n",
       "    <tr>\n",
       "      <th>Shrub</th>\n",
       "      <td>11</td>\n",
       "    </tr>\n",
       "    <tr>\n",
       "      <th>Tree.Palm</th>\n",
       "      <td>29</td>\n",
       "    </tr>\n",
       "    <tr>\n",
       "      <th>Tussock.grass</th>\n",
       "      <td>66</td>\n",
       "    </tr>\n",
       "    <tr>\n",
       "      <th rowspan=\"2\" valign=\"top\">Tropical</th>\n",
       "      <th>Tree.Palm</th>\n",
       "      <td>22</td>\n",
       "    </tr>\n",
       "    <tr>\n",
       "      <th>Tussock.grass</th>\n",
       "      <td>31</td>\n",
       "    </tr>\n",
       "  </tbody>\n",
       "</table>\n",
       "</div>"
      ],
      "text/plain": [
       "                                counts\n",
       "Group_Code     vegetation_type        \n",
       "Cool Temperate Tussock.grass        15\n",
       "Desert         Chenopod             61\n",
       "               Forb                 39\n",
       "               Hummock.grass        39\n",
       "               Shrub                85\n",
       "               Tree.Mallee          16\n",
       "               Tree.Palm            56\n",
       "               Tussock.grass       101\n",
       "Mediterranean  Shrub                45\n",
       "               Tree.Palm            18\n",
       "Savanna        Hummock.grass        15\n",
       "               Shrub                11\n",
       "               Tree.Palm            29\n",
       "               Tussock.grass        66\n",
       "Tropical       Tree.Palm            22\n",
       "               Tussock.grass        31"
      ]
     },
     "execution_count": 14,
     "metadata": {},
     "output_type": "execute_result"
    }
   ],
   "source": [
    "ausplots_classifications_subsetted_essential_counts[ausplots_classifications_subsetted_essential_counts['counts'] > 10]"
   ]
  },
  {
   "cell_type": "code",
   "execution_count": 15,
   "id": "fb0b71dd-e689-4dff-9908-67c2bf71f8a3",
   "metadata": {
    "tags": []
   },
   "outputs": [],
   "source": [
    "ausplots_classifications_subsetted_essential_larger_group = ausplots_classifications_subsetted[['Group_Code', 'vegetation_type']].copy()"
   ]
  },
  {
   "cell_type": "code",
   "execution_count": 16,
   "id": "464b8234-aa78-4f18-adfb-13bdf1c4be25",
   "metadata": {
    "tags": []
   },
   "outputs": [
    {
     "data": {
      "text/html": [
       "<div>\n",
       "<style scoped>\n",
       "    .dataframe tbody tr th:only-of-type {\n",
       "        vertical-align: middle;\n",
       "    }\n",
       "\n",
       "    .dataframe tbody tr th {\n",
       "        vertical-align: top;\n",
       "    }\n",
       "\n",
       "    .dataframe thead th {\n",
       "        text-align: right;\n",
       "    }\n",
       "</style>\n",
       "<table border=\"1\" class=\"dataframe\">\n",
       "  <thead>\n",
       "    <tr style=\"text-align: right;\">\n",
       "      <th></th>\n",
       "      <th>Group_Code</th>\n",
       "      <th>vegetation_type</th>\n",
       "    </tr>\n",
       "  </thead>\n",
       "  <tbody>\n",
       "    <tr>\n",
       "      <th>NSABHC0015</th>\n",
       "      <td>6</td>\n",
       "      <td>Tussock.grass</td>\n",
       "    </tr>\n",
       "    <tr>\n",
       "      <th>NSABHC0018</th>\n",
       "      <td>6</td>\n",
       "      <td>Tussock.grass</td>\n",
       "    </tr>\n",
       "    <tr>\n",
       "      <th>NSABHC0019</th>\n",
       "      <td>6</td>\n",
       "      <td>Tussock.grass</td>\n",
       "    </tr>\n",
       "    <tr>\n",
       "      <th>NSABHC0020</th>\n",
       "      <td>6</td>\n",
       "      <td>Tussock.grass</td>\n",
       "    </tr>\n",
       "    <tr>\n",
       "      <th>NSABHC0021</th>\n",
       "      <td>6</td>\n",
       "      <td>Tussock.grass</td>\n",
       "    </tr>\n",
       "    <tr>\n",
       "      <th>...</th>\n",
       "      <td>...</td>\n",
       "      <td>...</td>\n",
       "    </tr>\n",
       "    <tr>\n",
       "      <th>WAAYAL0007</th>\n",
       "      <td>5</td>\n",
       "      <td>Forb</td>\n",
       "    </tr>\n",
       "    <tr>\n",
       "      <th>WAAYAL0008</th>\n",
       "      <td>5</td>\n",
       "      <td>Shrub</td>\n",
       "    </tr>\n",
       "    <tr>\n",
       "      <th>WAGCOO0001</th>\n",
       "      <td>6</td>\n",
       "      <td>Tree.Palm</td>\n",
       "    </tr>\n",
       "    <tr>\n",
       "      <th>WAGCOO0002</th>\n",
       "      <td>6</td>\n",
       "      <td>Hummock.grass</td>\n",
       "    </tr>\n",
       "    <tr>\n",
       "      <th>WAGCOO0004</th>\n",
       "      <td>6</td>\n",
       "      <td>Chenopod</td>\n",
       "    </tr>\n",
       "  </tbody>\n",
       "</table>\n",
       "<p>738 rows × 2 columns</p>\n",
       "</div>"
      ],
      "text/plain": [
       "            Group_Code vegetation_type\n",
       "NSABHC0015           6   Tussock.grass\n",
       "NSABHC0018           6   Tussock.grass\n",
       "NSABHC0019           6   Tussock.grass\n",
       "NSABHC0020           6   Tussock.grass\n",
       "NSABHC0021           6   Tussock.grass\n",
       "...                ...             ...\n",
       "WAAYAL0007           5            Forb\n",
       "WAAYAL0008           5           Shrub\n",
       "WAGCOO0001           6       Tree.Palm\n",
       "WAGCOO0002           6   Hummock.grass\n",
       "WAGCOO0004           6        Chenopod\n",
       "\n",
       "[738 rows x 2 columns]"
      ]
     },
     "execution_count": 16,
     "metadata": {},
     "output_type": "execute_result"
    }
   ],
   "source": [
    "ausplots_classifications_subsetted_essential_larger_group"
   ]
  },
  {
   "cell_type": "code",
   "execution_count": 17,
   "id": "d684f72e-9613-4782-83ba-ecedde75611d",
   "metadata": {
    "tags": []
   },
   "outputs": [],
   "source": [
    "for i in Broader_Classifications.keys():\n",
    "    ausplots_classifications_subsetted_essential_larger_group.loc[ausplots_classifications_subsetted_essential_larger_group['Group_Code'] == i, 'Group_Code'] = Broader_Classifications[i]"
   ]
  },
  {
   "cell_type": "code",
   "execution_count": 18,
   "id": "e626c4f6-2363-4a83-a936-01ff6346f57c",
   "metadata": {
    "tags": []
   },
   "outputs": [],
   "source": [
    "counts_ausplots_larger = ausplots_classifications_subsetted_essential_larger_group.groupby(['Group_Code', 'vegetation_type']).size()"
   ]
  },
  {
   "cell_type": "code",
   "execution_count": 19,
   "id": "454874c1-9ec6-4d12-85fe-94752073e0a8",
   "metadata": {
    "tags": []
   },
   "outputs": [],
   "source": [
    "counts_ausplots_larger = pd.DataFrame(counts_ausplots_larger, columns = ['counts'])"
   ]
  },
  {
   "cell_type": "code",
   "execution_count": 20,
   "id": "c7d21dce-1c7b-403f-9290-d8edb1c654d6",
   "metadata": {
    "tags": []
   },
   "outputs": [],
   "source": [
    "counts_ausplots_larger.to_csv('../DATASETS/Australian Bioclimatic Regions/ausplots_bioclimatic_group_aggregated_counts.csv')"
   ]
  },
  {
   "cell_type": "code",
   "execution_count": 24,
   "id": "3177baf5-6d3a-42ea-b390-259aaaff1107",
   "metadata": {
    "tags": []
   },
   "outputs": [
    {
     "name": "stdout",
     "output_type": "stream",
     "text": [
      "                                  counts\n",
      "Group_Code       vegetation_type        \n",
      "Desert           Chenopod             61\n",
      "                 Forb                 39\n",
      "                 Heath.shrub           2\n",
      "                 Hummock.grass        39\n",
      "                 Sedge                 1\n",
      "                 Shrub                85\n",
      "                 Shrub.Mallee          1\n",
      "                 Tree.Mallee          16\n",
      "                 Tree.Palm            56\n",
      "                 Tussock.grass       101\n",
      "Temp/Med         Bryophyte             1\n",
      "                 Chenopod              2\n",
      "                 Forb                 13\n",
      "                 Heath.shrub           9\n",
      "                 Rush                  4\n",
      "                 Sedge                 3\n",
      "                 Shrub                51\n",
      "                 Shrub.Mallee          1\n",
      "                 Tree.Mallee          10\n",
      "                 Tree.Palm            38\n",
      "                 Tussock.grass        20\n",
      "Tropical/Savanna Chenopod              1\n",
      "                 Hummock.grass        15\n",
      "                 Sedge                 4\n",
      "                 Shrub                16\n",
      "                 Tree.Mallee           1\n",
      "                 Tree.Palm            51\n",
      "                 Tussock.grass        97\n"
     ]
    }
   ],
   "source": [
    "print(counts_ausplots_larger)"
   ]
  },
  {
   "cell_type": "code",
   "execution_count": 21,
   "id": "d23f1595-06e7-4c94-b9d2-95a5a0b4b703",
   "metadata": {
    "tags": []
   },
   "outputs": [
    {
     "data": {
      "text/html": [
       "<div>\n",
       "<style scoped>\n",
       "    .dataframe tbody tr th:only-of-type {\n",
       "        vertical-align: middle;\n",
       "    }\n",
       "\n",
       "    .dataframe tbody tr th {\n",
       "        vertical-align: top;\n",
       "    }\n",
       "\n",
       "    .dataframe thead th {\n",
       "        text-align: right;\n",
       "    }\n",
       "</style>\n",
       "<table border=\"1\" class=\"dataframe\">\n",
       "  <thead>\n",
       "    <tr style=\"text-align: right;\">\n",
       "      <th></th>\n",
       "      <th></th>\n",
       "      <th>counts</th>\n",
       "    </tr>\n",
       "    <tr>\n",
       "      <th>Group_Code</th>\n",
       "      <th>vegetation_type</th>\n",
       "      <th></th>\n",
       "    </tr>\n",
       "  </thead>\n",
       "  <tbody>\n",
       "    <tr>\n",
       "      <th rowspan=\"7\" valign=\"top\">Desert</th>\n",
       "      <th>Chenopod</th>\n",
       "      <td>61</td>\n",
       "    </tr>\n",
       "    <tr>\n",
       "      <th>Forb</th>\n",
       "      <td>39</td>\n",
       "    </tr>\n",
       "    <tr>\n",
       "      <th>Hummock.grass</th>\n",
       "      <td>39</td>\n",
       "    </tr>\n",
       "    <tr>\n",
       "      <th>Shrub</th>\n",
       "      <td>85</td>\n",
       "    </tr>\n",
       "    <tr>\n",
       "      <th>Tree.Mallee</th>\n",
       "      <td>16</td>\n",
       "    </tr>\n",
       "    <tr>\n",
       "      <th>Tree.Palm</th>\n",
       "      <td>56</td>\n",
       "    </tr>\n",
       "    <tr>\n",
       "      <th>Tussock.grass</th>\n",
       "      <td>101</td>\n",
       "    </tr>\n",
       "    <tr>\n",
       "      <th rowspan=\"4\" valign=\"top\">Temp/Med</th>\n",
       "      <th>Forb</th>\n",
       "      <td>13</td>\n",
       "    </tr>\n",
       "    <tr>\n",
       "      <th>Shrub</th>\n",
       "      <td>51</td>\n",
       "    </tr>\n",
       "    <tr>\n",
       "      <th>Tree.Palm</th>\n",
       "      <td>38</td>\n",
       "    </tr>\n",
       "    <tr>\n",
       "      <th>Tussock.grass</th>\n",
       "      <td>20</td>\n",
       "    </tr>\n",
       "    <tr>\n",
       "      <th rowspan=\"4\" valign=\"top\">Tropical/Savanna</th>\n",
       "      <th>Hummock.grass</th>\n",
       "      <td>15</td>\n",
       "    </tr>\n",
       "    <tr>\n",
       "      <th>Shrub</th>\n",
       "      <td>16</td>\n",
       "    </tr>\n",
       "    <tr>\n",
       "      <th>Tree.Palm</th>\n",
       "      <td>51</td>\n",
       "    </tr>\n",
       "    <tr>\n",
       "      <th>Tussock.grass</th>\n",
       "      <td>97</td>\n",
       "    </tr>\n",
       "  </tbody>\n",
       "</table>\n",
       "</div>"
      ],
      "text/plain": [
       "                                  counts\n",
       "Group_Code       vegetation_type        \n",
       "Desert           Chenopod             61\n",
       "                 Forb                 39\n",
       "                 Hummock.grass        39\n",
       "                 Shrub                85\n",
       "                 Tree.Mallee          16\n",
       "                 Tree.Palm            56\n",
       "                 Tussock.grass       101\n",
       "Temp/Med         Forb                 13\n",
       "                 Shrub                51\n",
       "                 Tree.Palm            38\n",
       "                 Tussock.grass        20\n",
       "Tropical/Savanna Hummock.grass        15\n",
       "                 Shrub                16\n",
       "                 Tree.Palm            51\n",
       "                 Tussock.grass        97"
      ]
     },
     "execution_count": 21,
     "metadata": {},
     "output_type": "execute_result"
    }
   ],
   "source": [
    "counts_ausplots_larger[counts_ausplots_larger['counts'] > 10]"
   ]
  },
  {
   "cell_type": "code",
   "execution_count": 28,
   "id": "b7cec46c-6968-4005-9246-ffbbe9f7d789",
   "metadata": {
    "tags": []
   },
   "outputs": [
    {
     "ename": "UnicodeDecodeError",
     "evalue": "'utf-8' codec can't decode byte 0x99 in position 22: invalid start byte",
     "output_type": "error",
     "traceback": [
      "\u001b[1;31m---------------------------------------------------------------------------\u001b[0m",
      "\u001b[1;31mUnicodeDecodeError\u001b[0m                        Traceback (most recent call last)",
      "Cell \u001b[1;32mIn[28], line 1\u001b[0m\n\u001b[1;32m----> 1\u001b[0m pd\u001b[38;5;241m.\u001b[39mread_csv(\u001b[38;5;124m\"\u001b[39m\u001b[38;5;124m../DATASETS/Australian Bioclimatic Regions/ausplots_bioclimatic_group_aggregated_counts_2.xlsx\u001b[39m\u001b[38;5;124m\"\u001b[39m)\n",
      "File \u001b[1;32m~\\anaconda3\\Lib\\site-packages\\pandas\\io\\parsers\\readers.py:912\u001b[0m, in \u001b[0;36mread_csv\u001b[1;34m(filepath_or_buffer, sep, delimiter, header, names, index_col, usecols, dtype, engine, converters, true_values, false_values, skipinitialspace, skiprows, skipfooter, nrows, na_values, keep_default_na, na_filter, verbose, skip_blank_lines, parse_dates, infer_datetime_format, keep_date_col, date_parser, date_format, dayfirst, cache_dates, iterator, chunksize, compression, thousands, decimal, lineterminator, quotechar, quoting, doublequote, escapechar, comment, encoding, encoding_errors, dialect, on_bad_lines, delim_whitespace, low_memory, memory_map, float_precision, storage_options, dtype_backend)\u001b[0m\n\u001b[0;32m    899\u001b[0m kwds_defaults \u001b[38;5;241m=\u001b[39m _refine_defaults_read(\n\u001b[0;32m    900\u001b[0m     dialect,\n\u001b[0;32m    901\u001b[0m     delimiter,\n\u001b[1;32m   (...)\u001b[0m\n\u001b[0;32m    908\u001b[0m     dtype_backend\u001b[38;5;241m=\u001b[39mdtype_backend,\n\u001b[0;32m    909\u001b[0m )\n\u001b[0;32m    910\u001b[0m kwds\u001b[38;5;241m.\u001b[39mupdate(kwds_defaults)\n\u001b[1;32m--> 912\u001b[0m \u001b[38;5;28;01mreturn\u001b[39;00m _read(filepath_or_buffer, kwds)\n",
      "File \u001b[1;32m~\\anaconda3\\Lib\\site-packages\\pandas\\io\\parsers\\readers.py:577\u001b[0m, in \u001b[0;36m_read\u001b[1;34m(filepath_or_buffer, kwds)\u001b[0m\n\u001b[0;32m    574\u001b[0m _validate_names(kwds\u001b[38;5;241m.\u001b[39mget(\u001b[38;5;124m\"\u001b[39m\u001b[38;5;124mnames\u001b[39m\u001b[38;5;124m\"\u001b[39m, \u001b[38;5;28;01mNone\u001b[39;00m))\n\u001b[0;32m    576\u001b[0m \u001b[38;5;66;03m# Create the parser.\u001b[39;00m\n\u001b[1;32m--> 577\u001b[0m parser \u001b[38;5;241m=\u001b[39m TextFileReader(filepath_or_buffer, \u001b[38;5;241m*\u001b[39m\u001b[38;5;241m*\u001b[39mkwds)\n\u001b[0;32m    579\u001b[0m \u001b[38;5;28;01mif\u001b[39;00m chunksize \u001b[38;5;129;01mor\u001b[39;00m iterator:\n\u001b[0;32m    580\u001b[0m     \u001b[38;5;28;01mreturn\u001b[39;00m parser\n",
      "File \u001b[1;32m~\\anaconda3\\Lib\\site-packages\\pandas\\io\\parsers\\readers.py:1407\u001b[0m, in \u001b[0;36mTextFileReader.__init__\u001b[1;34m(self, f, engine, **kwds)\u001b[0m\n\u001b[0;32m   1404\u001b[0m     \u001b[38;5;28mself\u001b[39m\u001b[38;5;241m.\u001b[39moptions[\u001b[38;5;124m\"\u001b[39m\u001b[38;5;124mhas_index_names\u001b[39m\u001b[38;5;124m\"\u001b[39m] \u001b[38;5;241m=\u001b[39m kwds[\u001b[38;5;124m\"\u001b[39m\u001b[38;5;124mhas_index_names\u001b[39m\u001b[38;5;124m\"\u001b[39m]\n\u001b[0;32m   1406\u001b[0m \u001b[38;5;28mself\u001b[39m\u001b[38;5;241m.\u001b[39mhandles: IOHandles \u001b[38;5;241m|\u001b[39m \u001b[38;5;28;01mNone\u001b[39;00m \u001b[38;5;241m=\u001b[39m \u001b[38;5;28;01mNone\u001b[39;00m\n\u001b[1;32m-> 1407\u001b[0m \u001b[38;5;28mself\u001b[39m\u001b[38;5;241m.\u001b[39m_engine \u001b[38;5;241m=\u001b[39m \u001b[38;5;28mself\u001b[39m\u001b[38;5;241m.\u001b[39m_make_engine(f, \u001b[38;5;28mself\u001b[39m\u001b[38;5;241m.\u001b[39mengine)\n",
      "File \u001b[1;32m~\\anaconda3\\Lib\\site-packages\\pandas\\io\\parsers\\readers.py:1679\u001b[0m, in \u001b[0;36mTextFileReader._make_engine\u001b[1;34m(self, f, engine)\u001b[0m\n\u001b[0;32m   1676\u001b[0m     \u001b[38;5;28;01mraise\u001b[39;00m \u001b[38;5;167;01mValueError\u001b[39;00m(msg)\n\u001b[0;32m   1678\u001b[0m \u001b[38;5;28;01mtry\u001b[39;00m:\n\u001b[1;32m-> 1679\u001b[0m     \u001b[38;5;28;01mreturn\u001b[39;00m mapping[engine](f, \u001b[38;5;241m*\u001b[39m\u001b[38;5;241m*\u001b[39m\u001b[38;5;28mself\u001b[39m\u001b[38;5;241m.\u001b[39moptions)\n\u001b[0;32m   1680\u001b[0m \u001b[38;5;28;01mexcept\u001b[39;00m \u001b[38;5;167;01mException\u001b[39;00m:\n\u001b[0;32m   1681\u001b[0m     \u001b[38;5;28;01mif\u001b[39;00m \u001b[38;5;28mself\u001b[39m\u001b[38;5;241m.\u001b[39mhandles \u001b[38;5;129;01mis\u001b[39;00m \u001b[38;5;129;01mnot\u001b[39;00m \u001b[38;5;28;01mNone\u001b[39;00m:\n",
      "File \u001b[1;32m~\\anaconda3\\Lib\\site-packages\\pandas\\io\\parsers\\c_parser_wrapper.py:93\u001b[0m, in \u001b[0;36mCParserWrapper.__init__\u001b[1;34m(self, src, **kwds)\u001b[0m\n\u001b[0;32m     90\u001b[0m \u001b[38;5;28;01mif\u001b[39;00m kwds[\u001b[38;5;124m\"\u001b[39m\u001b[38;5;124mdtype_backend\u001b[39m\u001b[38;5;124m\"\u001b[39m] \u001b[38;5;241m==\u001b[39m \u001b[38;5;124m\"\u001b[39m\u001b[38;5;124mpyarrow\u001b[39m\u001b[38;5;124m\"\u001b[39m:\n\u001b[0;32m     91\u001b[0m     \u001b[38;5;66;03m# Fail here loudly instead of in cython after reading\u001b[39;00m\n\u001b[0;32m     92\u001b[0m     import_optional_dependency(\u001b[38;5;124m\"\u001b[39m\u001b[38;5;124mpyarrow\u001b[39m\u001b[38;5;124m\"\u001b[39m)\n\u001b[1;32m---> 93\u001b[0m \u001b[38;5;28mself\u001b[39m\u001b[38;5;241m.\u001b[39m_reader \u001b[38;5;241m=\u001b[39m parsers\u001b[38;5;241m.\u001b[39mTextReader(src, \u001b[38;5;241m*\u001b[39m\u001b[38;5;241m*\u001b[39mkwds)\n\u001b[0;32m     95\u001b[0m \u001b[38;5;28mself\u001b[39m\u001b[38;5;241m.\u001b[39munnamed_cols \u001b[38;5;241m=\u001b[39m \u001b[38;5;28mself\u001b[39m\u001b[38;5;241m.\u001b[39m_reader\u001b[38;5;241m.\u001b[39munnamed_cols\n\u001b[0;32m     97\u001b[0m \u001b[38;5;66;03m# error: Cannot determine type of 'names'\u001b[39;00m\n",
      "File \u001b[1;32m~\\anaconda3\\Lib\\site-packages\\pandas\\_libs\\parsers.pyx:550\u001b[0m, in \u001b[0;36mpandas._libs.parsers.TextReader.__cinit__\u001b[1;34m()\u001b[0m\n",
      "File \u001b[1;32m~\\anaconda3\\Lib\\site-packages\\pandas\\_libs\\parsers.pyx:639\u001b[0m, in \u001b[0;36mpandas._libs.parsers.TextReader._get_header\u001b[1;34m()\u001b[0m\n",
      "File \u001b[1;32m~\\anaconda3\\Lib\\site-packages\\pandas\\_libs\\parsers.pyx:850\u001b[0m, in \u001b[0;36mpandas._libs.parsers.TextReader._tokenize_rows\u001b[1;34m()\u001b[0m\n",
      "File \u001b[1;32m~\\anaconda3\\Lib\\site-packages\\pandas\\_libs\\parsers.pyx:861\u001b[0m, in \u001b[0;36mpandas._libs.parsers.TextReader._check_tokenize_status\u001b[1;34m()\u001b[0m\n",
      "File \u001b[1;32m~\\anaconda3\\Lib\\site-packages\\pandas\\_libs\\parsers.pyx:2021\u001b[0m, in \u001b[0;36mpandas._libs.parsers.raise_parser_error\u001b[1;34m()\u001b[0m\n",
      "\u001b[1;31mUnicodeDecodeError\u001b[0m: 'utf-8' codec can't decode byte 0x99 in position 22: invalid start byte"
     ]
    }
   ],
   "source": [
    "pd.read_csv(\"../DATASETS/Australian Bioclimatic Regions/ausplots_bioclimatic_group_aggregated_counts_2.xlsx\")"
   ]
  },
  {
   "cell_type": "code",
   "execution_count": null,
   "id": "66a199b4-110f-44c1-b38b-dda6e8cc5de4",
   "metadata": {},
   "outputs": [],
   "source": []
  }
 ],
 "metadata": {
  "kernelspec": {
   "display_name": "Python 3 (ipykernel)",
   "language": "python",
   "name": "python3"
  },
  "language_info": {
   "codemirror_mode": {
    "name": "ipython",
    "version": 3
   },
   "file_extension": ".py",
   "mimetype": "text/x-python",
   "name": "python",
   "nbconvert_exporter": "python",
   "pygments_lexer": "ipython3",
   "version": "3.11.5"
  }
 },
 "nbformat": 4,
 "nbformat_minor": 5
}
