{
 "cells": [
  {
   "cell_type": "markdown",
   "id": "a9cc9d53-d680-4b09-a7b2-a0b261bafd42",
   "metadata": {
    "tags": []
   },
   "source": [
    "# Calculate PhotoPeriod"
   ]
  },
  {
   "cell_type": "code",
   "execution_count": null,
   "id": "20f46b59-e3a5-41e1-853a-7b0bd82daf3c",
   "metadata": {},
   "outputs": [],
   "source": []
  }
 ],
 "metadata": {
  "kernelspec": {
   "display_name": "R",
   "language": "R",
   "name": "ir"
  },
  "language_info": {
   "codemirror_mode": "r",
   "file_extension": ".r",
   "mimetype": "text/x-r-source",
   "name": "R",
   "pygments_lexer": "r",
   "version": "3.6.1"
  }
 },
 "nbformat": 4,
 "nbformat_minor": 5
}
