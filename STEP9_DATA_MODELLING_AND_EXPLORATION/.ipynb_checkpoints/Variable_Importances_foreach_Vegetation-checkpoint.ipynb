{
 "cells": [
  {
   "cell_type": "markdown",
   "id": "b32c682c-134f-4266-bdd7-498ce9524863",
   "metadata": {},
   "source": [
    "# Visualise Importance "
   ]
  },
  {
   "cell_type": "code",
   "execution_count": null,
   "id": "e864fcbd-0960-4574-b3a2-283567745f43",
   "metadata": {},
   "outputs": [],
   "source": []
  }
 ],
 "metadata": {
  "kernelspec": {
   "display_name": "Python 3 (ipykernel)",
   "language": "python",
   "name": "python3"
  },
  "language_info": {
   "codemirror_mode": {
    "name": "ipython",
    "version": 3
   },
   "file_extension": ".py",
   "mimetype": "text/x-python",
   "name": "python",
   "nbconvert_exporter": "python",
   "pygments_lexer": "ipython3",
   "version": "3.11.5"
  }
 },
 "nbformat": 4,
 "nbformat_minor": 5
}
