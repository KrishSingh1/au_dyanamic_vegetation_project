{
 "cells": [
  {
   "cell_type": "code",
   "execution_count": 1,
   "id": "7d8c60e6-6ab2-4c8f-b705-39d7b84d910a",
   "metadata": {
    "tags": []
   },
   "outputs": [],
   "source": [
    "import pandas as pd"
   ]
  },
  {
   "cell_type": "code",
   "execution_count": 2,
   "id": "ad2f1038-2d6f-4f86-8936-11c203e89312",
   "metadata": {
    "tags": []
   },
   "outputs": [],
   "source": [
    "sites_info = pd.read_csv('../DATASETS/AusPlots_Extracted_Data/Final/extracted_Final_site_info_2-0-6.csv', index_col = 0)\n",
    "classifications = {0: 'Unclassed', \n",
    "                   1: 'Tropical',\n",
    "                   2: 'Savanna',\n",
    "                   3: 'Warm Temperate',\n",
    "                   4: 'Cool Temperate',\n",
    "                   5: 'Mediterranean',\n",
    "                   6: 'Desert'}\n",
    "\n",
    "Broader_Classifications = {0: 'Unclassed',\n",
    "                          1: 'Tropical/Savanna',\n",
    "                          2: 'Tropical/Savanna',\n",
    "                          3: 'Temp/Med',\n",
    "                          4: 'Temp/Med',\n",
    "                          5: 'Temp/Med',\n",
    "                          6: 'Desert'}"
   ]
  },
  {
   "cell_type": "code",
   "execution_count": 3,
   "id": "57e8c5b9-95b3-449a-a5bd-1b784da91e91",
   "metadata": {
    "tags": []
   },
   "outputs": [
    {
     "data": {
      "text/html": [
       "<div>\n",
       "<style scoped>\n",
       "    .dataframe tbody tr th:only-of-type {\n",
       "        vertical-align: middle;\n",
       "    }\n",
       "\n",
       "    .dataframe tbody tr th {\n",
       "        vertical-align: top;\n",
       "    }\n",
       "\n",
       "    .dataframe thead th {\n",
       "        text-align: right;\n",
       "    }\n",
       "</style>\n",
       "<table border=\"1\" class=\"dataframe\">\n",
       "  <thead>\n",
       "    <tr style=\"text-align: right;\">\n",
       "      <th></th>\n",
       "      <th>site_location_name</th>\n",
       "      <th>is_complete</th>\n",
       "    </tr>\n",
       "  </thead>\n",
       "  <tbody>\n",
       "    <tr>\n",
       "      <th>0</th>\n",
       "      <td>QDAGUP0011</td>\n",
       "      <td>1</td>\n",
       "    </tr>\n",
       "    <tr>\n",
       "      <th>1</th>\n",
       "      <td>NSAMDD0016</td>\n",
       "      <td>1</td>\n",
       "    </tr>\n",
       "    <tr>\n",
       "      <th>2</th>\n",
       "      <td>QDACHC0004</td>\n",
       "      <td>1</td>\n",
       "    </tr>\n",
       "    <tr>\n",
       "      <th>3</th>\n",
       "      <td>NSAMDD0026</td>\n",
       "      <td>1</td>\n",
       "    </tr>\n",
       "    <tr>\n",
       "      <th>4</th>\n",
       "      <td>NTABRT0003</td>\n",
       "      <td>1</td>\n",
       "    </tr>\n",
       "  </tbody>\n",
       "</table>\n",
       "</div>"
      ],
      "text/plain": [
       "  site_location_name  is_complete\n",
       "0         QDAGUP0011            1\n",
       "1         NSAMDD0016            1\n",
       "2         QDACHC0004            1\n",
       "3         NSAMDD0026            1\n",
       "4         NTABRT0003            1"
      ]
     },
     "execution_count": 3,
     "metadata": {},
     "output_type": "execute_result"
    }
   ],
   "source": [
    "sites_info_completed = pd.read_csv('../DATASETS/AusPlots_Extracted_Data/Final/completed_AusPlots_dataset_2-0-6.csv', index_col = 0)\n",
    "sites_info_completed.head()"
   ]
  },
  {
   "cell_type": "code",
   "execution_count": 4,
   "id": "95ef5c10-1da3-4937-927d-3faca32e1a40",
   "metadata": {
    "tags": []
   },
   "outputs": [],
   "source": [
    "avaliable_veg = pd.read_csv('../DATASETS/AusPlots_Extracted_Data/Final/growth_forms_classification_by_dom_species_final_2-0-6.csv', index_col = 0)"
   ]
  },
  {
   "cell_type": "code",
   "execution_count": 5,
   "id": "c71d86cd-faa9-45e6-9572-b77bbd792182",
   "metadata": {
    "tags": []
   },
   "outputs": [],
   "source": [
    "ausplots_classifications = pd.read_csv('../DATASETS/Australian Bioclimatic Regions/AusPlots_Bioregion_Classifications.csv', index_col = 0)"
   ]
  },
  {
   "cell_type": "code",
   "execution_count": 6,
   "id": "feaa04f8-dc57-4fd5-9f88-09a46deeb22b",
   "metadata": {
    "tags": []
   },
   "outputs": [],
   "source": [
    "valid_sites_list = sites_info_completed['site_location_name'].values"
   ]
  },
  {
   "cell_type": "code",
   "execution_count": 7,
   "id": "0d5fd2ad-92f3-409f-9ecd-652a61d114be",
   "metadata": {
    "tags": []
   },
   "outputs": [],
   "source": [
    "ausplots_classifications_subsetted = ausplots_classifications.iloc[ausplots_classifications.index.isin(valid_sites_list)]"
   ]
  },
  {
   "cell_type": "code",
   "execution_count": 8,
   "id": "c55e7283-0acd-4828-97d1-861068d5e91e",
   "metadata": {
    "tags": []
   },
   "outputs": [
    {
     "data": {
      "text/html": [
       "<div>\n",
       "<style scoped>\n",
       "    .dataframe tbody tr th:only-of-type {\n",
       "        vertical-align: middle;\n",
       "    }\n",
       "\n",
       "    .dataframe tbody tr th {\n",
       "        vertical-align: top;\n",
       "    }\n",
       "\n",
       "    .dataframe thead th {\n",
       "        text-align: right;\n",
       "    }\n",
       "</style>\n",
       "<table border=\"1\" class=\"dataframe\">\n",
       "  <thead>\n",
       "    <tr style=\"text-align: right;\">\n",
       "      <th></th>\n",
       "      <th>Group_Code</th>\n",
       "    </tr>\n",
       "  </thead>\n",
       "  <tbody>\n",
       "    <tr>\n",
       "      <th>NSABHC0015</th>\n",
       "      <td>6</td>\n",
       "    </tr>\n",
       "    <tr>\n",
       "      <th>NSABHC0018</th>\n",
       "      <td>6</td>\n",
       "    </tr>\n",
       "    <tr>\n",
       "      <th>NSABHC0019</th>\n",
       "      <td>6</td>\n",
       "    </tr>\n",
       "    <tr>\n",
       "      <th>NSABHC0020</th>\n",
       "      <td>6</td>\n",
       "    </tr>\n",
       "    <tr>\n",
       "      <th>NSABHC0021</th>\n",
       "      <td>6</td>\n",
       "    </tr>\n",
       "    <tr>\n",
       "      <th>...</th>\n",
       "      <td>...</td>\n",
       "    </tr>\n",
       "    <tr>\n",
       "      <th>WAAYAL0007</th>\n",
       "      <td>5</td>\n",
       "    </tr>\n",
       "    <tr>\n",
       "      <th>WAAYAL0008</th>\n",
       "      <td>5</td>\n",
       "    </tr>\n",
       "    <tr>\n",
       "      <th>WAGCOO0001</th>\n",
       "      <td>6</td>\n",
       "    </tr>\n",
       "    <tr>\n",
       "      <th>WAGCOO0002</th>\n",
       "      <td>6</td>\n",
       "    </tr>\n",
       "    <tr>\n",
       "      <th>WAGCOO0004</th>\n",
       "      <td>6</td>\n",
       "    </tr>\n",
       "  </tbody>\n",
       "</table>\n",
       "<p>738 rows × 1 columns</p>\n",
       "</div>"
      ],
      "text/plain": [
       "            Group_Code\n",
       "NSABHC0015           6\n",
       "NSABHC0018           6\n",
       "NSABHC0019           6\n",
       "NSABHC0020           6\n",
       "NSABHC0021           6\n",
       "...                ...\n",
       "WAAYAL0007           5\n",
       "WAAYAL0008           5\n",
       "WAGCOO0001           6\n",
       "WAGCOO0002           6\n",
       "WAGCOO0004           6\n",
       "\n",
       "[738 rows x 1 columns]"
      ]
     },
     "execution_count": 8,
     "metadata": {},
     "output_type": "execute_result"
    }
   ],
   "source": [
    "ausplots_classifications_subsetted"
   ]
  },
  {
   "cell_type": "code",
   "execution_count": 9,
   "id": "ffa7ff49-287f-440a-b74e-aa4702ec224b",
   "metadata": {
    "tags": []
   },
   "outputs": [],
   "source": [
    "avaliable_veg = avaliable_veg.set_index('site_location_name')"
   ]
  },
  {
   "cell_type": "code",
   "execution_count": 10,
   "id": "707a5f9d-d32b-4574-b984-7add953fb511",
   "metadata": {
    "tags": []
   },
   "outputs": [],
   "source": [
    "ausplots_classifications_subsetted = ausplots_classifications_subsetted.merge(avaliable_veg, left_index=True, right_index=True)"
   ]
  },
  {
   "cell_type": "code",
   "execution_count": 11,
   "id": "e3dd91c6-e3ad-4669-aa33-52cfc3b1b038",
   "metadata": {
    "tags": []
   },
   "outputs": [],
   "source": [
    "ausplots_classifications_subsetted_essential = ausplots_classifications_subsetted[['Group_Code', 'vegetation_type']].copy()\n",
    "\n",
    "for i in classifications.keys():\n",
    "    ausplots_classifications_subsetted_essential.loc[ausplots_classifications_subsetted_essential['Group_Code'] == i, 'Group_Code'] = classifications[i]"
   ]
  },
  {
   "cell_type": "code",
   "execution_count": 12,
   "id": "ecdec034-bcc2-47af-b123-3bda4209c315",
   "metadata": {
    "tags": []
   },
   "outputs": [
    {
     "data": {
      "text/plain": [
       "Group_Code      vegetation_type\n",
       "Cool Temperate  Bryophyte            1\n",
       "                Forb                 6\n",
       "                Heath.shrub          4\n",
       "                Rush                 4\n",
       "                Sedge                2\n",
       "                Shrub                3\n",
       "                Tree.Palm           10\n",
       "                Tussock.grass       15\n",
       "Desert          Chenopod            61\n",
       "                Forb                39\n",
       "                Heath.shrub          2\n",
       "                Hummock.grass       39\n",
       "                Sedge                1\n",
       "                Shrub               85\n",
       "                Shrub.Mallee         1\n",
       "                Tree.Mallee         16\n",
       "                Tree.Palm           56\n",
       "                Tussock.grass      101\n",
       "Mediterranean   Chenopod             2\n",
       "                Forb                 7\n",
       "                Heath.shrub          5\n",
       "                Sedge                1\n",
       "                Shrub               45\n",
       "                Shrub.Mallee         1\n",
       "                Tree.Mallee         10\n",
       "                Tree.Palm           18\n",
       "                Tussock.grass        4\n",
       "Savanna         Chenopod             1\n",
       "                Hummock.grass       15\n",
       "                Sedge                1\n",
       "                Shrub               11\n",
       "                Tree.Mallee          1\n",
       "                Tree.Palm           29\n",
       "                Tussock.grass       66\n",
       "Tropical        Sedge                3\n",
       "                Shrub                5\n",
       "                Tree.Palm           22\n",
       "                Tussock.grass       31\n",
       "Warm Temperate  Shrub                3\n",
       "                Tree.Palm           10\n",
       "                Tussock.grass        1\n",
       "dtype: int64"
      ]
     },
     "execution_count": 12,
     "metadata": {},
     "output_type": "execute_result"
    }
   ],
   "source": [
    "# For the original 6 code numbers \n",
    "ausplots_classifications_subsetted_essential.groupby(['Group_Code', 'vegetation_type']).size()"
   ]
  },
  {
   "cell_type": "code",
   "execution_count": 13,
   "id": "fb0b71dd-e689-4dff-9908-67c2bf71f8a3",
   "metadata": {
    "tags": []
   },
   "outputs": [],
   "source": [
    "ausplots_classifications_subsetted_essential_larger_group = ausplots_classifications_subsetted[['Group_Code', 'vegetation_type']].copy()"
   ]
  },
  {
   "cell_type": "code",
   "execution_count": 14,
   "id": "464b8234-aa78-4f18-adfb-13bdf1c4be25",
   "metadata": {
    "tags": []
   },
   "outputs": [
    {
     "data": {
      "text/html": [
       "<div>\n",
       "<style scoped>\n",
       "    .dataframe tbody tr th:only-of-type {\n",
       "        vertical-align: middle;\n",
       "    }\n",
       "\n",
       "    .dataframe tbody tr th {\n",
       "        vertical-align: top;\n",
       "    }\n",
       "\n",
       "    .dataframe thead th {\n",
       "        text-align: right;\n",
       "    }\n",
       "</style>\n",
       "<table border=\"1\" class=\"dataframe\">\n",
       "  <thead>\n",
       "    <tr style=\"text-align: right;\">\n",
       "      <th></th>\n",
       "      <th>Group_Code</th>\n",
       "      <th>vegetation_type</th>\n",
       "    </tr>\n",
       "  </thead>\n",
       "  <tbody>\n",
       "    <tr>\n",
       "      <th>NSABHC0015</th>\n",
       "      <td>6</td>\n",
       "      <td>Tussock.grass</td>\n",
       "    </tr>\n",
       "    <tr>\n",
       "      <th>NSABHC0018</th>\n",
       "      <td>6</td>\n",
       "      <td>Tussock.grass</td>\n",
       "    </tr>\n",
       "    <tr>\n",
       "      <th>NSABHC0019</th>\n",
       "      <td>6</td>\n",
       "      <td>Tussock.grass</td>\n",
       "    </tr>\n",
       "    <tr>\n",
       "      <th>NSABHC0020</th>\n",
       "      <td>6</td>\n",
       "      <td>Tussock.grass</td>\n",
       "    </tr>\n",
       "    <tr>\n",
       "      <th>NSABHC0021</th>\n",
       "      <td>6</td>\n",
       "      <td>Tussock.grass</td>\n",
       "    </tr>\n",
       "    <tr>\n",
       "      <th>...</th>\n",
       "      <td>...</td>\n",
       "      <td>...</td>\n",
       "    </tr>\n",
       "    <tr>\n",
       "      <th>WAAYAL0007</th>\n",
       "      <td>5</td>\n",
       "      <td>Forb</td>\n",
       "    </tr>\n",
       "    <tr>\n",
       "      <th>WAAYAL0008</th>\n",
       "      <td>5</td>\n",
       "      <td>Shrub</td>\n",
       "    </tr>\n",
       "    <tr>\n",
       "      <th>WAGCOO0001</th>\n",
       "      <td>6</td>\n",
       "      <td>Tree.Palm</td>\n",
       "    </tr>\n",
       "    <tr>\n",
       "      <th>WAGCOO0002</th>\n",
       "      <td>6</td>\n",
       "      <td>Hummock.grass</td>\n",
       "    </tr>\n",
       "    <tr>\n",
       "      <th>WAGCOO0004</th>\n",
       "      <td>6</td>\n",
       "      <td>Chenopod</td>\n",
       "    </tr>\n",
       "  </tbody>\n",
       "</table>\n",
       "<p>738 rows × 2 columns</p>\n",
       "</div>"
      ],
      "text/plain": [
       "            Group_Code vegetation_type\n",
       "NSABHC0015           6   Tussock.grass\n",
       "NSABHC0018           6   Tussock.grass\n",
       "NSABHC0019           6   Tussock.grass\n",
       "NSABHC0020           6   Tussock.grass\n",
       "NSABHC0021           6   Tussock.grass\n",
       "...                ...             ...\n",
       "WAAYAL0007           5            Forb\n",
       "WAAYAL0008           5           Shrub\n",
       "WAGCOO0001           6       Tree.Palm\n",
       "WAGCOO0002           6   Hummock.grass\n",
       "WAGCOO0004           6        Chenopod\n",
       "\n",
       "[738 rows x 2 columns]"
      ]
     },
     "execution_count": 14,
     "metadata": {},
     "output_type": "execute_result"
    }
   ],
   "source": [
    "ausplots_classifications_subsetted_essential_larger_group"
   ]
  },
  {
   "cell_type": "code",
   "execution_count": 15,
   "id": "d684f72e-9613-4782-83ba-ecedde75611d",
   "metadata": {
    "tags": []
   },
   "outputs": [],
   "source": [
    "for i in Broader_Classifications.keys():\n",
    "    ausplots_classifications_subsetted_essential_larger_group.loc[ausplots_classifications_subsetted_essential_larger_group['Group_Code'] == i, 'Group_Code'] = Broader_Classifications[i]"
   ]
  },
  {
   "cell_type": "code",
   "execution_count": 18,
   "id": "e626c4f6-2363-4a83-a936-01ff6346f57c",
   "metadata": {
    "tags": []
   },
   "outputs": [],
   "source": [
    "counts_ausplots_larger = ausplots_classifications_subsetted_essential_larger_group.groupby(['Group_Code', 'vegetation_type']).size()"
   ]
  },
  {
   "cell_type": "code",
   "execution_count": 24,
   "id": "454874c1-9ec6-4d12-85fe-94752073e0a8",
   "metadata": {
    "tags": []
   },
   "outputs": [],
   "source": [
    "counts_ausplots_larger = pd.DataFrame(counts_ausplots_larger, columns = ['counts'])"
   ]
  },
  {
   "cell_type": "code",
   "execution_count": 25,
   "id": "c7d21dce-1c7b-403f-9290-d8edb1c654d6",
   "metadata": {
    "tags": []
   },
   "outputs": [],
   "source": [
    "counts_ausplots_larger.to_csv('../DATASETS/Australian Bioclimatic Regions/ausplots_bioclimatic_group_aggregated_counts.csv')"
   ]
  },
  {
   "cell_type": "code",
   "execution_count": null,
   "id": "3573a8ad-3b46-4b24-b050-2650013ad323",
   "metadata": {},
   "outputs": [],
   "source": []
  }
 ],
 "metadata": {
  "kernelspec": {
   "display_name": "Python 3 (ipykernel)",
   "language": "python",
   "name": "python3"
  },
  "language_info": {
   "codemirror_mode": {
    "name": "ipython",
    "version": 3
   },
   "file_extension": ".py",
   "mimetype": "text/x-python",
   "name": "python",
   "nbconvert_exporter": "python",
   "pygments_lexer": "ipython3",
   "version": "3.11.5"
  }
 },
 "nbformat": 4,
 "nbformat_minor": 5
}
