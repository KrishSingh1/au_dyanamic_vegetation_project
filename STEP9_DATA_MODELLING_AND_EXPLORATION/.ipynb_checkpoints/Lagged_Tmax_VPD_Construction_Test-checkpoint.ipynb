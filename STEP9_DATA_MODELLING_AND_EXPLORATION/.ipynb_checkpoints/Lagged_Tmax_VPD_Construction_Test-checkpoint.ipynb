{
 "cells": [
  {
   "cell_type": "markdown",
   "id": "7521a699-4385-42ed-be83-8e06a0b7b66c",
   "metadata": {},
   "source": [
    "# Create Lagged Variables for Tmax, and VPD "
   ]
  },
  {
   "cell_type": "code",
   "execution_count": null,
   "id": "8b04b750-0e53-4bf1-b4e9-e38fb25ca6a5",
   "metadata": {},
   "outputs": [],
   "source": []
  }
 ],
 "metadata": {
  "kernelspec": {
   "display_name": "Python 3 (ipykernel)",
   "language": "python",
   "name": "python3"
  },
  "language_info": {
   "codemirror_mode": {
    "name": "ipython",
    "version": 3
   },
   "file_extension": ".py",
   "mimetype": "text/x-python",
   "name": "python",
   "nbconvert_exporter": "python",
   "pygments_lexer": "ipython3",
   "version": "3.11.5"
  }
 },
 "nbformat": 4,
 "nbformat_minor": 5
}
