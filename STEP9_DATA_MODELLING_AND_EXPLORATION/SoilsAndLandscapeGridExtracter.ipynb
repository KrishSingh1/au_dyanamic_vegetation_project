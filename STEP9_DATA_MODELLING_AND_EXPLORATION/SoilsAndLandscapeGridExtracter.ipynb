{
 "cells": [
  {
   "cell_type": "markdown",
   "id": "beb90585-e38a-418f-80cd-e315ddf86556",
   "metadata": {},
   "source": [
    "# Cliping A tiff File"
   ]
  },
  {
   "cell_type": "code",
   "execution_count": 1,
   "id": "fac860f2-9bd7-40fa-994f-c9be5632208e",
   "metadata": {
    "tags": []
   },
   "outputs": [],
   "source": [
    "import rasterio\n",
    "import rasterio.mask\n",
    "import fiona\n",
    "import matplotlib.pyplot as plt\n",
    "import numpy as np\n",
    "import os \n",
    "import pandas as pd"
   ]
  },
  {
   "cell_type": "code",
   "execution_count": 2,
   "id": "0d0d0070-549e-426a-abfe-82ea1f4f7d64",
   "metadata": {
    "tags": []
   },
   "outputs": [],
   "source": [
    "with fiona.open(\"../DATASETS/AusPlots_Location/AusPlots_Geometries_20240508.shp\", \"r\") as shapefile:\n",
    "    shapes = [feature[\"geometry\"] for feature in shapefile]\n",
    "    shapes_name = [properties[\"properties\"]['Name'] for properties in shapefile]"
   ]
  },
  {
   "cell_type": "code",
   "execution_count": 3,
   "id": "2e92646a-d1da-4ec1-a467-38ed4d5db9a7",
   "metadata": {
    "tags": []
   },
   "outputs": [],
   "source": [
    "data_file_path = 'D:/Krish_New/SLGA/'\n",
    "#data_file_path = 'C:/Users/krish/Desktop/Test/'\n",
    "slga_datafiles = os.listdir(data_file_path) # list all datafiles \n",
    "slga_datafiles.sort()"
   ]
  },
  {
   "cell_type": "code",
   "execution_count": 4,
   "id": "2ae7d6d4-aaef-4cda-8b4f-d2fbfe3c017e",
   "metadata": {
    "tags": []
   },
   "outputs": [
    {
     "data": {
      "text/plain": [
       "['CLY_000_005_EV_N_P_AU_TRN_N_20210902.tif',\n",
       " 'CLY_005_015_EV_N_P_AU_TRN_N_20210902.tif',\n",
       " 'CLY_015_030_EV_N_P_AU_TRN_N_20210902.tif',\n",
       " 'CLY_030_060_EV_N_P_AU_TRN_N_20210902.tif',\n",
       " 'CLY_060_100_EV_N_P_AU_TRN_N_20210902.tif',\n",
       " 'CLY_100_200_EV_N_P_AU_TRN_N_20210902.tif',\n",
       " 'DER_000_999_EV_N_P_AU_NAT_C_20150601.tif',\n",
       " 'NTO_000_005_EV_N_P_AU_NAT_C_20140801.tif',\n",
       " 'NTO_005_015_EV_N_P_AU_NAT_C_20140801.tif',\n",
       " 'NTO_015_030_EV_N_P_AU_NAT_C_20140801.tif',\n",
       " 'NTO_030_060_EV_N_P_AU_NAT_C_20140801.tif',\n",
       " 'NTO_060_100_EV_N_P_AU_NAT_C_20140801.tif',\n",
       " 'PHW_005_015_EV_N_P_AU_TRN_N_20220520.tif',\n",
       " 'PHW_015_030_EV_N_P_AU_TRN_N_20220520.tif',\n",
       " 'PHW_030_060_EV_N_P_AU_TRN_N_20220520.tif',\n",
       " 'PHW_060_100_EV_N_P_AU_TRN_N_20220520.tif',\n",
       " 'PHW_100_200_EV_N_P_AU_TRN_N_20220520.tif',\n",
       " 'PTO_000_005_EV_N_P_AU_NAT_C_20140801.tif',\n",
       " 'PTO_005_015_EV_N_P_AU_NAT_C_20140801.tif',\n",
       " 'PTO_015_030_EV_N_P_AU_NAT_C_20140801.tif',\n",
       " 'PTO_030_060_EV_N_P_AU_NAT_C_20140801.tif',\n",
       " 'PTO_060_100_EV_N_P_AU_NAT_C_20140801.tif',\n",
       " 'SLT_000_005_EV_N_P_AU_TRN_N_20210902.tif',\n",
       " 'SLT_005_015_EV_N_P_AU_TRN_N_20210902.tif',\n",
       " 'SLT_030_060_EV_N_P_AU_TRN_N_20210902.tif',\n",
       " 'SLT_060_100_EV_N_P_AU_TRN_N_20210902.tif',\n",
       " 'SLT_100_200_EV_N_P_AU_TRN_N_20210902.tif',\n",
       " 'pHc_000_005_EV_N_P_AU_NAT_C_20140801.tif',\n",
       " 'pHc_005_015_EV_N_P_AU_NAT_C_20140801.tif',\n",
       " 'pHc_015_030_EV_N_P_AU_NAT_C_20140801.tif',\n",
       " 'pHc_030_060_EV_N_P_AU_NAT_C_20140801.tif',\n",
       " 'pHc_060_100_EV_N_P_AU_NAT_C_20140801.tif']"
      ]
     },
     "execution_count": 4,
     "metadata": {},
     "output_type": "execute_result"
    }
   ],
   "source": [
    "slga_datafiles"
   ]
  },
  {
   "cell_type": "code",
   "execution_count": 5,
   "id": "1d432826-ee8c-4faa-b56b-57ab0cd43701",
   "metadata": {
    "tags": []
   },
   "outputs": [
    {
     "data": {
      "text/plain": [
       "['CLY_000_005',\n",
       " 'CLY_005_015',\n",
       " 'CLY_015_030',\n",
       " 'CLY_030_060',\n",
       " 'CLY_060_100',\n",
       " 'CLY_100_200',\n",
       " 'DER_000_999',\n",
       " 'NTO_000_005',\n",
       " 'NTO_005_015',\n",
       " 'NTO_015_030',\n",
       " 'NTO_030_060',\n",
       " 'NTO_060_100',\n",
       " 'PHW_005_015',\n",
       " 'PHW_015_030',\n",
       " 'PHW_030_060',\n",
       " 'PHW_060_100',\n",
       " 'PHW_100_200',\n",
       " 'PTO_000_005',\n",
       " 'PTO_005_015',\n",
       " 'PTO_015_030',\n",
       " 'PTO_030_060',\n",
       " 'PTO_060_100',\n",
       " 'SLT_000_005',\n",
       " 'SLT_005_015',\n",
       " 'SLT_030_060',\n",
       " 'SLT_060_100',\n",
       " 'SLT_100_200',\n",
       " 'pHc_000_005',\n",
       " 'pHc_005_015',\n",
       " 'pHc_015_030',\n",
       " 'pHc_030_060',\n",
       " 'pHc_060_100']"
      ]
     },
     "execution_count": 5,
     "metadata": {},
     "output_type": "execute_result"
    }
   ],
   "source": [
    "column_names = [] # create user_friendly column names \n",
    "for i in slga_datafiles:\n",
    "    split_words = i.split('_')[:3]\n",
    "    column_names.append('_'.join(split_words))\n",
    "column_names"
   ]
  },
  {
   "cell_type": "code",
   "execution_count": 6,
   "id": "3f32e895-75f7-470f-bf64-fa4ac823d12d",
   "metadata": {
    "tags": []
   },
   "outputs": [
    {
     "data": {
      "text/html": [
       "<div>\n",
       "<style scoped>\n",
       "    .dataframe tbody tr th:only-of-type {\n",
       "        vertical-align: middle;\n",
       "    }\n",
       "\n",
       "    .dataframe tbody tr th {\n",
       "        vertical-align: top;\n",
       "    }\n",
       "\n",
       "    .dataframe thead th {\n",
       "        text-align: right;\n",
       "    }\n",
       "</style>\n",
       "<table border=\"1\" class=\"dataframe\">\n",
       "  <thead>\n",
       "    <tr style=\"text-align: right;\">\n",
       "      <th></th>\n",
       "      <th>CLY_000_005</th>\n",
       "      <th>CLY_005_015</th>\n",
       "      <th>CLY_015_030</th>\n",
       "      <th>CLY_030_060</th>\n",
       "      <th>CLY_060_100</th>\n",
       "      <th>CLY_100_200</th>\n",
       "      <th>DER_000_999</th>\n",
       "      <th>NTO_000_005</th>\n",
       "      <th>NTO_005_015</th>\n",
       "      <th>NTO_015_030</th>\n",
       "      <th>...</th>\n",
       "      <th>SLT_000_005</th>\n",
       "      <th>SLT_005_015</th>\n",
       "      <th>SLT_030_060</th>\n",
       "      <th>SLT_060_100</th>\n",
       "      <th>SLT_100_200</th>\n",
       "      <th>pHc_000_005</th>\n",
       "      <th>pHc_005_015</th>\n",
       "      <th>pHc_015_030</th>\n",
       "      <th>pHc_030_060</th>\n",
       "      <th>pHc_060_100</th>\n",
       "    </tr>\n",
       "  </thead>\n",
       "  <tbody>\n",
       "    <tr>\n",
       "      <th>NSABHC0015</th>\n",
       "      <td>NaN</td>\n",
       "      <td>NaN</td>\n",
       "      <td>NaN</td>\n",
       "      <td>NaN</td>\n",
       "      <td>NaN</td>\n",
       "      <td>NaN</td>\n",
       "      <td>NaN</td>\n",
       "      <td>NaN</td>\n",
       "      <td>NaN</td>\n",
       "      <td>NaN</td>\n",
       "      <td>...</td>\n",
       "      <td>NaN</td>\n",
       "      <td>NaN</td>\n",
       "      <td>NaN</td>\n",
       "      <td>NaN</td>\n",
       "      <td>NaN</td>\n",
       "      <td>NaN</td>\n",
       "      <td>NaN</td>\n",
       "      <td>NaN</td>\n",
       "      <td>NaN</td>\n",
       "      <td>NaN</td>\n",
       "    </tr>\n",
       "    <tr>\n",
       "      <th>NSABHC0018</th>\n",
       "      <td>NaN</td>\n",
       "      <td>NaN</td>\n",
       "      <td>NaN</td>\n",
       "      <td>NaN</td>\n",
       "      <td>NaN</td>\n",
       "      <td>NaN</td>\n",
       "      <td>NaN</td>\n",
       "      <td>NaN</td>\n",
       "      <td>NaN</td>\n",
       "      <td>NaN</td>\n",
       "      <td>...</td>\n",
       "      <td>NaN</td>\n",
       "      <td>NaN</td>\n",
       "      <td>NaN</td>\n",
       "      <td>NaN</td>\n",
       "      <td>NaN</td>\n",
       "      <td>NaN</td>\n",
       "      <td>NaN</td>\n",
       "      <td>NaN</td>\n",
       "      <td>NaN</td>\n",
       "      <td>NaN</td>\n",
       "    </tr>\n",
       "    <tr>\n",
       "      <th>NSABHC0019</th>\n",
       "      <td>NaN</td>\n",
       "      <td>NaN</td>\n",
       "      <td>NaN</td>\n",
       "      <td>NaN</td>\n",
       "      <td>NaN</td>\n",
       "      <td>NaN</td>\n",
       "      <td>NaN</td>\n",
       "      <td>NaN</td>\n",
       "      <td>NaN</td>\n",
       "      <td>NaN</td>\n",
       "      <td>...</td>\n",
       "      <td>NaN</td>\n",
       "      <td>NaN</td>\n",
       "      <td>NaN</td>\n",
       "      <td>NaN</td>\n",
       "      <td>NaN</td>\n",
       "      <td>NaN</td>\n",
       "      <td>NaN</td>\n",
       "      <td>NaN</td>\n",
       "      <td>NaN</td>\n",
       "      <td>NaN</td>\n",
       "    </tr>\n",
       "    <tr>\n",
       "      <th>NSABHC0020</th>\n",
       "      <td>NaN</td>\n",
       "      <td>NaN</td>\n",
       "      <td>NaN</td>\n",
       "      <td>NaN</td>\n",
       "      <td>NaN</td>\n",
       "      <td>NaN</td>\n",
       "      <td>NaN</td>\n",
       "      <td>NaN</td>\n",
       "      <td>NaN</td>\n",
       "      <td>NaN</td>\n",
       "      <td>...</td>\n",
       "      <td>NaN</td>\n",
       "      <td>NaN</td>\n",
       "      <td>NaN</td>\n",
       "      <td>NaN</td>\n",
       "      <td>NaN</td>\n",
       "      <td>NaN</td>\n",
       "      <td>NaN</td>\n",
       "      <td>NaN</td>\n",
       "      <td>NaN</td>\n",
       "      <td>NaN</td>\n",
       "    </tr>\n",
       "    <tr>\n",
       "      <th>NSABHC0021</th>\n",
       "      <td>NaN</td>\n",
       "      <td>NaN</td>\n",
       "      <td>NaN</td>\n",
       "      <td>NaN</td>\n",
       "      <td>NaN</td>\n",
       "      <td>NaN</td>\n",
       "      <td>NaN</td>\n",
       "      <td>NaN</td>\n",
       "      <td>NaN</td>\n",
       "      <td>NaN</td>\n",
       "      <td>...</td>\n",
       "      <td>NaN</td>\n",
       "      <td>NaN</td>\n",
       "      <td>NaN</td>\n",
       "      <td>NaN</td>\n",
       "      <td>NaN</td>\n",
       "      <td>NaN</td>\n",
       "      <td>NaN</td>\n",
       "      <td>NaN</td>\n",
       "      <td>NaN</td>\n",
       "      <td>NaN</td>\n",
       "    </tr>\n",
       "  </tbody>\n",
       "</table>\n",
       "<p>5 rows × 32 columns</p>\n",
       "</div>"
      ],
      "text/plain": [
       "           CLY_000_005 CLY_005_015 CLY_015_030 CLY_030_060 CLY_060_100  \\\n",
       "NSABHC0015         NaN         NaN         NaN         NaN         NaN   \n",
       "NSABHC0018         NaN         NaN         NaN         NaN         NaN   \n",
       "NSABHC0019         NaN         NaN         NaN         NaN         NaN   \n",
       "NSABHC0020         NaN         NaN         NaN         NaN         NaN   \n",
       "NSABHC0021         NaN         NaN         NaN         NaN         NaN   \n",
       "\n",
       "           CLY_100_200 DER_000_999 NTO_000_005 NTO_005_015 NTO_015_030  ...  \\\n",
       "NSABHC0015         NaN         NaN         NaN         NaN         NaN  ...   \n",
       "NSABHC0018         NaN         NaN         NaN         NaN         NaN  ...   \n",
       "NSABHC0019         NaN         NaN         NaN         NaN         NaN  ...   \n",
       "NSABHC0020         NaN         NaN         NaN         NaN         NaN  ...   \n",
       "NSABHC0021         NaN         NaN         NaN         NaN         NaN  ...   \n",
       "\n",
       "           SLT_000_005 SLT_005_015 SLT_030_060 SLT_060_100 SLT_100_200  \\\n",
       "NSABHC0015         NaN         NaN         NaN         NaN         NaN   \n",
       "NSABHC0018         NaN         NaN         NaN         NaN         NaN   \n",
       "NSABHC0019         NaN         NaN         NaN         NaN         NaN   \n",
       "NSABHC0020         NaN         NaN         NaN         NaN         NaN   \n",
       "NSABHC0021         NaN         NaN         NaN         NaN         NaN   \n",
       "\n",
       "           pHc_000_005 pHc_005_015 pHc_015_030 pHc_030_060 pHc_060_100  \n",
       "NSABHC0015         NaN         NaN         NaN         NaN         NaN  \n",
       "NSABHC0018         NaN         NaN         NaN         NaN         NaN  \n",
       "NSABHC0019         NaN         NaN         NaN         NaN         NaN  \n",
       "NSABHC0020         NaN         NaN         NaN         NaN         NaN  \n",
       "NSABHC0021         NaN         NaN         NaN         NaN         NaN  \n",
       "\n",
       "[5 rows x 32 columns]"
      ]
     },
     "execution_count": 6,
     "metadata": {},
     "output_type": "execute_result"
    }
   ],
   "source": [
    "site_slga_data = pd.DataFrame(columns = column_names, index = shapes_name)\n",
    "site_slga_data.head()"
   ]
  },
  {
   "cell_type": "markdown",
   "id": "afbebb2b-c09f-4934-a9ef-0d0cf2ea3332",
   "metadata": {},
   "source": [
    "```python\n",
    "\n",
    "\n",
    "for col_idx, df in enumerate(slga_datafiles):\n",
    "    \n",
    "    variable_mean = []\n",
    "    file_path = data_file_path+df\n",
    "\n",
    "    with rasterio.open(file_path) as src:\n",
    "\n",
    "        for i, shape in enumerate(shapes):\n",
    "            shape = [shape] # shape has to be in a list \n",
    "            shape_name = shapes_name[i] # reference the name of  the site \n",
    "\n",
    "            out_image, out_transform = rasterio.mask.mask(src, shape, crop=True) # perform masking \n",
    "            \n",
    "            # out_meta = src.meta # update meta data of masked content \n",
    "\n",
    "            # out_meta.update({\"driver\": \"GTiff\",\n",
    "            #              \"height\": out_image.shape[1],\n",
    "            #              \"width\": out_image.shape[2],\n",
    "            #              \"transform\": out_transform})\n",
    "\n",
    "            image_mean = np.nanmean(out_image)\n",
    "            variable_mean.append(image_mean)\n",
    "        \n",
    "    site_slga_data[column_names[col_idx]] = variable_mean\n",
    "\n",
    "        #with rasterio.open(f\"../DATASETS/Soils_and_Landscape_Grid_of_Australia/Output/{file_name}/{shape_name}_{file_name}.tif\" , \"w\", **out_meta) as dest:\n",
    "        #    dest.write(out_image)\n",
    "```"
   ]
  },
  {
   "cell_type": "code",
   "execution_count": 7,
   "id": "db189e84-aa27-4920-976a-837d8ab51bf3",
   "metadata": {
    "tags": []
   },
   "outputs": [
    {
     "name": "stdout",
     "output_type": "stream",
     "text": [
      "<open DatasetReader name='D:/Krish_New/SLGA/CLY_000_005_EV_N_P_AU_TRN_N_20210902.tif' mode='r'>\n"
     ]
    },
    {
     "name": "stderr",
     "output_type": "stream",
     "text": [
      "C:\\Users\\krish\\AppData\\Local\\Temp\\ipykernel_32076\\4126772671.py:20: RuntimeWarning: Mean of empty slice\n",
      "  image_mean = np.nanmean(out_image_filter)\n",
      "C:\\Users\\krish\\AppData\\Local\\Temp\\ipykernel_32076\\4126772671.py:20: RuntimeWarning: Mean of empty slice\n",
      "  image_mean = np.nanmean(out_image_filter)\n",
      "C:\\Users\\krish\\AppData\\Local\\Temp\\ipykernel_32076\\4126772671.py:20: RuntimeWarning: Mean of empty slice\n",
      "  image_mean = np.nanmean(out_image_filter)\n",
      "C:\\Users\\krish\\AppData\\Local\\Temp\\ipykernel_32076\\4126772671.py:20: RuntimeWarning: Mean of empty slice\n",
      "  image_mean = np.nanmean(out_image_filter)\n",
      "C:\\Users\\krish\\AppData\\Local\\Temp\\ipykernel_32076\\4126772671.py:20: RuntimeWarning: Mean of empty slice\n",
      "  image_mean = np.nanmean(out_image_filter)\n",
      "C:\\Users\\krish\\AppData\\Local\\Temp\\ipykernel_32076\\4126772671.py:20: RuntimeWarning: Mean of empty slice\n",
      "  image_mean = np.nanmean(out_image_filter)\n",
      "C:\\Users\\krish\\AppData\\Local\\Temp\\ipykernel_32076\\4126772671.py:20: RuntimeWarning: Mean of empty slice\n",
      "  image_mean = np.nanmean(out_image_filter)\n",
      "C:\\Users\\krish\\AppData\\Local\\Temp\\ipykernel_32076\\4126772671.py:20: RuntimeWarning: Mean of empty slice\n",
      "  image_mean = np.nanmean(out_image_filter)\n",
      "C:\\Users\\krish\\AppData\\Local\\Temp\\ipykernel_32076\\4126772671.py:20: RuntimeWarning: Mean of empty slice\n",
      "  image_mean = np.nanmean(out_image_filter)\n"
     ]
    },
    {
     "name": "stdout",
     "output_type": "stream",
     "text": [
      "<open DatasetReader name='D:/Krish_New/SLGA/CLY_005_015_EV_N_P_AU_TRN_N_20210902.tif' mode='r'>\n"
     ]
    },
    {
     "name": "stderr",
     "output_type": "stream",
     "text": [
      "C:\\Users\\krish\\AppData\\Local\\Temp\\ipykernel_32076\\4126772671.py:20: RuntimeWarning: Mean of empty slice\n",
      "  image_mean = np.nanmean(out_image_filter)\n",
      "C:\\Users\\krish\\AppData\\Local\\Temp\\ipykernel_32076\\4126772671.py:20: RuntimeWarning: Mean of empty slice\n",
      "  image_mean = np.nanmean(out_image_filter)\n",
      "C:\\Users\\krish\\AppData\\Local\\Temp\\ipykernel_32076\\4126772671.py:20: RuntimeWarning: Mean of empty slice\n",
      "  image_mean = np.nanmean(out_image_filter)\n",
      "C:\\Users\\krish\\AppData\\Local\\Temp\\ipykernel_32076\\4126772671.py:20: RuntimeWarning: Mean of empty slice\n",
      "  image_mean = np.nanmean(out_image_filter)\n",
      "C:\\Users\\krish\\AppData\\Local\\Temp\\ipykernel_32076\\4126772671.py:20: RuntimeWarning: Mean of empty slice\n",
      "  image_mean = np.nanmean(out_image_filter)\n",
      "C:\\Users\\krish\\AppData\\Local\\Temp\\ipykernel_32076\\4126772671.py:20: RuntimeWarning: Mean of empty slice\n",
      "  image_mean = np.nanmean(out_image_filter)\n",
      "C:\\Users\\krish\\AppData\\Local\\Temp\\ipykernel_32076\\4126772671.py:20: RuntimeWarning: Mean of empty slice\n",
      "  image_mean = np.nanmean(out_image_filter)\n",
      "C:\\Users\\krish\\AppData\\Local\\Temp\\ipykernel_32076\\4126772671.py:20: RuntimeWarning: Mean of empty slice\n",
      "  image_mean = np.nanmean(out_image_filter)\n",
      "C:\\Users\\krish\\AppData\\Local\\Temp\\ipykernel_32076\\4126772671.py:20: RuntimeWarning: Mean of empty slice\n",
      "  image_mean = np.nanmean(out_image_filter)\n"
     ]
    },
    {
     "name": "stdout",
     "output_type": "stream",
     "text": [
      "<open DatasetReader name='D:/Krish_New/SLGA/CLY_015_030_EV_N_P_AU_TRN_N_20210902.tif' mode='r'>\n"
     ]
    },
    {
     "name": "stderr",
     "output_type": "stream",
     "text": [
      "C:\\Users\\krish\\AppData\\Local\\Temp\\ipykernel_32076\\4126772671.py:20: RuntimeWarning: Mean of empty slice\n",
      "  image_mean = np.nanmean(out_image_filter)\n",
      "C:\\Users\\krish\\AppData\\Local\\Temp\\ipykernel_32076\\4126772671.py:20: RuntimeWarning: Mean of empty slice\n",
      "  image_mean = np.nanmean(out_image_filter)\n",
      "C:\\Users\\krish\\AppData\\Local\\Temp\\ipykernel_32076\\4126772671.py:20: RuntimeWarning: Mean of empty slice\n",
      "  image_mean = np.nanmean(out_image_filter)\n",
      "C:\\Users\\krish\\AppData\\Local\\Temp\\ipykernel_32076\\4126772671.py:20: RuntimeWarning: Mean of empty slice\n",
      "  image_mean = np.nanmean(out_image_filter)\n",
      "C:\\Users\\krish\\AppData\\Local\\Temp\\ipykernel_32076\\4126772671.py:20: RuntimeWarning: Mean of empty slice\n",
      "  image_mean = np.nanmean(out_image_filter)\n",
      "C:\\Users\\krish\\AppData\\Local\\Temp\\ipykernel_32076\\4126772671.py:20: RuntimeWarning: Mean of empty slice\n",
      "  image_mean = np.nanmean(out_image_filter)\n",
      "C:\\Users\\krish\\AppData\\Local\\Temp\\ipykernel_32076\\4126772671.py:20: RuntimeWarning: Mean of empty slice\n",
      "  image_mean = np.nanmean(out_image_filter)\n",
      "C:\\Users\\krish\\AppData\\Local\\Temp\\ipykernel_32076\\4126772671.py:20: RuntimeWarning: Mean of empty slice\n",
      "  image_mean = np.nanmean(out_image_filter)\n",
      "C:\\Users\\krish\\AppData\\Local\\Temp\\ipykernel_32076\\4126772671.py:20: RuntimeWarning: Mean of empty slice\n",
      "  image_mean = np.nanmean(out_image_filter)\n"
     ]
    },
    {
     "name": "stdout",
     "output_type": "stream",
     "text": [
      "<open DatasetReader name='D:/Krish_New/SLGA/CLY_030_060_EV_N_P_AU_TRN_N_20210902.tif' mode='r'>\n"
     ]
    },
    {
     "name": "stderr",
     "output_type": "stream",
     "text": [
      "C:\\Users\\krish\\AppData\\Local\\Temp\\ipykernel_32076\\4126772671.py:20: RuntimeWarning: Mean of empty slice\n",
      "  image_mean = np.nanmean(out_image_filter)\n",
      "C:\\Users\\krish\\AppData\\Local\\Temp\\ipykernel_32076\\4126772671.py:20: RuntimeWarning: Mean of empty slice\n",
      "  image_mean = np.nanmean(out_image_filter)\n",
      "C:\\Users\\krish\\AppData\\Local\\Temp\\ipykernel_32076\\4126772671.py:20: RuntimeWarning: Mean of empty slice\n",
      "  image_mean = np.nanmean(out_image_filter)\n",
      "C:\\Users\\krish\\AppData\\Local\\Temp\\ipykernel_32076\\4126772671.py:20: RuntimeWarning: Mean of empty slice\n",
      "  image_mean = np.nanmean(out_image_filter)\n",
      "C:\\Users\\krish\\AppData\\Local\\Temp\\ipykernel_32076\\4126772671.py:20: RuntimeWarning: Mean of empty slice\n",
      "  image_mean = np.nanmean(out_image_filter)\n",
      "C:\\Users\\krish\\AppData\\Local\\Temp\\ipykernel_32076\\4126772671.py:20: RuntimeWarning: Mean of empty slice\n",
      "  image_mean = np.nanmean(out_image_filter)\n",
      "C:\\Users\\krish\\AppData\\Local\\Temp\\ipykernel_32076\\4126772671.py:20: RuntimeWarning: Mean of empty slice\n",
      "  image_mean = np.nanmean(out_image_filter)\n",
      "C:\\Users\\krish\\AppData\\Local\\Temp\\ipykernel_32076\\4126772671.py:20: RuntimeWarning: Mean of empty slice\n",
      "  image_mean = np.nanmean(out_image_filter)\n",
      "C:\\Users\\krish\\AppData\\Local\\Temp\\ipykernel_32076\\4126772671.py:20: RuntimeWarning: Mean of empty slice\n",
      "  image_mean = np.nanmean(out_image_filter)\n"
     ]
    },
    {
     "name": "stdout",
     "output_type": "stream",
     "text": [
      "<open DatasetReader name='D:/Krish_New/SLGA/CLY_060_100_EV_N_P_AU_TRN_N_20210902.tif' mode='r'>\n"
     ]
    },
    {
     "name": "stderr",
     "output_type": "stream",
     "text": [
      "C:\\Users\\krish\\AppData\\Local\\Temp\\ipykernel_32076\\4126772671.py:20: RuntimeWarning: Mean of empty slice\n",
      "  image_mean = np.nanmean(out_image_filter)\n",
      "C:\\Users\\krish\\AppData\\Local\\Temp\\ipykernel_32076\\4126772671.py:20: RuntimeWarning: Mean of empty slice\n",
      "  image_mean = np.nanmean(out_image_filter)\n",
      "C:\\Users\\krish\\AppData\\Local\\Temp\\ipykernel_32076\\4126772671.py:20: RuntimeWarning: Mean of empty slice\n",
      "  image_mean = np.nanmean(out_image_filter)\n",
      "C:\\Users\\krish\\AppData\\Local\\Temp\\ipykernel_32076\\4126772671.py:20: RuntimeWarning: Mean of empty slice\n",
      "  image_mean = np.nanmean(out_image_filter)\n",
      "C:\\Users\\krish\\AppData\\Local\\Temp\\ipykernel_32076\\4126772671.py:20: RuntimeWarning: Mean of empty slice\n",
      "  image_mean = np.nanmean(out_image_filter)\n",
      "C:\\Users\\krish\\AppData\\Local\\Temp\\ipykernel_32076\\4126772671.py:20: RuntimeWarning: Mean of empty slice\n",
      "  image_mean = np.nanmean(out_image_filter)\n",
      "C:\\Users\\krish\\AppData\\Local\\Temp\\ipykernel_32076\\4126772671.py:20: RuntimeWarning: Mean of empty slice\n",
      "  image_mean = np.nanmean(out_image_filter)\n",
      "C:\\Users\\krish\\AppData\\Local\\Temp\\ipykernel_32076\\4126772671.py:20: RuntimeWarning: Mean of empty slice\n",
      "  image_mean = np.nanmean(out_image_filter)\n",
      "C:\\Users\\krish\\AppData\\Local\\Temp\\ipykernel_32076\\4126772671.py:20: RuntimeWarning: Mean of empty slice\n",
      "  image_mean = np.nanmean(out_image_filter)\n"
     ]
    },
    {
     "name": "stdout",
     "output_type": "stream",
     "text": [
      "<open DatasetReader name='D:/Krish_New/SLGA/CLY_100_200_EV_N_P_AU_TRN_N_20210902.tif' mode='r'>\n"
     ]
    },
    {
     "name": "stderr",
     "output_type": "stream",
     "text": [
      "C:\\Users\\krish\\AppData\\Local\\Temp\\ipykernel_32076\\4126772671.py:20: RuntimeWarning: Mean of empty slice\n",
      "  image_mean = np.nanmean(out_image_filter)\n",
      "C:\\Users\\krish\\AppData\\Local\\Temp\\ipykernel_32076\\4126772671.py:20: RuntimeWarning: Mean of empty slice\n",
      "  image_mean = np.nanmean(out_image_filter)\n",
      "C:\\Users\\krish\\AppData\\Local\\Temp\\ipykernel_32076\\4126772671.py:20: RuntimeWarning: Mean of empty slice\n",
      "  image_mean = np.nanmean(out_image_filter)\n",
      "C:\\Users\\krish\\AppData\\Local\\Temp\\ipykernel_32076\\4126772671.py:20: RuntimeWarning: Mean of empty slice\n",
      "  image_mean = np.nanmean(out_image_filter)\n",
      "C:\\Users\\krish\\AppData\\Local\\Temp\\ipykernel_32076\\4126772671.py:20: RuntimeWarning: Mean of empty slice\n",
      "  image_mean = np.nanmean(out_image_filter)\n",
      "C:\\Users\\krish\\AppData\\Local\\Temp\\ipykernel_32076\\4126772671.py:20: RuntimeWarning: Mean of empty slice\n",
      "  image_mean = np.nanmean(out_image_filter)\n",
      "C:\\Users\\krish\\AppData\\Local\\Temp\\ipykernel_32076\\4126772671.py:20: RuntimeWarning: Mean of empty slice\n",
      "  image_mean = np.nanmean(out_image_filter)\n",
      "C:\\Users\\krish\\AppData\\Local\\Temp\\ipykernel_32076\\4126772671.py:20: RuntimeWarning: Mean of empty slice\n",
      "  image_mean = np.nanmean(out_image_filter)\n",
      "C:\\Users\\krish\\AppData\\Local\\Temp\\ipykernel_32076\\4126772671.py:20: RuntimeWarning: Mean of empty slice\n",
      "  image_mean = np.nanmean(out_image_filter)\n"
     ]
    },
    {
     "name": "stdout",
     "output_type": "stream",
     "text": [
      "<open DatasetReader name='D:/Krish_New/SLGA/DER_000_999_EV_N_P_AU_NAT_C_20150601.tif' mode='r'>\n"
     ]
    },
    {
     "name": "stderr",
     "output_type": "stream",
     "text": [
      "C:\\Users\\krish\\AppData\\Local\\Temp\\ipykernel_32076\\4126772671.py:20: RuntimeWarning: Mean of empty slice\n",
      "  image_mean = np.nanmean(out_image_filter)\n",
      "C:\\Users\\krish\\AppData\\Local\\Temp\\ipykernel_32076\\4126772671.py:20: RuntimeWarning: Mean of empty slice\n",
      "  image_mean = np.nanmean(out_image_filter)\n",
      "C:\\Users\\krish\\AppData\\Local\\Temp\\ipykernel_32076\\4126772671.py:20: RuntimeWarning: Mean of empty slice\n",
      "  image_mean = np.nanmean(out_image_filter)\n",
      "C:\\Users\\krish\\AppData\\Local\\Temp\\ipykernel_32076\\4126772671.py:20: RuntimeWarning: Mean of empty slice\n",
      "  image_mean = np.nanmean(out_image_filter)\n"
     ]
    },
    {
     "name": "stdout",
     "output_type": "stream",
     "text": [
      "<open DatasetReader name='D:/Krish_New/SLGA/NTO_000_005_EV_N_P_AU_NAT_C_20140801.tif' mode='r'>\n"
     ]
    },
    {
     "name": "stderr",
     "output_type": "stream",
     "text": [
      "C:\\Users\\krish\\AppData\\Local\\Temp\\ipykernel_32076\\4126772671.py:20: RuntimeWarning: Mean of empty slice\n",
      "  image_mean = np.nanmean(out_image_filter)\n",
      "C:\\Users\\krish\\AppData\\Local\\Temp\\ipykernel_32076\\4126772671.py:20: RuntimeWarning: Mean of empty slice\n",
      "  image_mean = np.nanmean(out_image_filter)\n",
      "C:\\Users\\krish\\AppData\\Local\\Temp\\ipykernel_32076\\4126772671.py:20: RuntimeWarning: Mean of empty slice\n",
      "  image_mean = np.nanmean(out_image_filter)\n",
      "C:\\Users\\krish\\AppData\\Local\\Temp\\ipykernel_32076\\4126772671.py:20: RuntimeWarning: Mean of empty slice\n",
      "  image_mean = np.nanmean(out_image_filter)\n"
     ]
    },
    {
     "name": "stdout",
     "output_type": "stream",
     "text": [
      "<open DatasetReader name='D:/Krish_New/SLGA/NTO_005_015_EV_N_P_AU_NAT_C_20140801.tif' mode='r'>\n"
     ]
    },
    {
     "name": "stderr",
     "output_type": "stream",
     "text": [
      "C:\\Users\\krish\\AppData\\Local\\Temp\\ipykernel_32076\\4126772671.py:20: RuntimeWarning: Mean of empty slice\n",
      "  image_mean = np.nanmean(out_image_filter)\n",
      "C:\\Users\\krish\\AppData\\Local\\Temp\\ipykernel_32076\\4126772671.py:20: RuntimeWarning: Mean of empty slice\n",
      "  image_mean = np.nanmean(out_image_filter)\n",
      "C:\\Users\\krish\\AppData\\Local\\Temp\\ipykernel_32076\\4126772671.py:20: RuntimeWarning: Mean of empty slice\n",
      "  image_mean = np.nanmean(out_image_filter)\n",
      "C:\\Users\\krish\\AppData\\Local\\Temp\\ipykernel_32076\\4126772671.py:20: RuntimeWarning: Mean of empty slice\n",
      "  image_mean = np.nanmean(out_image_filter)\n"
     ]
    },
    {
     "name": "stdout",
     "output_type": "stream",
     "text": [
      "<open DatasetReader name='D:/Krish_New/SLGA/NTO_015_030_EV_N_P_AU_NAT_C_20140801.tif' mode='r'>\n"
     ]
    },
    {
     "name": "stderr",
     "output_type": "stream",
     "text": [
      "C:\\Users\\krish\\AppData\\Local\\Temp\\ipykernel_32076\\4126772671.py:20: RuntimeWarning: Mean of empty slice\n",
      "  image_mean = np.nanmean(out_image_filter)\n",
      "C:\\Users\\krish\\AppData\\Local\\Temp\\ipykernel_32076\\4126772671.py:20: RuntimeWarning: Mean of empty slice\n",
      "  image_mean = np.nanmean(out_image_filter)\n",
      "C:\\Users\\krish\\AppData\\Local\\Temp\\ipykernel_32076\\4126772671.py:20: RuntimeWarning: Mean of empty slice\n",
      "  image_mean = np.nanmean(out_image_filter)\n",
      "C:\\Users\\krish\\AppData\\Local\\Temp\\ipykernel_32076\\4126772671.py:20: RuntimeWarning: Mean of empty slice\n",
      "  image_mean = np.nanmean(out_image_filter)\n"
     ]
    },
    {
     "name": "stdout",
     "output_type": "stream",
     "text": [
      "<open DatasetReader name='D:/Krish_New/SLGA/NTO_030_060_EV_N_P_AU_NAT_C_20140801.tif' mode='r'>\n"
     ]
    },
    {
     "name": "stderr",
     "output_type": "stream",
     "text": [
      "C:\\Users\\krish\\AppData\\Local\\Temp\\ipykernel_32076\\4126772671.py:20: RuntimeWarning: Mean of empty slice\n",
      "  image_mean = np.nanmean(out_image_filter)\n",
      "C:\\Users\\krish\\AppData\\Local\\Temp\\ipykernel_32076\\4126772671.py:20: RuntimeWarning: Mean of empty slice\n",
      "  image_mean = np.nanmean(out_image_filter)\n",
      "C:\\Users\\krish\\AppData\\Local\\Temp\\ipykernel_32076\\4126772671.py:20: RuntimeWarning: Mean of empty slice\n",
      "  image_mean = np.nanmean(out_image_filter)\n",
      "C:\\Users\\krish\\AppData\\Local\\Temp\\ipykernel_32076\\4126772671.py:20: RuntimeWarning: Mean of empty slice\n",
      "  image_mean = np.nanmean(out_image_filter)\n"
     ]
    },
    {
     "name": "stdout",
     "output_type": "stream",
     "text": [
      "<open DatasetReader name='D:/Krish_New/SLGA/NTO_060_100_EV_N_P_AU_NAT_C_20140801.tif' mode='r'>\n"
     ]
    },
    {
     "name": "stderr",
     "output_type": "stream",
     "text": [
      "C:\\Users\\krish\\AppData\\Local\\Temp\\ipykernel_32076\\4126772671.py:20: RuntimeWarning: Mean of empty slice\n",
      "  image_mean = np.nanmean(out_image_filter)\n",
      "C:\\Users\\krish\\AppData\\Local\\Temp\\ipykernel_32076\\4126772671.py:20: RuntimeWarning: Mean of empty slice\n",
      "  image_mean = np.nanmean(out_image_filter)\n",
      "C:\\Users\\krish\\AppData\\Local\\Temp\\ipykernel_32076\\4126772671.py:20: RuntimeWarning: Mean of empty slice\n",
      "  image_mean = np.nanmean(out_image_filter)\n",
      "C:\\Users\\krish\\AppData\\Local\\Temp\\ipykernel_32076\\4126772671.py:20: RuntimeWarning: Mean of empty slice\n",
      "  image_mean = np.nanmean(out_image_filter)\n"
     ]
    },
    {
     "name": "stdout",
     "output_type": "stream",
     "text": [
      "<open DatasetReader name='D:/Krish_New/SLGA/PHW_005_015_EV_N_P_AU_TRN_N_20220520.tif' mode='r'>\n"
     ]
    },
    {
     "name": "stderr",
     "output_type": "stream",
     "text": [
      "C:\\Users\\krish\\AppData\\Local\\Temp\\ipykernel_32076\\4126772671.py:20: RuntimeWarning: Mean of empty slice\n",
      "  image_mean = np.nanmean(out_image_filter)\n",
      "C:\\Users\\krish\\AppData\\Local\\Temp\\ipykernel_32076\\4126772671.py:20: RuntimeWarning: Mean of empty slice\n",
      "  image_mean = np.nanmean(out_image_filter)\n",
      "C:\\Users\\krish\\AppData\\Local\\Temp\\ipykernel_32076\\4126772671.py:20: RuntimeWarning: Mean of empty slice\n",
      "  image_mean = np.nanmean(out_image_filter)\n",
      "C:\\Users\\krish\\AppData\\Local\\Temp\\ipykernel_32076\\4126772671.py:20: RuntimeWarning: Mean of empty slice\n",
      "  image_mean = np.nanmean(out_image_filter)\n",
      "C:\\Users\\krish\\AppData\\Local\\Temp\\ipykernel_32076\\4126772671.py:20: RuntimeWarning: Mean of empty slice\n",
      "  image_mean = np.nanmean(out_image_filter)\n",
      "C:\\Users\\krish\\AppData\\Local\\Temp\\ipykernel_32076\\4126772671.py:20: RuntimeWarning: Mean of empty slice\n",
      "  image_mean = np.nanmean(out_image_filter)\n",
      "C:\\Users\\krish\\AppData\\Local\\Temp\\ipykernel_32076\\4126772671.py:20: RuntimeWarning: Mean of empty slice\n",
      "  image_mean = np.nanmean(out_image_filter)\n"
     ]
    },
    {
     "name": "stdout",
     "output_type": "stream",
     "text": [
      "<open DatasetReader name='D:/Krish_New/SLGA/PHW_015_030_EV_N_P_AU_TRN_N_20220520.tif' mode='r'>\n"
     ]
    },
    {
     "name": "stderr",
     "output_type": "stream",
     "text": [
      "C:\\Users\\krish\\AppData\\Local\\Temp\\ipykernel_32076\\4126772671.py:20: RuntimeWarning: Mean of empty slice\n",
      "  image_mean = np.nanmean(out_image_filter)\n",
      "C:\\Users\\krish\\AppData\\Local\\Temp\\ipykernel_32076\\4126772671.py:20: RuntimeWarning: Mean of empty slice\n",
      "  image_mean = np.nanmean(out_image_filter)\n",
      "C:\\Users\\krish\\AppData\\Local\\Temp\\ipykernel_32076\\4126772671.py:20: RuntimeWarning: Mean of empty slice\n",
      "  image_mean = np.nanmean(out_image_filter)\n",
      "C:\\Users\\krish\\AppData\\Local\\Temp\\ipykernel_32076\\4126772671.py:20: RuntimeWarning: Mean of empty slice\n",
      "  image_mean = np.nanmean(out_image_filter)\n",
      "C:\\Users\\krish\\AppData\\Local\\Temp\\ipykernel_32076\\4126772671.py:20: RuntimeWarning: Mean of empty slice\n",
      "  image_mean = np.nanmean(out_image_filter)\n",
      "C:\\Users\\krish\\AppData\\Local\\Temp\\ipykernel_32076\\4126772671.py:20: RuntimeWarning: Mean of empty slice\n",
      "  image_mean = np.nanmean(out_image_filter)\n",
      "C:\\Users\\krish\\AppData\\Local\\Temp\\ipykernel_32076\\4126772671.py:20: RuntimeWarning: Mean of empty slice\n",
      "  image_mean = np.nanmean(out_image_filter)\n"
     ]
    },
    {
     "name": "stdout",
     "output_type": "stream",
     "text": [
      "<open DatasetReader name='D:/Krish_New/SLGA/PHW_030_060_EV_N_P_AU_TRN_N_20220520.tif' mode='r'>\n"
     ]
    },
    {
     "name": "stderr",
     "output_type": "stream",
     "text": [
      "C:\\Users\\krish\\AppData\\Local\\Temp\\ipykernel_32076\\4126772671.py:20: RuntimeWarning: Mean of empty slice\n",
      "  image_mean = np.nanmean(out_image_filter)\n",
      "C:\\Users\\krish\\AppData\\Local\\Temp\\ipykernel_32076\\4126772671.py:20: RuntimeWarning: Mean of empty slice\n",
      "  image_mean = np.nanmean(out_image_filter)\n",
      "C:\\Users\\krish\\AppData\\Local\\Temp\\ipykernel_32076\\4126772671.py:20: RuntimeWarning: Mean of empty slice\n",
      "  image_mean = np.nanmean(out_image_filter)\n",
      "C:\\Users\\krish\\AppData\\Local\\Temp\\ipykernel_32076\\4126772671.py:20: RuntimeWarning: Mean of empty slice\n",
      "  image_mean = np.nanmean(out_image_filter)\n",
      "C:\\Users\\krish\\AppData\\Local\\Temp\\ipykernel_32076\\4126772671.py:20: RuntimeWarning: Mean of empty slice\n",
      "  image_mean = np.nanmean(out_image_filter)\n",
      "C:\\Users\\krish\\AppData\\Local\\Temp\\ipykernel_32076\\4126772671.py:20: RuntimeWarning: Mean of empty slice\n",
      "  image_mean = np.nanmean(out_image_filter)\n",
      "C:\\Users\\krish\\AppData\\Local\\Temp\\ipykernel_32076\\4126772671.py:20: RuntimeWarning: Mean of empty slice\n",
      "  image_mean = np.nanmean(out_image_filter)\n"
     ]
    },
    {
     "name": "stdout",
     "output_type": "stream",
     "text": [
      "<open DatasetReader name='D:/Krish_New/SLGA/PHW_060_100_EV_N_P_AU_TRN_N_20220520.tif' mode='r'>\n"
     ]
    },
    {
     "name": "stderr",
     "output_type": "stream",
     "text": [
      "C:\\Users\\krish\\AppData\\Local\\Temp\\ipykernel_32076\\4126772671.py:20: RuntimeWarning: Mean of empty slice\n",
      "  image_mean = np.nanmean(out_image_filter)\n",
      "C:\\Users\\krish\\AppData\\Local\\Temp\\ipykernel_32076\\4126772671.py:20: RuntimeWarning: Mean of empty slice\n",
      "  image_mean = np.nanmean(out_image_filter)\n",
      "C:\\Users\\krish\\AppData\\Local\\Temp\\ipykernel_32076\\4126772671.py:20: RuntimeWarning: Mean of empty slice\n",
      "  image_mean = np.nanmean(out_image_filter)\n",
      "C:\\Users\\krish\\AppData\\Local\\Temp\\ipykernel_32076\\4126772671.py:20: RuntimeWarning: Mean of empty slice\n",
      "  image_mean = np.nanmean(out_image_filter)\n",
      "C:\\Users\\krish\\AppData\\Local\\Temp\\ipykernel_32076\\4126772671.py:20: RuntimeWarning: Mean of empty slice\n",
      "  image_mean = np.nanmean(out_image_filter)\n",
      "C:\\Users\\krish\\AppData\\Local\\Temp\\ipykernel_32076\\4126772671.py:20: RuntimeWarning: Mean of empty slice\n",
      "  image_mean = np.nanmean(out_image_filter)\n",
      "C:\\Users\\krish\\AppData\\Local\\Temp\\ipykernel_32076\\4126772671.py:20: RuntimeWarning: Mean of empty slice\n",
      "  image_mean = np.nanmean(out_image_filter)\n"
     ]
    },
    {
     "name": "stdout",
     "output_type": "stream",
     "text": [
      "<open DatasetReader name='D:/Krish_New/SLGA/PHW_100_200_EV_N_P_AU_TRN_N_20220520.tif' mode='r'>\n"
     ]
    },
    {
     "name": "stderr",
     "output_type": "stream",
     "text": [
      "C:\\Users\\krish\\AppData\\Local\\Temp\\ipykernel_32076\\4126772671.py:20: RuntimeWarning: Mean of empty slice\n",
      "  image_mean = np.nanmean(out_image_filter)\n",
      "C:\\Users\\krish\\AppData\\Local\\Temp\\ipykernel_32076\\4126772671.py:20: RuntimeWarning: Mean of empty slice\n",
      "  image_mean = np.nanmean(out_image_filter)\n",
      "C:\\Users\\krish\\AppData\\Local\\Temp\\ipykernel_32076\\4126772671.py:20: RuntimeWarning: Mean of empty slice\n",
      "  image_mean = np.nanmean(out_image_filter)\n",
      "C:\\Users\\krish\\AppData\\Local\\Temp\\ipykernel_32076\\4126772671.py:20: RuntimeWarning: Mean of empty slice\n",
      "  image_mean = np.nanmean(out_image_filter)\n",
      "C:\\Users\\krish\\AppData\\Local\\Temp\\ipykernel_32076\\4126772671.py:20: RuntimeWarning: Mean of empty slice\n",
      "  image_mean = np.nanmean(out_image_filter)\n",
      "C:\\Users\\krish\\AppData\\Local\\Temp\\ipykernel_32076\\4126772671.py:20: RuntimeWarning: Mean of empty slice\n",
      "  image_mean = np.nanmean(out_image_filter)\n",
      "C:\\Users\\krish\\AppData\\Local\\Temp\\ipykernel_32076\\4126772671.py:20: RuntimeWarning: Mean of empty slice\n",
      "  image_mean = np.nanmean(out_image_filter)\n"
     ]
    },
    {
     "name": "stdout",
     "output_type": "stream",
     "text": [
      "<open DatasetReader name='D:/Krish_New/SLGA/PTO_000_005_EV_N_P_AU_NAT_C_20140801.tif' mode='r'>\n"
     ]
    },
    {
     "name": "stderr",
     "output_type": "stream",
     "text": [
      "C:\\Users\\krish\\AppData\\Local\\Temp\\ipykernel_32076\\4126772671.py:20: RuntimeWarning: Mean of empty slice\n",
      "  image_mean = np.nanmean(out_image_filter)\n",
      "C:\\Users\\krish\\AppData\\Local\\Temp\\ipykernel_32076\\4126772671.py:20: RuntimeWarning: Mean of empty slice\n",
      "  image_mean = np.nanmean(out_image_filter)\n",
      "C:\\Users\\krish\\AppData\\Local\\Temp\\ipykernel_32076\\4126772671.py:20: RuntimeWarning: Mean of empty slice\n",
      "  image_mean = np.nanmean(out_image_filter)\n",
      "C:\\Users\\krish\\AppData\\Local\\Temp\\ipykernel_32076\\4126772671.py:20: RuntimeWarning: Mean of empty slice\n",
      "  image_mean = np.nanmean(out_image_filter)\n"
     ]
    },
    {
     "name": "stdout",
     "output_type": "stream",
     "text": [
      "<open DatasetReader name='D:/Krish_New/SLGA/PTO_005_015_EV_N_P_AU_NAT_C_20140801.tif' mode='r'>\n"
     ]
    },
    {
     "name": "stderr",
     "output_type": "stream",
     "text": [
      "C:\\Users\\krish\\AppData\\Local\\Temp\\ipykernel_32076\\4126772671.py:20: RuntimeWarning: Mean of empty slice\n",
      "  image_mean = np.nanmean(out_image_filter)\n",
      "C:\\Users\\krish\\AppData\\Local\\Temp\\ipykernel_32076\\4126772671.py:20: RuntimeWarning: Mean of empty slice\n",
      "  image_mean = np.nanmean(out_image_filter)\n",
      "C:\\Users\\krish\\AppData\\Local\\Temp\\ipykernel_32076\\4126772671.py:20: RuntimeWarning: Mean of empty slice\n",
      "  image_mean = np.nanmean(out_image_filter)\n",
      "C:\\Users\\krish\\AppData\\Local\\Temp\\ipykernel_32076\\4126772671.py:20: RuntimeWarning: Mean of empty slice\n",
      "  image_mean = np.nanmean(out_image_filter)\n"
     ]
    },
    {
     "name": "stdout",
     "output_type": "stream",
     "text": [
      "<open DatasetReader name='D:/Krish_New/SLGA/PTO_015_030_EV_N_P_AU_NAT_C_20140801.tif' mode='r'>\n"
     ]
    },
    {
     "name": "stderr",
     "output_type": "stream",
     "text": [
      "C:\\Users\\krish\\AppData\\Local\\Temp\\ipykernel_32076\\4126772671.py:20: RuntimeWarning: Mean of empty slice\n",
      "  image_mean = np.nanmean(out_image_filter)\n",
      "C:\\Users\\krish\\AppData\\Local\\Temp\\ipykernel_32076\\4126772671.py:20: RuntimeWarning: Mean of empty slice\n",
      "  image_mean = np.nanmean(out_image_filter)\n",
      "C:\\Users\\krish\\AppData\\Local\\Temp\\ipykernel_32076\\4126772671.py:20: RuntimeWarning: Mean of empty slice\n",
      "  image_mean = np.nanmean(out_image_filter)\n",
      "C:\\Users\\krish\\AppData\\Local\\Temp\\ipykernel_32076\\4126772671.py:20: RuntimeWarning: Mean of empty slice\n",
      "  image_mean = np.nanmean(out_image_filter)\n"
     ]
    },
    {
     "name": "stdout",
     "output_type": "stream",
     "text": [
      "<open DatasetReader name='D:/Krish_New/SLGA/PTO_030_060_EV_N_P_AU_NAT_C_20140801.tif' mode='r'>\n"
     ]
    },
    {
     "name": "stderr",
     "output_type": "stream",
     "text": [
      "C:\\Users\\krish\\AppData\\Local\\Temp\\ipykernel_32076\\4126772671.py:20: RuntimeWarning: Mean of empty slice\n",
      "  image_mean = np.nanmean(out_image_filter)\n",
      "C:\\Users\\krish\\AppData\\Local\\Temp\\ipykernel_32076\\4126772671.py:20: RuntimeWarning: Mean of empty slice\n",
      "  image_mean = np.nanmean(out_image_filter)\n",
      "C:\\Users\\krish\\AppData\\Local\\Temp\\ipykernel_32076\\4126772671.py:20: RuntimeWarning: Mean of empty slice\n",
      "  image_mean = np.nanmean(out_image_filter)\n",
      "C:\\Users\\krish\\AppData\\Local\\Temp\\ipykernel_32076\\4126772671.py:20: RuntimeWarning: Mean of empty slice\n",
      "  image_mean = np.nanmean(out_image_filter)\n"
     ]
    },
    {
     "name": "stdout",
     "output_type": "stream",
     "text": [
      "<open DatasetReader name='D:/Krish_New/SLGA/PTO_060_100_EV_N_P_AU_NAT_C_20140801.tif' mode='r'>\n"
     ]
    },
    {
     "name": "stderr",
     "output_type": "stream",
     "text": [
      "C:\\Users\\krish\\AppData\\Local\\Temp\\ipykernel_32076\\4126772671.py:20: RuntimeWarning: Mean of empty slice\n",
      "  image_mean = np.nanmean(out_image_filter)\n",
      "C:\\Users\\krish\\AppData\\Local\\Temp\\ipykernel_32076\\4126772671.py:20: RuntimeWarning: Mean of empty slice\n",
      "  image_mean = np.nanmean(out_image_filter)\n",
      "C:\\Users\\krish\\AppData\\Local\\Temp\\ipykernel_32076\\4126772671.py:20: RuntimeWarning: Mean of empty slice\n",
      "  image_mean = np.nanmean(out_image_filter)\n",
      "C:\\Users\\krish\\AppData\\Local\\Temp\\ipykernel_32076\\4126772671.py:20: RuntimeWarning: Mean of empty slice\n",
      "  image_mean = np.nanmean(out_image_filter)\n"
     ]
    },
    {
     "name": "stdout",
     "output_type": "stream",
     "text": [
      "<open DatasetReader name='D:/Krish_New/SLGA/SLT_000_005_EV_N_P_AU_TRN_N_20210902.tif' mode='r'>\n"
     ]
    },
    {
     "name": "stderr",
     "output_type": "stream",
     "text": [
      "C:\\Users\\krish\\AppData\\Local\\Temp\\ipykernel_32076\\4126772671.py:20: RuntimeWarning: Mean of empty slice\n",
      "  image_mean = np.nanmean(out_image_filter)\n",
      "C:\\Users\\krish\\AppData\\Local\\Temp\\ipykernel_32076\\4126772671.py:20: RuntimeWarning: Mean of empty slice\n",
      "  image_mean = np.nanmean(out_image_filter)\n",
      "C:\\Users\\krish\\AppData\\Local\\Temp\\ipykernel_32076\\4126772671.py:20: RuntimeWarning: Mean of empty slice\n",
      "  image_mean = np.nanmean(out_image_filter)\n",
      "C:\\Users\\krish\\AppData\\Local\\Temp\\ipykernel_32076\\4126772671.py:20: RuntimeWarning: Mean of empty slice\n",
      "  image_mean = np.nanmean(out_image_filter)\n",
      "C:\\Users\\krish\\AppData\\Local\\Temp\\ipykernel_32076\\4126772671.py:20: RuntimeWarning: Mean of empty slice\n",
      "  image_mean = np.nanmean(out_image_filter)\n",
      "C:\\Users\\krish\\AppData\\Local\\Temp\\ipykernel_32076\\4126772671.py:20: RuntimeWarning: Mean of empty slice\n",
      "  image_mean = np.nanmean(out_image_filter)\n",
      "C:\\Users\\krish\\AppData\\Local\\Temp\\ipykernel_32076\\4126772671.py:20: RuntimeWarning: Mean of empty slice\n",
      "  image_mean = np.nanmean(out_image_filter)\n",
      "C:\\Users\\krish\\AppData\\Local\\Temp\\ipykernel_32076\\4126772671.py:20: RuntimeWarning: Mean of empty slice\n",
      "  image_mean = np.nanmean(out_image_filter)\n",
      "C:\\Users\\krish\\AppData\\Local\\Temp\\ipykernel_32076\\4126772671.py:20: RuntimeWarning: Mean of empty slice\n",
      "  image_mean = np.nanmean(out_image_filter)\n"
     ]
    },
    {
     "name": "stdout",
     "output_type": "stream",
     "text": [
      "<open DatasetReader name='D:/Krish_New/SLGA/SLT_005_015_EV_N_P_AU_TRN_N_20210902.tif' mode='r'>\n"
     ]
    },
    {
     "name": "stderr",
     "output_type": "stream",
     "text": [
      "C:\\Users\\krish\\AppData\\Local\\Temp\\ipykernel_32076\\4126772671.py:20: RuntimeWarning: Mean of empty slice\n",
      "  image_mean = np.nanmean(out_image_filter)\n",
      "C:\\Users\\krish\\AppData\\Local\\Temp\\ipykernel_32076\\4126772671.py:20: RuntimeWarning: Mean of empty slice\n",
      "  image_mean = np.nanmean(out_image_filter)\n",
      "C:\\Users\\krish\\AppData\\Local\\Temp\\ipykernel_32076\\4126772671.py:20: RuntimeWarning: Mean of empty slice\n",
      "  image_mean = np.nanmean(out_image_filter)\n",
      "C:\\Users\\krish\\AppData\\Local\\Temp\\ipykernel_32076\\4126772671.py:20: RuntimeWarning: Mean of empty slice\n",
      "  image_mean = np.nanmean(out_image_filter)\n",
      "C:\\Users\\krish\\AppData\\Local\\Temp\\ipykernel_32076\\4126772671.py:20: RuntimeWarning: Mean of empty slice\n",
      "  image_mean = np.nanmean(out_image_filter)\n",
      "C:\\Users\\krish\\AppData\\Local\\Temp\\ipykernel_32076\\4126772671.py:20: RuntimeWarning: Mean of empty slice\n",
      "  image_mean = np.nanmean(out_image_filter)\n",
      "C:\\Users\\krish\\AppData\\Local\\Temp\\ipykernel_32076\\4126772671.py:20: RuntimeWarning: Mean of empty slice\n",
      "  image_mean = np.nanmean(out_image_filter)\n",
      "C:\\Users\\krish\\AppData\\Local\\Temp\\ipykernel_32076\\4126772671.py:20: RuntimeWarning: Mean of empty slice\n",
      "  image_mean = np.nanmean(out_image_filter)\n",
      "C:\\Users\\krish\\AppData\\Local\\Temp\\ipykernel_32076\\4126772671.py:20: RuntimeWarning: Mean of empty slice\n",
      "  image_mean = np.nanmean(out_image_filter)\n"
     ]
    },
    {
     "name": "stdout",
     "output_type": "stream",
     "text": [
      "<open DatasetReader name='D:/Krish_New/SLGA/SLT_030_060_EV_N_P_AU_TRN_N_20210902.tif' mode='r'>\n"
     ]
    },
    {
     "name": "stderr",
     "output_type": "stream",
     "text": [
      "C:\\Users\\krish\\AppData\\Local\\Temp\\ipykernel_32076\\4126772671.py:20: RuntimeWarning: Mean of empty slice\n",
      "  image_mean = np.nanmean(out_image_filter)\n",
      "C:\\Users\\krish\\AppData\\Local\\Temp\\ipykernel_32076\\4126772671.py:20: RuntimeWarning: Mean of empty slice\n",
      "  image_mean = np.nanmean(out_image_filter)\n",
      "C:\\Users\\krish\\AppData\\Local\\Temp\\ipykernel_32076\\4126772671.py:20: RuntimeWarning: Mean of empty slice\n",
      "  image_mean = np.nanmean(out_image_filter)\n",
      "C:\\Users\\krish\\AppData\\Local\\Temp\\ipykernel_32076\\4126772671.py:20: RuntimeWarning: Mean of empty slice\n",
      "  image_mean = np.nanmean(out_image_filter)\n",
      "C:\\Users\\krish\\AppData\\Local\\Temp\\ipykernel_32076\\4126772671.py:20: RuntimeWarning: Mean of empty slice\n",
      "  image_mean = np.nanmean(out_image_filter)\n",
      "C:\\Users\\krish\\AppData\\Local\\Temp\\ipykernel_32076\\4126772671.py:20: RuntimeWarning: Mean of empty slice\n",
      "  image_mean = np.nanmean(out_image_filter)\n",
      "C:\\Users\\krish\\AppData\\Local\\Temp\\ipykernel_32076\\4126772671.py:20: RuntimeWarning: Mean of empty slice\n",
      "  image_mean = np.nanmean(out_image_filter)\n",
      "C:\\Users\\krish\\AppData\\Local\\Temp\\ipykernel_32076\\4126772671.py:20: RuntimeWarning: Mean of empty slice\n",
      "  image_mean = np.nanmean(out_image_filter)\n",
      "C:\\Users\\krish\\AppData\\Local\\Temp\\ipykernel_32076\\4126772671.py:20: RuntimeWarning: Mean of empty slice\n",
      "  image_mean = np.nanmean(out_image_filter)\n"
     ]
    },
    {
     "name": "stdout",
     "output_type": "stream",
     "text": [
      "<open DatasetReader name='D:/Krish_New/SLGA/SLT_060_100_EV_N_P_AU_TRN_N_20210902.tif' mode='r'>\n"
     ]
    },
    {
     "name": "stderr",
     "output_type": "stream",
     "text": [
      "C:\\Users\\krish\\AppData\\Local\\Temp\\ipykernel_32076\\4126772671.py:20: RuntimeWarning: Mean of empty slice\n",
      "  image_mean = np.nanmean(out_image_filter)\n",
      "C:\\Users\\krish\\AppData\\Local\\Temp\\ipykernel_32076\\4126772671.py:20: RuntimeWarning: Mean of empty slice\n",
      "  image_mean = np.nanmean(out_image_filter)\n",
      "C:\\Users\\krish\\AppData\\Local\\Temp\\ipykernel_32076\\4126772671.py:20: RuntimeWarning: Mean of empty slice\n",
      "  image_mean = np.nanmean(out_image_filter)\n",
      "C:\\Users\\krish\\AppData\\Local\\Temp\\ipykernel_32076\\4126772671.py:20: RuntimeWarning: Mean of empty slice\n",
      "  image_mean = np.nanmean(out_image_filter)\n",
      "C:\\Users\\krish\\AppData\\Local\\Temp\\ipykernel_32076\\4126772671.py:20: RuntimeWarning: Mean of empty slice\n",
      "  image_mean = np.nanmean(out_image_filter)\n",
      "C:\\Users\\krish\\AppData\\Local\\Temp\\ipykernel_32076\\4126772671.py:20: RuntimeWarning: Mean of empty slice\n",
      "  image_mean = np.nanmean(out_image_filter)\n",
      "C:\\Users\\krish\\AppData\\Local\\Temp\\ipykernel_32076\\4126772671.py:20: RuntimeWarning: Mean of empty slice\n",
      "  image_mean = np.nanmean(out_image_filter)\n",
      "C:\\Users\\krish\\AppData\\Local\\Temp\\ipykernel_32076\\4126772671.py:20: RuntimeWarning: Mean of empty slice\n",
      "  image_mean = np.nanmean(out_image_filter)\n",
      "C:\\Users\\krish\\AppData\\Local\\Temp\\ipykernel_32076\\4126772671.py:20: RuntimeWarning: Mean of empty slice\n",
      "  image_mean = np.nanmean(out_image_filter)\n"
     ]
    },
    {
     "name": "stdout",
     "output_type": "stream",
     "text": [
      "<open DatasetReader name='D:/Krish_New/SLGA/SLT_100_200_EV_N_P_AU_TRN_N_20210902.tif' mode='r'>\n"
     ]
    },
    {
     "name": "stderr",
     "output_type": "stream",
     "text": [
      "C:\\Users\\krish\\AppData\\Local\\Temp\\ipykernel_32076\\4126772671.py:20: RuntimeWarning: Mean of empty slice\n",
      "  image_mean = np.nanmean(out_image_filter)\n",
      "C:\\Users\\krish\\AppData\\Local\\Temp\\ipykernel_32076\\4126772671.py:20: RuntimeWarning: Mean of empty slice\n",
      "  image_mean = np.nanmean(out_image_filter)\n",
      "C:\\Users\\krish\\AppData\\Local\\Temp\\ipykernel_32076\\4126772671.py:20: RuntimeWarning: Mean of empty slice\n",
      "  image_mean = np.nanmean(out_image_filter)\n",
      "C:\\Users\\krish\\AppData\\Local\\Temp\\ipykernel_32076\\4126772671.py:20: RuntimeWarning: Mean of empty slice\n",
      "  image_mean = np.nanmean(out_image_filter)\n",
      "C:\\Users\\krish\\AppData\\Local\\Temp\\ipykernel_32076\\4126772671.py:20: RuntimeWarning: Mean of empty slice\n",
      "  image_mean = np.nanmean(out_image_filter)\n",
      "C:\\Users\\krish\\AppData\\Local\\Temp\\ipykernel_32076\\4126772671.py:20: RuntimeWarning: Mean of empty slice\n",
      "  image_mean = np.nanmean(out_image_filter)\n",
      "C:\\Users\\krish\\AppData\\Local\\Temp\\ipykernel_32076\\4126772671.py:20: RuntimeWarning: Mean of empty slice\n",
      "  image_mean = np.nanmean(out_image_filter)\n",
      "C:\\Users\\krish\\AppData\\Local\\Temp\\ipykernel_32076\\4126772671.py:20: RuntimeWarning: Mean of empty slice\n",
      "  image_mean = np.nanmean(out_image_filter)\n",
      "C:\\Users\\krish\\AppData\\Local\\Temp\\ipykernel_32076\\4126772671.py:20: RuntimeWarning: Mean of empty slice\n",
      "  image_mean = np.nanmean(out_image_filter)\n"
     ]
    },
    {
     "name": "stdout",
     "output_type": "stream",
     "text": [
      "<open DatasetReader name='D:/Krish_New/SLGA/pHc_000_005_EV_N_P_AU_NAT_C_20140801.tif' mode='r'>\n"
     ]
    },
    {
     "name": "stderr",
     "output_type": "stream",
     "text": [
      "C:\\Users\\krish\\AppData\\Local\\Temp\\ipykernel_32076\\4126772671.py:20: RuntimeWarning: Mean of empty slice\n",
      "  image_mean = np.nanmean(out_image_filter)\n",
      "C:\\Users\\krish\\AppData\\Local\\Temp\\ipykernel_32076\\4126772671.py:20: RuntimeWarning: Mean of empty slice\n",
      "  image_mean = np.nanmean(out_image_filter)\n",
      "C:\\Users\\krish\\AppData\\Local\\Temp\\ipykernel_32076\\4126772671.py:20: RuntimeWarning: Mean of empty slice\n",
      "  image_mean = np.nanmean(out_image_filter)\n",
      "C:\\Users\\krish\\AppData\\Local\\Temp\\ipykernel_32076\\4126772671.py:20: RuntimeWarning: Mean of empty slice\n",
      "  image_mean = np.nanmean(out_image_filter)\n"
     ]
    },
    {
     "name": "stdout",
     "output_type": "stream",
     "text": [
      "<open DatasetReader name='D:/Krish_New/SLGA/pHc_005_015_EV_N_P_AU_NAT_C_20140801.tif' mode='r'>\n"
     ]
    },
    {
     "name": "stderr",
     "output_type": "stream",
     "text": [
      "C:\\Users\\krish\\AppData\\Local\\Temp\\ipykernel_32076\\4126772671.py:20: RuntimeWarning: Mean of empty slice\n",
      "  image_mean = np.nanmean(out_image_filter)\n",
      "C:\\Users\\krish\\AppData\\Local\\Temp\\ipykernel_32076\\4126772671.py:20: RuntimeWarning: Mean of empty slice\n",
      "  image_mean = np.nanmean(out_image_filter)\n",
      "C:\\Users\\krish\\AppData\\Local\\Temp\\ipykernel_32076\\4126772671.py:20: RuntimeWarning: Mean of empty slice\n",
      "  image_mean = np.nanmean(out_image_filter)\n",
      "C:\\Users\\krish\\AppData\\Local\\Temp\\ipykernel_32076\\4126772671.py:20: RuntimeWarning: Mean of empty slice\n",
      "  image_mean = np.nanmean(out_image_filter)\n"
     ]
    },
    {
     "name": "stdout",
     "output_type": "stream",
     "text": [
      "<open DatasetReader name='D:/Krish_New/SLGA/pHc_015_030_EV_N_P_AU_NAT_C_20140801.tif' mode='r'>\n"
     ]
    },
    {
     "name": "stderr",
     "output_type": "stream",
     "text": [
      "C:\\Users\\krish\\AppData\\Local\\Temp\\ipykernel_32076\\4126772671.py:20: RuntimeWarning: Mean of empty slice\n",
      "  image_mean = np.nanmean(out_image_filter)\n",
      "C:\\Users\\krish\\AppData\\Local\\Temp\\ipykernel_32076\\4126772671.py:20: RuntimeWarning: Mean of empty slice\n",
      "  image_mean = np.nanmean(out_image_filter)\n",
      "C:\\Users\\krish\\AppData\\Local\\Temp\\ipykernel_32076\\4126772671.py:20: RuntimeWarning: Mean of empty slice\n",
      "  image_mean = np.nanmean(out_image_filter)\n",
      "C:\\Users\\krish\\AppData\\Local\\Temp\\ipykernel_32076\\4126772671.py:20: RuntimeWarning: Mean of empty slice\n",
      "  image_mean = np.nanmean(out_image_filter)\n"
     ]
    },
    {
     "name": "stdout",
     "output_type": "stream",
     "text": [
      "<open DatasetReader name='D:/Krish_New/SLGA/pHc_030_060_EV_N_P_AU_NAT_C_20140801.tif' mode='r'>\n"
     ]
    },
    {
     "name": "stderr",
     "output_type": "stream",
     "text": [
      "C:\\Users\\krish\\AppData\\Local\\Temp\\ipykernel_32076\\4126772671.py:20: RuntimeWarning: Mean of empty slice\n",
      "  image_mean = np.nanmean(out_image_filter)\n",
      "C:\\Users\\krish\\AppData\\Local\\Temp\\ipykernel_32076\\4126772671.py:20: RuntimeWarning: Mean of empty slice\n",
      "  image_mean = np.nanmean(out_image_filter)\n",
      "C:\\Users\\krish\\AppData\\Local\\Temp\\ipykernel_32076\\4126772671.py:20: RuntimeWarning: Mean of empty slice\n",
      "  image_mean = np.nanmean(out_image_filter)\n",
      "C:\\Users\\krish\\AppData\\Local\\Temp\\ipykernel_32076\\4126772671.py:20: RuntimeWarning: Mean of empty slice\n",
      "  image_mean = np.nanmean(out_image_filter)\n"
     ]
    },
    {
     "name": "stdout",
     "output_type": "stream",
     "text": [
      "<open DatasetReader name='D:/Krish_New/SLGA/pHc_060_100_EV_N_P_AU_NAT_C_20140801.tif' mode='r'>\n"
     ]
    },
    {
     "name": "stderr",
     "output_type": "stream",
     "text": [
      "C:\\Users\\krish\\AppData\\Local\\Temp\\ipykernel_32076\\4126772671.py:20: RuntimeWarning: Mean of empty slice\n",
      "  image_mean = np.nanmean(out_image_filter)\n",
      "C:\\Users\\krish\\AppData\\Local\\Temp\\ipykernel_32076\\4126772671.py:20: RuntimeWarning: Mean of empty slice\n",
      "  image_mean = np.nanmean(out_image_filter)\n",
      "C:\\Users\\krish\\AppData\\Local\\Temp\\ipykernel_32076\\4126772671.py:20: RuntimeWarning: Mean of empty slice\n",
      "  image_mean = np.nanmean(out_image_filter)\n",
      "C:\\Users\\krish\\AppData\\Local\\Temp\\ipykernel_32076\\4126772671.py:20: RuntimeWarning: Mean of empty slice\n",
      "  image_mean = np.nanmean(out_image_filter)\n"
     ]
    }
   ],
   "source": [
    "for col_idx, df in enumerate(slga_datafiles):\n",
    "    \n",
    "    variable_mean = []\n",
    "    file_path = data_file_path+df\n",
    "    \n",
    "    split_words = df.split('_')[:3]\n",
    "    column_name = '_'.join(split_words)\n",
    "    \n",
    "    with rasterio.open(file_path) as src:\n",
    "        print(src)\n",
    "\n",
    "        for i, shape in enumerate(shapes):\n",
    "\n",
    "            shape = [shape] # shape has to be in a list \n",
    "            shape_name = shapes_name[i] # reference the name of  the site \n",
    "            #print(shape_name)\n",
    "        \n",
    "            out_image, out_transform = rasterio.mask.mask(src, shape, all_touched = True, crop=True, nodata = -999999) # perform masking \n",
    "            out_image_filter = out_image[out_image != -999999]\n",
    "            image_mean = np.nanmean(out_image_filter)\n",
    "            variable_mean.append(image_mean)\n",
    "        \n",
    "    site_slga_data[column_name] = variable_mean"
   ]
  },
  {
   "cell_type": "code",
   "execution_count": 8,
   "id": "091b4195-6051-4255-8c77-0a3774061084",
   "metadata": {
    "tags": []
   },
   "outputs": [
    {
     "data": {
      "text/html": [
       "<div>\n",
       "<style scoped>\n",
       "    .dataframe tbody tr th:only-of-type {\n",
       "        vertical-align: middle;\n",
       "    }\n",
       "\n",
       "    .dataframe tbody tr th {\n",
       "        vertical-align: top;\n",
       "    }\n",
       "\n",
       "    .dataframe thead th {\n",
       "        text-align: right;\n",
       "    }\n",
       "</style>\n",
       "<table border=\"1\" class=\"dataframe\">\n",
       "  <thead>\n",
       "    <tr style=\"text-align: right;\">\n",
       "      <th></th>\n",
       "      <th>CLY_000_005</th>\n",
       "      <th>CLY_005_015</th>\n",
       "      <th>CLY_015_030</th>\n",
       "      <th>CLY_030_060</th>\n",
       "      <th>CLY_060_100</th>\n",
       "      <th>CLY_100_200</th>\n",
       "      <th>DER_000_999</th>\n",
       "      <th>NTO_000_005</th>\n",
       "      <th>NTO_005_015</th>\n",
       "      <th>NTO_015_030</th>\n",
       "      <th>...</th>\n",
       "      <th>SLT_000_005</th>\n",
       "      <th>SLT_005_015</th>\n",
       "      <th>SLT_030_060</th>\n",
       "      <th>SLT_060_100</th>\n",
       "      <th>SLT_100_200</th>\n",
       "      <th>pHc_000_005</th>\n",
       "      <th>pHc_005_015</th>\n",
       "      <th>pHc_015_030</th>\n",
       "      <th>pHc_030_060</th>\n",
       "      <th>pHc_060_100</th>\n",
       "    </tr>\n",
       "  </thead>\n",
       "  <tbody>\n",
       "    <tr>\n",
       "      <th>NSABHC0015</th>\n",
       "      <td>16.750000</td>\n",
       "      <td>18.500000</td>\n",
       "      <td>22.500000</td>\n",
       "      <td>24.750000</td>\n",
       "      <td>26.250000</td>\n",
       "      <td>37.500000</td>\n",
       "      <td>49.353374</td>\n",
       "      <td>0.045113</td>\n",
       "      <td>0.041196</td>\n",
       "      <td>0.033463</td>\n",
       "      <td>...</td>\n",
       "      <td>12.500000</td>\n",
       "      <td>13.000000</td>\n",
       "      <td>14.75</td>\n",
       "      <td>15.750000</td>\n",
       "      <td>11.000000</td>\n",
       "      <td>6.778077</td>\n",
       "      <td>6.810408</td>\n",
       "      <td>6.984777</td>\n",
       "      <td>7.166409</td>\n",
       "      <td>7.353638</td>\n",
       "    </tr>\n",
       "    <tr>\n",
       "      <th>NSABHC0018</th>\n",
       "      <td>14.666667</td>\n",
       "      <td>16.833334</td>\n",
       "      <td>19.166666</td>\n",
       "      <td>23.000000</td>\n",
       "      <td>27.000000</td>\n",
       "      <td>28.333334</td>\n",
       "      <td>36.075130</td>\n",
       "      <td>0.058668</td>\n",
       "      <td>0.053181</td>\n",
       "      <td>0.039478</td>\n",
       "      <td>...</td>\n",
       "      <td>12.000000</td>\n",
       "      <td>12.333333</td>\n",
       "      <td>14.00</td>\n",
       "      <td>15.666667</td>\n",
       "      <td>10.833333</td>\n",
       "      <td>6.760462</td>\n",
       "      <td>6.850828</td>\n",
       "      <td>7.020003</td>\n",
       "      <td>7.166299</td>\n",
       "      <td>7.340396</td>\n",
       "    </tr>\n",
       "    <tr>\n",
       "      <th>NSABHC0019</th>\n",
       "      <td>16.250000</td>\n",
       "      <td>18.250000</td>\n",
       "      <td>20.000000</td>\n",
       "      <td>23.750000</td>\n",
       "      <td>28.000000</td>\n",
       "      <td>28.250000</td>\n",
       "      <td>48.759270</td>\n",
       "      <td>0.050166</td>\n",
       "      <td>0.045422</td>\n",
       "      <td>0.034784</td>\n",
       "      <td>...</td>\n",
       "      <td>12.500000</td>\n",
       "      <td>12.750000</td>\n",
       "      <td>14.00</td>\n",
       "      <td>15.750000</td>\n",
       "      <td>11.000000</td>\n",
       "      <td>6.513579</td>\n",
       "      <td>6.596149</td>\n",
       "      <td>6.790872</td>\n",
       "      <td>7.059542</td>\n",
       "      <td>7.267633</td>\n",
       "    </tr>\n",
       "    <tr>\n",
       "      <th>NSABHC0020</th>\n",
       "      <td>15.000000</td>\n",
       "      <td>17.000000</td>\n",
       "      <td>22.500000</td>\n",
       "      <td>24.750000</td>\n",
       "      <td>27.000000</td>\n",
       "      <td>30.750000</td>\n",
       "      <td>30.916204</td>\n",
       "      <td>0.052847</td>\n",
       "      <td>0.047825</td>\n",
       "      <td>0.033557</td>\n",
       "      <td>...</td>\n",
       "      <td>10.000000</td>\n",
       "      <td>11.000000</td>\n",
       "      <td>13.00</td>\n",
       "      <td>14.000000</td>\n",
       "      <td>10.000000</td>\n",
       "      <td>6.771367</td>\n",
       "      <td>6.856721</td>\n",
       "      <td>7.045397</td>\n",
       "      <td>7.198980</td>\n",
       "      <td>7.352275</td>\n",
       "    </tr>\n",
       "    <tr>\n",
       "      <th>NSABHC0021</th>\n",
       "      <td>17.750000</td>\n",
       "      <td>21.000000</td>\n",
       "      <td>26.500000</td>\n",
       "      <td>29.000000</td>\n",
       "      <td>29.000000</td>\n",
       "      <td>38.000000</td>\n",
       "      <td>37.567871</td>\n",
       "      <td>0.046372</td>\n",
       "      <td>0.042036</td>\n",
       "      <td>0.032747</td>\n",
       "      <td>...</td>\n",
       "      <td>12.750000</td>\n",
       "      <td>13.250000</td>\n",
       "      <td>15.00</td>\n",
       "      <td>15.500000</td>\n",
       "      <td>11.000000</td>\n",
       "      <td>7.007833</td>\n",
       "      <td>7.095415</td>\n",
       "      <td>7.262317</td>\n",
       "      <td>7.415216</td>\n",
       "      <td>7.571328</td>\n",
       "    </tr>\n",
       "    <tr>\n",
       "      <th>...</th>\n",
       "      <td>...</td>\n",
       "      <td>...</td>\n",
       "      <td>...</td>\n",
       "      <td>...</td>\n",
       "      <td>...</td>\n",
       "      <td>...</td>\n",
       "      <td>...</td>\n",
       "      <td>...</td>\n",
       "      <td>...</td>\n",
       "      <td>...</td>\n",
       "      <td>...</td>\n",
       "      <td>...</td>\n",
       "      <td>...</td>\n",
       "      <td>...</td>\n",
       "      <td>...</td>\n",
       "      <td>...</td>\n",
       "      <td>...</td>\n",
       "      <td>...</td>\n",
       "      <td>...</td>\n",
       "      <td>...</td>\n",
       "      <td>...</td>\n",
       "    </tr>\n",
       "    <tr>\n",
       "      <th>WAFWAR0008</th>\n",
       "      <td>7.600000</td>\n",
       "      <td>8.400000</td>\n",
       "      <td>12.000000</td>\n",
       "      <td>17.400000</td>\n",
       "      <td>25.600000</td>\n",
       "      <td>23.200001</td>\n",
       "      <td>4.731328</td>\n",
       "      <td>0.204518</td>\n",
       "      <td>0.164085</td>\n",
       "      <td>0.101007</td>\n",
       "      <td>...</td>\n",
       "      <td>7.800000</td>\n",
       "      <td>7.600000</td>\n",
       "      <td>8.60</td>\n",
       "      <td>9.400000</td>\n",
       "      <td>8.200000</td>\n",
       "      <td>4.642344</td>\n",
       "      <td>4.643826</td>\n",
       "      <td>4.642224</td>\n",
       "      <td>4.677683</td>\n",
       "      <td>4.772305</td>\n",
       "    </tr>\n",
       "    <tr>\n",
       "      <th>WAFWAR0009</th>\n",
       "      <td>8.000000</td>\n",
       "      <td>8.400000</td>\n",
       "      <td>10.600000</td>\n",
       "      <td>12.600000</td>\n",
       "      <td>22.000000</td>\n",
       "      <td>12.800000</td>\n",
       "      <td>5.439118</td>\n",
       "      <td>0.197557</td>\n",
       "      <td>0.157514</td>\n",
       "      <td>0.088943</td>\n",
       "      <td>...</td>\n",
       "      <td>8.000000</td>\n",
       "      <td>8.000000</td>\n",
       "      <td>7.00</td>\n",
       "      <td>8.400000</td>\n",
       "      <td>6.200000</td>\n",
       "      <td>4.820743</td>\n",
       "      <td>4.796637</td>\n",
       "      <td>4.820189</td>\n",
       "      <td>4.864625</td>\n",
       "      <td>5.018898</td>\n",
       "    </tr>\n",
       "    <tr>\n",
       "      <th>WAGCOO0001</th>\n",
       "      <td>11.200000</td>\n",
       "      <td>12.400000</td>\n",
       "      <td>15.800000</td>\n",
       "      <td>19.799999</td>\n",
       "      <td>18.200001</td>\n",
       "      <td>22.400000</td>\n",
       "      <td>9.971666</td>\n",
       "      <td>0.047585</td>\n",
       "      <td>0.041912</td>\n",
       "      <td>0.030763</td>\n",
       "      <td>...</td>\n",
       "      <td>6.800000</td>\n",
       "      <td>7.200000</td>\n",
       "      <td>7.80</td>\n",
       "      <td>7.000000</td>\n",
       "      <td>8.000000</td>\n",
       "      <td>5.374317</td>\n",
       "      <td>5.390033</td>\n",
       "      <td>5.489561</td>\n",
       "      <td>5.461819</td>\n",
       "      <td>5.604017</td>\n",
       "    </tr>\n",
       "    <tr>\n",
       "      <th>WAGCOO0002</th>\n",
       "      <td>8.500000</td>\n",
       "      <td>8.750000</td>\n",
       "      <td>10.500000</td>\n",
       "      <td>11.750000</td>\n",
       "      <td>12.750000</td>\n",
       "      <td>18.500000</td>\n",
       "      <td>12.241350</td>\n",
       "      <td>0.037882</td>\n",
       "      <td>0.033406</td>\n",
       "      <td>0.024979</td>\n",
       "      <td>...</td>\n",
       "      <td>4.250000</td>\n",
       "      <td>4.250000</td>\n",
       "      <td>4.75</td>\n",
       "      <td>4.250000</td>\n",
       "      <td>7.000000</td>\n",
       "      <td>5.238029</td>\n",
       "      <td>5.247667</td>\n",
       "      <td>5.333941</td>\n",
       "      <td>5.336809</td>\n",
       "      <td>5.485204</td>\n",
       "    </tr>\n",
       "    <tr>\n",
       "      <th>WAGCOO0004</th>\n",
       "      <td>12.666667</td>\n",
       "      <td>14.333333</td>\n",
       "      <td>19.833334</td>\n",
       "      <td>22.500000</td>\n",
       "      <td>20.666666</td>\n",
       "      <td>22.833334</td>\n",
       "      <td>16.202600</td>\n",
       "      <td>0.039451</td>\n",
       "      <td>0.035003</td>\n",
       "      <td>0.024504</td>\n",
       "      <td>...</td>\n",
       "      <td>8.666667</td>\n",
       "      <td>9.000000</td>\n",
       "      <td>10.00</td>\n",
       "      <td>9.666667</td>\n",
       "      <td>8.000000</td>\n",
       "      <td>5.944817</td>\n",
       "      <td>5.980247</td>\n",
       "      <td>6.143389</td>\n",
       "      <td>6.322495</td>\n",
       "      <td>6.489493</td>\n",
       "    </tr>\n",
       "  </tbody>\n",
       "</table>\n",
       "<p>907 rows × 32 columns</p>\n",
       "</div>"
      ],
      "text/plain": [
       "            CLY_000_005  CLY_005_015  CLY_015_030  CLY_030_060  CLY_060_100  \\\n",
       "NSABHC0015    16.750000    18.500000    22.500000    24.750000    26.250000   \n",
       "NSABHC0018    14.666667    16.833334    19.166666    23.000000    27.000000   \n",
       "NSABHC0019    16.250000    18.250000    20.000000    23.750000    28.000000   \n",
       "NSABHC0020    15.000000    17.000000    22.500000    24.750000    27.000000   \n",
       "NSABHC0021    17.750000    21.000000    26.500000    29.000000    29.000000   \n",
       "...                 ...          ...          ...          ...          ...   \n",
       "WAFWAR0008     7.600000     8.400000    12.000000    17.400000    25.600000   \n",
       "WAFWAR0009     8.000000     8.400000    10.600000    12.600000    22.000000   \n",
       "WAGCOO0001    11.200000    12.400000    15.800000    19.799999    18.200001   \n",
       "WAGCOO0002     8.500000     8.750000    10.500000    11.750000    12.750000   \n",
       "WAGCOO0004    12.666667    14.333333    19.833334    22.500000    20.666666   \n",
       "\n",
       "            CLY_100_200  DER_000_999  NTO_000_005  NTO_005_015  NTO_015_030  \\\n",
       "NSABHC0015    37.500000    49.353374     0.045113     0.041196     0.033463   \n",
       "NSABHC0018    28.333334    36.075130     0.058668     0.053181     0.039478   \n",
       "NSABHC0019    28.250000    48.759270     0.050166     0.045422     0.034784   \n",
       "NSABHC0020    30.750000    30.916204     0.052847     0.047825     0.033557   \n",
       "NSABHC0021    38.000000    37.567871     0.046372     0.042036     0.032747   \n",
       "...                 ...          ...          ...          ...          ...   \n",
       "WAFWAR0008    23.200001     4.731328     0.204518     0.164085     0.101007   \n",
       "WAFWAR0009    12.800000     5.439118     0.197557     0.157514     0.088943   \n",
       "WAGCOO0001    22.400000     9.971666     0.047585     0.041912     0.030763   \n",
       "WAGCOO0002    18.500000    12.241350     0.037882     0.033406     0.024979   \n",
       "WAGCOO0004    22.833334    16.202600     0.039451     0.035003     0.024504   \n",
       "\n",
       "            ...  SLT_000_005  SLT_005_015  SLT_030_060  SLT_060_100  \\\n",
       "NSABHC0015  ...    12.500000    13.000000        14.75    15.750000   \n",
       "NSABHC0018  ...    12.000000    12.333333        14.00    15.666667   \n",
       "NSABHC0019  ...    12.500000    12.750000        14.00    15.750000   \n",
       "NSABHC0020  ...    10.000000    11.000000        13.00    14.000000   \n",
       "NSABHC0021  ...    12.750000    13.250000        15.00    15.500000   \n",
       "...         ...          ...          ...          ...          ...   \n",
       "WAFWAR0008  ...     7.800000     7.600000         8.60     9.400000   \n",
       "WAFWAR0009  ...     8.000000     8.000000         7.00     8.400000   \n",
       "WAGCOO0001  ...     6.800000     7.200000         7.80     7.000000   \n",
       "WAGCOO0002  ...     4.250000     4.250000         4.75     4.250000   \n",
       "WAGCOO0004  ...     8.666667     9.000000        10.00     9.666667   \n",
       "\n",
       "            SLT_100_200  pHc_000_005  pHc_005_015  pHc_015_030  pHc_030_060  \\\n",
       "NSABHC0015    11.000000     6.778077     6.810408     6.984777     7.166409   \n",
       "NSABHC0018    10.833333     6.760462     6.850828     7.020003     7.166299   \n",
       "NSABHC0019    11.000000     6.513579     6.596149     6.790872     7.059542   \n",
       "NSABHC0020    10.000000     6.771367     6.856721     7.045397     7.198980   \n",
       "NSABHC0021    11.000000     7.007833     7.095415     7.262317     7.415216   \n",
       "...                 ...          ...          ...          ...          ...   \n",
       "WAFWAR0008     8.200000     4.642344     4.643826     4.642224     4.677683   \n",
       "WAFWAR0009     6.200000     4.820743     4.796637     4.820189     4.864625   \n",
       "WAGCOO0001     8.000000     5.374317     5.390033     5.489561     5.461819   \n",
       "WAGCOO0002     7.000000     5.238029     5.247667     5.333941     5.336809   \n",
       "WAGCOO0004     8.000000     5.944817     5.980247     6.143389     6.322495   \n",
       "\n",
       "            pHc_060_100  \n",
       "NSABHC0015     7.353638  \n",
       "NSABHC0018     7.340396  \n",
       "NSABHC0019     7.267633  \n",
       "NSABHC0020     7.352275  \n",
       "NSABHC0021     7.571328  \n",
       "...                 ...  \n",
       "WAFWAR0008     4.772305  \n",
       "WAFWAR0009     5.018898  \n",
       "WAGCOO0001     5.604017  \n",
       "WAGCOO0002     5.485204  \n",
       "WAGCOO0004     6.489493  \n",
       "\n",
       "[907 rows x 32 columns]"
      ]
     },
     "execution_count": 8,
     "metadata": {},
     "output_type": "execute_result"
    }
   ],
   "source": [
    "site_slga_data"
   ]
  },
  {
   "cell_type": "code",
   "execution_count": 9,
   "id": "e2e7def0-0159-4f9e-94fc-66c5b5e4b66a",
   "metadata": {
    "tags": []
   },
   "outputs": [],
   "source": [
    "site_slga_data.to_csv('../DATASETS/Soils_and_Landscape_Grid_of_Australia/Output/site_slga_data.csv')"
   ]
  },
  {
   "cell_type": "code",
   "execution_count": 10,
   "id": "9f3ece48-1f45-4dde-b2d2-4633a1c988cb",
   "metadata": {},
   "outputs": [
    {
     "data": {
      "text/html": [
       "<div>\n",
       "<style scoped>\n",
       "    .dataframe tbody tr th:only-of-type {\n",
       "        vertical-align: middle;\n",
       "    }\n",
       "\n",
       "    .dataframe tbody tr th {\n",
       "        vertical-align: top;\n",
       "    }\n",
       "\n",
       "    .dataframe thead th {\n",
       "        text-align: right;\n",
       "    }\n",
       "</style>\n",
       "<table border=\"1\" class=\"dataframe\">\n",
       "  <thead>\n",
       "    <tr style=\"text-align: right;\">\n",
       "      <th></th>\n",
       "      <th>CLY_000_005</th>\n",
       "      <th>CLY_005_015</th>\n",
       "      <th>CLY_015_030</th>\n",
       "      <th>CLY_030_060</th>\n",
       "      <th>CLY_060_100</th>\n",
       "      <th>CLY_100_200</th>\n",
       "      <th>DER_000_999</th>\n",
       "      <th>NTO_000_005</th>\n",
       "      <th>NTO_005_015</th>\n",
       "      <th>NTO_015_030</th>\n",
       "      <th>...</th>\n",
       "      <th>SLT_000_005</th>\n",
       "      <th>SLT_005_015</th>\n",
       "      <th>SLT_030_060</th>\n",
       "      <th>SLT_060_100</th>\n",
       "      <th>SLT_100_200</th>\n",
       "      <th>pHc_000_005</th>\n",
       "      <th>pHc_005_015</th>\n",
       "      <th>pHc_015_030</th>\n",
       "      <th>pHc_030_060</th>\n",
       "      <th>pHc_060_100</th>\n",
       "    </tr>\n",
       "  </thead>\n",
       "  <tbody>\n",
       "    <tr>\n",
       "      <th>NSABHC0015</th>\n",
       "      <td>16.750000</td>\n",
       "      <td>18.500000</td>\n",
       "      <td>22.500000</td>\n",
       "      <td>24.75</td>\n",
       "      <td>26.25</td>\n",
       "      <td>37.500000</td>\n",
       "      <td>49.353374</td>\n",
       "      <td>0.045113</td>\n",
       "      <td>0.041196</td>\n",
       "      <td>0.033463</td>\n",
       "      <td>...</td>\n",
       "      <td>12.50</td>\n",
       "      <td>13.000000</td>\n",
       "      <td>14.75</td>\n",
       "      <td>15.750000</td>\n",
       "      <td>11.000000</td>\n",
       "      <td>6.778077</td>\n",
       "      <td>6.810408</td>\n",
       "      <td>6.984777</td>\n",
       "      <td>7.166410</td>\n",
       "      <td>7.353638</td>\n",
       "    </tr>\n",
       "    <tr>\n",
       "      <th>NSABHC0018</th>\n",
       "      <td>14.666667</td>\n",
       "      <td>16.833334</td>\n",
       "      <td>19.166666</td>\n",
       "      <td>23.00</td>\n",
       "      <td>27.00</td>\n",
       "      <td>28.333334</td>\n",
       "      <td>36.075130</td>\n",
       "      <td>0.058668</td>\n",
       "      <td>0.053181</td>\n",
       "      <td>0.039478</td>\n",
       "      <td>...</td>\n",
       "      <td>12.00</td>\n",
       "      <td>12.333333</td>\n",
       "      <td>14.00</td>\n",
       "      <td>15.666667</td>\n",
       "      <td>10.833333</td>\n",
       "      <td>6.760462</td>\n",
       "      <td>6.850828</td>\n",
       "      <td>7.020003</td>\n",
       "      <td>7.166299</td>\n",
       "      <td>7.340396</td>\n",
       "    </tr>\n",
       "    <tr>\n",
       "      <th>NSABHC0019</th>\n",
       "      <td>16.250000</td>\n",
       "      <td>18.250000</td>\n",
       "      <td>20.000000</td>\n",
       "      <td>23.75</td>\n",
       "      <td>28.00</td>\n",
       "      <td>28.250000</td>\n",
       "      <td>48.759270</td>\n",
       "      <td>0.050166</td>\n",
       "      <td>0.045422</td>\n",
       "      <td>0.034784</td>\n",
       "      <td>...</td>\n",
       "      <td>12.50</td>\n",
       "      <td>12.750000</td>\n",
       "      <td>14.00</td>\n",
       "      <td>15.750000</td>\n",
       "      <td>11.000000</td>\n",
       "      <td>6.513579</td>\n",
       "      <td>6.596149</td>\n",
       "      <td>6.790872</td>\n",
       "      <td>7.059542</td>\n",
       "      <td>7.267633</td>\n",
       "    </tr>\n",
       "    <tr>\n",
       "      <th>NSABHC0020</th>\n",
       "      <td>15.000000</td>\n",
       "      <td>17.000000</td>\n",
       "      <td>22.500000</td>\n",
       "      <td>24.75</td>\n",
       "      <td>27.00</td>\n",
       "      <td>30.750000</td>\n",
       "      <td>30.916204</td>\n",
       "      <td>0.052847</td>\n",
       "      <td>0.047825</td>\n",
       "      <td>0.033557</td>\n",
       "      <td>...</td>\n",
       "      <td>10.00</td>\n",
       "      <td>11.000000</td>\n",
       "      <td>13.00</td>\n",
       "      <td>14.000000</td>\n",
       "      <td>10.000000</td>\n",
       "      <td>6.771367</td>\n",
       "      <td>6.856721</td>\n",
       "      <td>7.045397</td>\n",
       "      <td>7.198980</td>\n",
       "      <td>7.352275</td>\n",
       "    </tr>\n",
       "    <tr>\n",
       "      <th>NSABHC0021</th>\n",
       "      <td>17.750000</td>\n",
       "      <td>21.000000</td>\n",
       "      <td>26.500000</td>\n",
       "      <td>29.00</td>\n",
       "      <td>29.00</td>\n",
       "      <td>38.000000</td>\n",
       "      <td>37.567870</td>\n",
       "      <td>0.046372</td>\n",
       "      <td>0.042036</td>\n",
       "      <td>0.032747</td>\n",
       "      <td>...</td>\n",
       "      <td>12.75</td>\n",
       "      <td>13.250000</td>\n",
       "      <td>15.00</td>\n",
       "      <td>15.500000</td>\n",
       "      <td>11.000000</td>\n",
       "      <td>7.007833</td>\n",
       "      <td>7.095415</td>\n",
       "      <td>7.262317</td>\n",
       "      <td>7.415216</td>\n",
       "      <td>7.571328</td>\n",
       "    </tr>\n",
       "  </tbody>\n",
       "</table>\n",
       "<p>5 rows × 32 columns</p>\n",
       "</div>"
      ],
      "text/plain": [
       "            CLY_000_005  CLY_005_015  CLY_015_030  CLY_030_060  CLY_060_100  \\\n",
       "NSABHC0015    16.750000    18.500000    22.500000        24.75        26.25   \n",
       "NSABHC0018    14.666667    16.833334    19.166666        23.00        27.00   \n",
       "NSABHC0019    16.250000    18.250000    20.000000        23.75        28.00   \n",
       "NSABHC0020    15.000000    17.000000    22.500000        24.75        27.00   \n",
       "NSABHC0021    17.750000    21.000000    26.500000        29.00        29.00   \n",
       "\n",
       "            CLY_100_200  DER_000_999  NTO_000_005  NTO_005_015  NTO_015_030  \\\n",
       "NSABHC0015    37.500000    49.353374     0.045113     0.041196     0.033463   \n",
       "NSABHC0018    28.333334    36.075130     0.058668     0.053181     0.039478   \n",
       "NSABHC0019    28.250000    48.759270     0.050166     0.045422     0.034784   \n",
       "NSABHC0020    30.750000    30.916204     0.052847     0.047825     0.033557   \n",
       "NSABHC0021    38.000000    37.567870     0.046372     0.042036     0.032747   \n",
       "\n",
       "            ...  SLT_000_005  SLT_005_015  SLT_030_060  SLT_060_100  \\\n",
       "NSABHC0015  ...        12.50    13.000000        14.75    15.750000   \n",
       "NSABHC0018  ...        12.00    12.333333        14.00    15.666667   \n",
       "NSABHC0019  ...        12.50    12.750000        14.00    15.750000   \n",
       "NSABHC0020  ...        10.00    11.000000        13.00    14.000000   \n",
       "NSABHC0021  ...        12.75    13.250000        15.00    15.500000   \n",
       "\n",
       "            SLT_100_200  pHc_000_005  pHc_005_015  pHc_015_030  pHc_030_060  \\\n",
       "NSABHC0015    11.000000     6.778077     6.810408     6.984777     7.166410   \n",
       "NSABHC0018    10.833333     6.760462     6.850828     7.020003     7.166299   \n",
       "NSABHC0019    11.000000     6.513579     6.596149     6.790872     7.059542   \n",
       "NSABHC0020    10.000000     6.771367     6.856721     7.045397     7.198980   \n",
       "NSABHC0021    11.000000     7.007833     7.095415     7.262317     7.415216   \n",
       "\n",
       "            pHc_060_100  \n",
       "NSABHC0015     7.353638  \n",
       "NSABHC0018     7.340396  \n",
       "NSABHC0019     7.267633  \n",
       "NSABHC0020     7.352275  \n",
       "NSABHC0021     7.571328  \n",
       "\n",
       "[5 rows x 32 columns]"
      ]
     },
     "execution_count": 10,
     "metadata": {},
     "output_type": "execute_result"
    }
   ],
   "source": [
    "site_slga_data = pd.read_csv('../DATASETS/Soils_and_Landscape_Grid_of_Australia/Output/site_slga_data.csv', index_col = 0)\n",
    "site_slga_data.head()"
   ]
  },
  {
   "cell_type": "code",
   "execution_count": 11,
   "id": "2bb7d85a-a67e-4bb9-b625-9e9ed9c617d8",
   "metadata": {
    "tags": []
   },
   "outputs": [
    {
     "data": {
      "text/plain": [
       "NSABHC0015    8.400000\n",
       "NSABHC0018    7.900000\n",
       "NSABHC0019    7.900000\n",
       "NSABHC0020    8.025000\n",
       "NSABHC0021    8.300000\n",
       "                ...   \n",
       "WAFWAR0008    6.120000\n",
       "WAFWAR0009    6.440000\n",
       "WAGCOO0001    6.639999\n",
       "WAGCOO0002    6.425000\n",
       "WAGCOO0004    7.150000\n",
       "Name: PHW_005_015, Length: 907, dtype: float64"
      ]
     },
     "execution_count": 11,
     "metadata": {},
     "output_type": "execute_result"
    }
   ],
   "source": [
    "site_slga_data['PHW_005_015']"
   ]
  },
  {
   "cell_type": "code",
   "execution_count": 12,
   "id": "dd5d0365-686a-4e4c-bae8-c2918b271a99",
   "metadata": {
    "tags": []
   },
   "outputs": [],
   "source": [
    "groups = []\n",
    "for i in site_slga_data.index:\n",
    "    groups.append(i[:6])\n",
    "    \n",
    "site_slga_data_1 = site_slga_data.copy()\n",
    "site_slga_data_1['group'] = groups"
   ]
  }
 ],
 "metadata": {
  "kernelspec": {
   "display_name": "Python 3 (ipykernel)",
   "language": "python",
   "name": "python3"
  },
  "language_info": {
   "codemirror_mode": {
    "name": "ipython",
    "version": 3
   },
   "file_extension": ".py",
   "mimetype": "text/x-python",
   "name": "python",
   "nbconvert_exporter": "python",
   "pygments_lexer": "ipython3",
   "version": "3.11.5"
  }
 },
 "nbformat": 4,
 "nbformat_minor": 5
}
