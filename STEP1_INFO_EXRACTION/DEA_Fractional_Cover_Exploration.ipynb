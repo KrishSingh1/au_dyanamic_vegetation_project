{
 "cells": [
  {
   "cell_type": "code",
   "execution_count": 13,
   "id": "28ec643e",
   "metadata": {
    "scrolled": true
   },
   "outputs": [],
   "source": [
    "import datacube\n",
    "from datacube.utils import masking\n",
    "import matplotlib.pyplot as plt\n",
    "\n",
    "#import sys\n",
    "#sys.path.insert(1, '../Tools/')\n",
    "#from dea_tools.datahandling import wofs_fuser\n",
    "#from dea_tools.plotting import rgb, plot_wo"
   ]
  },
  {
   "cell_type": "code",
   "execution_count": 14,
   "id": "297055b3",
   "metadata": {},
   "outputs": [
    {
     "ename": "ValueError",
     "evalue": "No ODC environment, checked configurations for ['default', 'datacube']",
     "output_type": "error",
     "traceback": [
      "\u001b[1;31m---------------------------------------------------------------------------\u001b[0m",
      "\u001b[1;31mValueError\u001b[0m                                Traceback (most recent call last)",
      "Input \u001b[1;32mIn [14]\u001b[0m, in \u001b[0;36m<cell line: 1>\u001b[1;34m()\u001b[0m\n\u001b[1;32m----> 1\u001b[0m dc \u001b[38;5;241m=\u001b[39m \u001b[43mdatacube\u001b[49m\u001b[38;5;241;43m.\u001b[39;49m\u001b[43mDatacube\u001b[49m\u001b[43m(\u001b[49m\u001b[43mapp\u001b[49m\u001b[38;5;241;43m=\u001b[39;49m\u001b[38;5;124;43m'\u001b[39;49m\u001b[38;5;124;43mDEA_Fractional_Cover\u001b[39;49m\u001b[38;5;124;43m'\u001b[39;49m\u001b[43m)\u001b[49m\n",
      "File \u001b[1;32m~\\anaconda3\\lib\\site-packages\\datacube\\api\\core.py:87\u001b[0m, in \u001b[0;36mDatacube.__init__\u001b[1;34m(self, index, config, app, env, validate_connection)\u001b[0m\n\u001b[0;32m     84\u001b[0m     \u001b[38;5;28;01mreturn\u001b[39;00m config\n\u001b[0;32m     86\u001b[0m \u001b[38;5;28;01mif\u001b[39;00m index \u001b[38;5;129;01mis\u001b[39;00m \u001b[38;5;28;01mNone\u001b[39;00m:\n\u001b[1;32m---> 87\u001b[0m     index \u001b[38;5;241m=\u001b[39m index_connect(\u001b[43mnormalise_config\u001b[49m\u001b[43m(\u001b[49m\u001b[43mconfig\u001b[49m\u001b[43m)\u001b[49m,\n\u001b[0;32m     88\u001b[0m                           application_name\u001b[38;5;241m=\u001b[39mapp,\n\u001b[0;32m     89\u001b[0m                           validate_connection\u001b[38;5;241m=\u001b[39mvalidate_connection)\n\u001b[0;32m     91\u001b[0m \u001b[38;5;28mself\u001b[39m\u001b[38;5;241m.\u001b[39mindex \u001b[38;5;241m=\u001b[39m index\n",
      "File \u001b[1;32m~\\anaconda3\\lib\\site-packages\\datacube\\api\\core.py:81\u001b[0m, in \u001b[0;36mDatacube.__init__.<locals>.normalise_config\u001b[1;34m(config)\u001b[0m\n\u001b[0;32m     79\u001b[0m \u001b[38;5;28;01mdef\u001b[39;00m \u001b[38;5;21mnormalise_config\u001b[39m(config):\n\u001b[0;32m     80\u001b[0m     \u001b[38;5;28;01mif\u001b[39;00m config \u001b[38;5;129;01mis\u001b[39;00m \u001b[38;5;28;01mNone\u001b[39;00m:\n\u001b[1;32m---> 81\u001b[0m         \u001b[38;5;28;01mreturn\u001b[39;00m \u001b[43mLocalConfig\u001b[49m\u001b[38;5;241;43m.\u001b[39;49m\u001b[43mfind\u001b[49m\u001b[43m(\u001b[49m\u001b[43menv\u001b[49m\u001b[38;5;241;43m=\u001b[39;49m\u001b[43menv\u001b[49m\u001b[43m)\u001b[49m\n\u001b[0;32m     82\u001b[0m     \u001b[38;5;28;01mif\u001b[39;00m \u001b[38;5;28misinstance\u001b[39m(config, \u001b[38;5;28mstr\u001b[39m):\n\u001b[0;32m     83\u001b[0m         \u001b[38;5;28;01mreturn\u001b[39;00m LocalConfig\u001b[38;5;241m.\u001b[39mfind([config], env\u001b[38;5;241m=\u001b[39menv)\n",
      "File \u001b[1;32m~\\anaconda3\\lib\\site-packages\\datacube\\config.py:133\u001b[0m, in \u001b[0;36mLocalConfig.find\u001b[1;34m(cls, paths, env)\u001b[0m\n\u001b[0;32m    129\u001b[0m     paths \u001b[38;5;241m=\u001b[39m [\u001b[38;5;28mstr\u001b[39m(paths)]\n\u001b[0;32m    131\u001b[0m files_loaded \u001b[38;5;241m=\u001b[39m config\u001b[38;5;241m.\u001b[39mread(\u001b[38;5;28mstr\u001b[39m(p) \u001b[38;5;28;01mfor\u001b[39;00m p \u001b[38;5;129;01min\u001b[39;00m paths \u001b[38;5;28;01mif\u001b[39;00m p)\n\u001b[1;32m--> 133\u001b[0m \u001b[38;5;28;01mreturn\u001b[39;00m \u001b[43mLocalConfig\u001b[49m\u001b[43m(\u001b[49m\n\u001b[0;32m    134\u001b[0m \u001b[43m    \u001b[49m\u001b[43mconfig\u001b[49m\u001b[43m,\u001b[49m\n\u001b[0;32m    135\u001b[0m \u001b[43m    \u001b[49m\u001b[43mfiles_loaded\u001b[49m\u001b[38;5;241;43m=\u001b[39;49m\u001b[43mfiles_loaded\u001b[49m\u001b[43m,\u001b[49m\n\u001b[0;32m    136\u001b[0m \u001b[43m    \u001b[49m\u001b[43menv\u001b[49m\u001b[38;5;241;43m=\u001b[39;49m\u001b[43menv\u001b[49m\u001b[43m,\u001b[49m\n\u001b[0;32m    137\u001b[0m \u001b[43m\u001b[49m\u001b[43m)\u001b[49m\n",
      "File \u001b[1;32m~\\anaconda3\\lib\\site-packages\\datacube\\config.py:106\u001b[0m, in \u001b[0;36mLocalConfig.__init__\u001b[1;34m(self, config, files_loaded, env)\u001b[0m\n\u001b[0;32m    104\u001b[0m         \u001b[38;5;28mself\u001b[39m\u001b[38;5;241m.\u001b[39m_env \u001b[38;5;241m=\u001b[39m fallback_env\n\u001b[0;32m    105\u001b[0m         \u001b[38;5;28;01mreturn\u001b[39;00m\n\u001b[1;32m--> 106\u001b[0m \u001b[38;5;28;01mraise\u001b[39;00m \u001b[38;5;167;01mValueError\u001b[39;00m(\u001b[38;5;124m'\u001b[39m\u001b[38;5;124mNo ODC environment, checked configurations for \u001b[39m\u001b[38;5;132;01m%s\u001b[39;00m\u001b[38;5;124m'\u001b[39m \u001b[38;5;241m%\u001b[39m fallbacks)\n",
      "\u001b[1;31mValueError\u001b[0m: No ODC environment, checked configurations for ['default', 'datacube']"
     ]
    }
   ],
   "source": [
    "dc = datacube.Datacube(app='DEA_Fractional_Cover')"
   ]
  },
  {
   "cell_type": "code",
   "execution_count": null,
   "id": "b2e5cf9f",
   "metadata": {},
   "outputs": [],
   "source": []
  }
 ],
 "metadata": {
  "kernelspec": {
   "display_name": "Python 3 (ipykernel)",
   "language": "python",
   "name": "python3"
  },
  "language_info": {
   "codemirror_mode": {
    "name": "ipython",
    "version": 3
   },
   "file_extension": ".py",
   "mimetype": "text/x-python",
   "name": "python",
   "nbconvert_exporter": "python",
   "pygments_lexer": "ipython3",
   "version": "3.9.12"
  }
 },
 "nbformat": 4,
 "nbformat_minor": 5
}
