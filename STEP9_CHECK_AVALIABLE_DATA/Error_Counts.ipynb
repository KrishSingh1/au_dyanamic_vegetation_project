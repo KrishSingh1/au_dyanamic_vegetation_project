{
 "cells": [
  {
   "cell_type": "markdown",
   "id": "73568015-4672-431f-af30-1af88c8833d0",
   "metadata": {
    "tags": []
   },
   "source": [
    "# Checking Valid Preprocessed Dataset"
   ]
  },
  {
   "attachments": {
    "15e29418-f00d-49c0-bcef-c2d1dba56015.png": {
     "image/png": "[encoded data removed]"
    }
   },
   "cell_type": "markdown",
   "id": "34b45348-3e8a-465d-83d7-80d38d7dc153",
   "metadata": {},
   "source": [
    "This is to check for associated error codes for sites. These error codes means that there are missing fire history, vegetation cover, DEA FC, or SLGA data.\n",
    "\n",
    "![image.png](attachment:15e29418-f00d-49c0-bcef-c2d1dba56015.png)"
   ]
  },
  {
   "cell_type": "code",
   "execution_count": 1,
   "id": "8e9fe1b7-1843-4bcd-87a3-ddae2e1e8c24",
   "metadata": {
    "tags": []
   },
   "outputs": [],
   "source": [
    "import pandas as pd"
   ]
  },
  {
   "cell_type": "markdown",
   "id": "2eda0e56-fea9-4632-9cd5-588492ff40a4",
   "metadata": {},
   "source": [
    "## Checking the associated errors that came with the first batch"
   ]
  },
  {
   "cell_type": "code",
   "execution_count": 2,
   "id": "e98e5d59-bf0c-489d-a4bd-a5c5c017f548",
   "metadata": {
    "tags": []
   },
   "outputs": [],
   "source": [
    "log = pd.read_csv('../DATASETS/DEA_FC_PROCESSED/MODELLED_PREPROCESSED/Log/Site_Preprocessing_Log_1.csv', index_col = 0)"
   ]
  },
  {
   "cell_type": "code",
   "execution_count": 3,
   "id": "81ca2f0e-c308-4054-809a-8aa09c0b550d",
   "metadata": {
    "tags": []
   },
   "outputs": [],
   "source": [
    "log = log.fillna(0)\n",
    "log = log.sort_values('Error')\n",
    "log = log.astype(int).astype(str)"
   ]
  },
  {
   "cell_type": "code",
   "execution_count": 4,
   "id": "2ab982ca-92f1-4b72-a576-870a5ee5432a",
   "metadata": {
    "tags": []
   },
   "outputs": [],
   "source": [
    "error_counts = log.value_counts()"
   ]
  },
  {
   "cell_type": "code",
   "execution_count": 5,
   "id": "57fab1e9-ea0f-42d3-9bf3-f6192bd937a5",
   "metadata": {
    "tags": []
   },
   "outputs": [
    {
     "data": {
      "text/plain": [
       "Error\n",
       "1        533\n",
       "0        162\n",
       "13         5\n",
       "14         5\n",
       "4          3\n",
       "12         2\n",
       "2          1\n",
       "3          1\n",
       "34         1\n",
       "Name: count, dtype: int64"
      ]
     },
     "execution_count": 5,
     "metadata": {},
     "output_type": "execute_result"
    }
   ],
   "source": [
    "error_counts"
   ]
  },
  {
   "cell_type": "code",
   "execution_count": 6,
   "id": "69da0888-baf0-473a-a355-6213dd87666b",
   "metadata": {
    "tags": []
   },
   "outputs": [
    {
     "data": {
      "text/plain": [
       "180"
      ]
     },
     "execution_count": 6,
     "metadata": {},
     "output_type": "execute_result"
    }
   ],
   "source": [
    "error_counts[1:].sum()"
   ]
  },
  {
   "cell_type": "code",
   "execution_count": 7,
   "id": "edc1e93f-1785-4481-88a8-43d8bc93e95f",
   "metadata": {
    "tags": []
   },
   "outputs": [
    {
     "data": {
      "text/plain": [
       "695"
      ]
     },
     "execution_count": 7,
     "metadata": {},
     "output_type": "execute_result"
    }
   ],
   "source": [
    "error_counts[:2].sum()"
   ]
  },
  {
   "cell_type": "markdown",
   "id": "0f2aaea4-5379-4b92-9e7d-c61b7680f31f",
   "metadata": {},
   "source": [
    "As above, 695 was originally the number of sites with 'complete datasets'"
   ]
  },
  {
   "cell_type": "markdown",
   "id": "1eb5e042-b4c2-4383-8719-9eb07b33df50",
   "metadata": {},
   "source": [
    "## With the new sets of AusPlot sites being made avaliable, Check how many 'complete' datasets were released"
   ]
  },
  {
   "cell_type": "markdown",
   "id": "b358f9fd-7345-4f87-8a1a-35439126d6ef",
   "metadata": {},
   "source": [
    "Since I am yet to collect DEA FC for the rest of the sites, I'll do an estimate by checking if the associated sites are recorded in SLGA and growth form cover"
   ]
  },
  {
   "cell_type": "code",
   "execution_count": 8,
   "id": "06b52785-c7df-4ce0-970f-4ba09a235649",
   "metadata": {
    "tags": []
   },
   "outputs": [],
   "source": [
    "avaliable_veg = pd.read_csv('../DATASETS/AusPlots_Extracted_Data/Final/growth_forms_classification_by_dom_species_final_2-0-6.csv', index_col = 0)\n",
    "avaliable_soil = pd.read_csv('../DATASETS/Soils_and_Landscape_Grid_of_Australia/Output/SGLA_PCA_3.csv', index_col = 0)\n",
    "valid_sites = set(avaliable_veg['site_location_name']).intersection(avaliable_soil.index)"
   ]
  },
  {
   "cell_type": "code",
   "execution_count": 9,
   "id": "ea256a50-ec19-4e48-8fa0-23953508e3be",
   "metadata": {
    "tags": []
   },
   "outputs": [],
   "source": [
    "valid_sites = pd.DataFrame([list(valid_sites), [1 for i in range(len(valid_sites))]]).T\n",
    "valid_sites = valid_sites.rename(columns = {0 : 'site_location_name', 1: 'is_complete'})"
   ]
  },
  {
   "cell_type": "code",
   "execution_count": 10,
   "id": "99df6eec-560b-4002-ae68-8d840c2e3105",
   "metadata": {
    "tags": []
   },
   "outputs": [],
   "source": [
    "valid_sites.to_csv('../DATASETS/AusPlots_Extracted_Data/Final/completed_AusPlots_dataset_2-0-6.csv')"
   ]
  },
  {
   "cell_type": "code",
   "execution_count": 11,
   "id": "dd611f03-744d-44b8-a01f-b0c0f22fafd3",
   "metadata": {
    "tags": []
   },
   "outputs": [
    {
     "data": {
      "text/html": [
       "<div>\n",
       "<style scoped>\n",
       "    .dataframe tbody tr th:only-of-type {\n",
       "        vertical-align: middle;\n",
       "    }\n",
       "\n",
       "    .dataframe tbody tr th {\n",
       "        vertical-align: top;\n",
       "    }\n",
       "\n",
       "    .dataframe thead th {\n",
       "        text-align: right;\n",
       "    }\n",
       "</style>\n",
       "<table border=\"1\" class=\"dataframe\">\n",
       "  <thead>\n",
       "    <tr style=\"text-align: right;\">\n",
       "      <th></th>\n",
       "      <th>site_location_name</th>\n",
       "      <th>is_complete</th>\n",
       "    </tr>\n",
       "  </thead>\n",
       "  <tbody>\n",
       "    <tr>\n",
       "      <th>0</th>\n",
       "      <td>NTAGFU0018</td>\n",
       "      <td>1</td>\n",
       "    </tr>\n",
       "    <tr>\n",
       "      <th>1</th>\n",
       "      <td>WAANOK0008</td>\n",
       "      <td>1</td>\n",
       "    </tr>\n",
       "    <tr>\n",
       "      <th>2</th>\n",
       "      <td>WAACEK0003</td>\n",
       "      <td>1</td>\n",
       "    </tr>\n",
       "    <tr>\n",
       "      <th>3</th>\n",
       "      <td>QDACHC0006</td>\n",
       "      <td>1</td>\n",
       "    </tr>\n",
       "    <tr>\n",
       "      <th>4</th>\n",
       "      <td>QDASSD0006</td>\n",
       "      <td>1</td>\n",
       "    </tr>\n",
       "    <tr>\n",
       "      <th>...</th>\n",
       "      <td>...</td>\n",
       "      <td>...</td>\n",
       "    </tr>\n",
       "    <tr>\n",
       "      <th>733</th>\n",
       "      <td>NSAMDD0003</td>\n",
       "      <td>1</td>\n",
       "    </tr>\n",
       "    <tr>\n",
       "      <th>734</th>\n",
       "      <td>NTAPCK2014</td>\n",
       "      <td>1</td>\n",
       "    </tr>\n",
       "    <tr>\n",
       "      <th>735</th>\n",
       "      <td>QDAMGD0008</td>\n",
       "      <td>1</td>\n",
       "    </tr>\n",
       "    <tr>\n",
       "      <th>736</th>\n",
       "      <td>QDAGUP0008</td>\n",
       "      <td>1</td>\n",
       "    </tr>\n",
       "    <tr>\n",
       "      <th>737</th>\n",
       "      <td>NSAMDD0019</td>\n",
       "      <td>1</td>\n",
       "    </tr>\n",
       "  </tbody>\n",
       "</table>\n",
       "<p>738 rows × 2 columns</p>\n",
       "</div>"
      ],
      "text/plain": [
       "    site_location_name is_complete\n",
       "0           NTAGFU0018           1\n",
       "1           WAANOK0008           1\n",
       "2           WAACEK0003           1\n",
       "3           QDACHC0006           1\n",
       "4           QDASSD0006           1\n",
       "..                 ...         ...\n",
       "733         NSAMDD0003           1\n",
       "734         NTAPCK2014           1\n",
       "735         QDAMGD0008           1\n",
       "736         QDAGUP0008           1\n",
       "737         NSAMDD0019           1\n",
       "\n",
       "[738 rows x 2 columns]"
      ]
     },
     "execution_count": 11,
     "metadata": {},
     "output_type": "execute_result"
    }
   ],
   "source": [
    "valid_sites"
   ]
  },
  {
   "cell_type": "markdown",
   "id": "deda7ed3-40f3-4b17-86bc-4bfe642a2f77",
   "metadata": {},
   "source": [
    "As above, 738 sites are now avaliable (however, some of the sites were improperly georeferenced so DEA FC returned nothing from them)"
   ]
  },
  {
   "cell_type": "markdown",
   "id": "8eeb431b-5e24-4ff0-8838-a89fa1873862",
   "metadata": {},
   "source": [
    "## Checking how many separate sites are being included"
   ]
  },
  {
   "cell_type": "markdown",
   "id": "cf9339c7-dec7-493e-ae50-dd514125e220",
   "metadata": {},
   "source": [
    "Using the error log, I will separate out sites that were reported codes:\n",
    "\n",
    "--> '0' no error\n",
    "\n",
    "--> '1' no fire records\n",
    "\n",
    "--> '4' missing DEA FC (most likely due to improper georeferencing)\n",
    "\n",
    "--> '14' missing DEA + no fire records"
   ]
  },
  {
   "cell_type": "code",
   "execution_count": 12,
   "id": "09169b22-a6f5-4f2e-b288-fdacf83d0fbb",
   "metadata": {
    "tags": []
   },
   "outputs": [
    {
     "name": "stdout",
     "output_type": "stream",
     "text": [
      "['NSABHC0025', 'SAARIV0006', 'WAAPIL0013', 'NTASSD0005', 'SAARIV0008', 'NTAPCK2013', 'SAARIV0007', 'NSABHC0015', 'NTASSD0001', 'NTASSD0009', 'NTAPCK1010', 'SAARIV0004', 'WAAPIL0017', 'NTAPCK1011', 'WAAPIL0006', 'NTAPCK1012', 'NTASSD0010', 'VCAAUA0004', 'NTASSD0004', 'VCAAUA0006', 'SAARIV0002', 'SAARIV0005', 'NTASSD0003', 'NSABHC0017', 'SAARIV0003', 'NTAPCK1009', 'NTASSD0007', 'NTASSD0006', 'SAAGAW0004', 'SAARIV0001', 'NTAPCK0003', 'SAAFLB0006', 'NTAPCK2014', 'SAARIV0009', 'WAGCOO0002']\n",
      "35\n"
     ]
    }
   ],
   "source": [
    "new_sites = set(valid_sites['site_location_name']).difference(log.loc[(log['Error'] == '0') | (log['Error'] == '1') | (log['Error'] == '4') |  (log['Error'] == '14'),:].index)\n",
    "print(list(new_sites))\n",
    "print(len(new_sites))"
   ]
  },
  {
   "cell_type": "markdown",
   "id": "e989af00-5f36-4784-b44d-44929a7ed815",
   "metadata": {},
   "source": [
    "From above:\n",
    "- 35 New sites will be added\n",
    "- 8 sites will be corrected"
   ]
  },
  {
   "cell_type": "code",
   "execution_count": 13,
   "id": "284d2561-0ee5-40fc-8118-327345965abb",
   "metadata": {
    "tags": []
   },
   "outputs": [],
   "source": [
    "site_info_all = pd.read_csv('../DATASETS/AusPlots_Extracted_Data/Final/extracted_Final_site_info_2-0-6.csv', index_col = 0)"
   ]
  },
  {
   "cell_type": "code",
   "execution_count": 14,
   "id": "39410907-159d-4ad7-afe7-ade7f6edaf23",
   "metadata": {
    "tags": []
   },
   "outputs": [],
   "source": [
    "new_sites_df = site_info_all.loc[site_info_all['site.info.site_location_name'].isin(new_sites), ['site.info.site_location_name','site.info.latitude', 'site.info.longitude']]\n",
    "new_sites_df = new_sites_df.drop_duplicates()"
   ]
  },
  {
   "cell_type": "code",
   "execution_count": 15,
   "id": "5a16ff8e-d7ff-47e6-a748-d3c93ddf4d2b",
   "metadata": {
    "tags": []
   },
   "outputs": [
    {
     "data": {
      "text/html": [
       "<div>\n",
       "<style scoped>\n",
       "    .dataframe tbody tr th:only-of-type {\n",
       "        vertical-align: middle;\n",
       "    }\n",
       "\n",
       "    .dataframe tbody tr th {\n",
       "        vertical-align: top;\n",
       "    }\n",
       "\n",
       "    .dataframe thead th {\n",
       "        text-align: right;\n",
       "    }\n",
       "</style>\n",
       "<table border=\"1\" class=\"dataframe\">\n",
       "  <thead>\n",
       "    <tr style=\"text-align: right;\">\n",
       "      <th></th>\n",
       "      <th>site_location_name</th>\n",
       "      <th>latitude</th>\n",
       "      <th>longtitude</th>\n",
       "    </tr>\n",
       "  </thead>\n",
       "  <tbody>\n",
       "    <tr>\n",
       "      <th>23</th>\n",
       "      <td>NSABHC0015</td>\n",
       "      <td>-31.833940</td>\n",
       "      <td>141.059250</td>\n",
       "    </tr>\n",
       "    <tr>\n",
       "      <th>25</th>\n",
       "      <td>NSABHC0017</td>\n",
       "      <td>-31.843310</td>\n",
       "      <td>141.192629</td>\n",
       "    </tr>\n",
       "    <tr>\n",
       "      <th>33</th>\n",
       "      <td>NSABHC0025</td>\n",
       "      <td>-32.420531</td>\n",
       "      <td>141.535447</td>\n",
       "    </tr>\n",
       "    <tr>\n",
       "      <th>231</th>\n",
       "      <td>NTAPCK0003</td>\n",
       "      <td>-12.625497</td>\n",
       "      <td>132.853924</td>\n",
       "    </tr>\n",
       "    <tr>\n",
       "      <th>241</th>\n",
       "      <td>NTAPCK1009</td>\n",
       "      <td>-12.671938</td>\n",
       "      <td>132.942318</td>\n",
       "    </tr>\n",
       "    <tr>\n",
       "      <th>242</th>\n",
       "      <td>NTAPCK1010</td>\n",
       "      <td>-12.676906</td>\n",
       "      <td>132.964769</td>\n",
       "    </tr>\n",
       "    <tr>\n",
       "      <th>243</th>\n",
       "      <td>NTAPCK1011</td>\n",
       "      <td>-12.701198</td>\n",
       "      <td>132.929794</td>\n",
       "    </tr>\n",
       "    <tr>\n",
       "      <th>244</th>\n",
       "      <td>NTAPCK1012</td>\n",
       "      <td>-12.702209</td>\n",
       "      <td>132.932917</td>\n",
       "    </tr>\n",
       "    <tr>\n",
       "      <th>245</th>\n",
       "      <td>NTAPCK2013</td>\n",
       "      <td>-12.706168</td>\n",
       "      <td>132.927351</td>\n",
       "    </tr>\n",
       "    <tr>\n",
       "      <th>246</th>\n",
       "      <td>NTAPCK2014</td>\n",
       "      <td>-12.699107</td>\n",
       "      <td>132.930501</td>\n",
       "    </tr>\n",
       "    <tr>\n",
       "      <th>247</th>\n",
       "      <td>NTASSD0001</td>\n",
       "      <td>-25.309792</td>\n",
       "      <td>136.307028</td>\n",
       "    </tr>\n",
       "    <tr>\n",
       "      <th>249</th>\n",
       "      <td>NTASSD0003</td>\n",
       "      <td>-25.299444</td>\n",
       "      <td>136.298875</td>\n",
       "    </tr>\n",
       "    <tr>\n",
       "      <th>250</th>\n",
       "      <td>NTASSD0004</td>\n",
       "      <td>-25.253267</td>\n",
       "      <td>136.274811</td>\n",
       "    </tr>\n",
       "    <tr>\n",
       "      <th>251</th>\n",
       "      <td>NTASSD0005</td>\n",
       "      <td>-25.754111</td>\n",
       "      <td>136.546953</td>\n",
       "    </tr>\n",
       "    <tr>\n",
       "      <th>252</th>\n",
       "      <td>NTASSD0006</td>\n",
       "      <td>-25.753436</td>\n",
       "      <td>136.547825</td>\n",
       "    </tr>\n",
       "    <tr>\n",
       "      <th>253</th>\n",
       "      <td>NTASSD0007</td>\n",
       "      <td>-25.783556</td>\n",
       "      <td>136.564875</td>\n",
       "    </tr>\n",
       "    <tr>\n",
       "      <th>255</th>\n",
       "      <td>NTASSD0009</td>\n",
       "      <td>-24.781733</td>\n",
       "      <td>136.011458</td>\n",
       "    </tr>\n",
       "    <tr>\n",
       "      <th>256</th>\n",
       "      <td>NTASSD0010</td>\n",
       "      <td>-24.792826</td>\n",
       "      <td>136.021357</td>\n",
       "    </tr>\n",
       "    <tr>\n",
       "      <th>530</th>\n",
       "      <td>SAAFLB0006</td>\n",
       "      <td>-33.085736</td>\n",
       "      <td>138.162692</td>\n",
       "    </tr>\n",
       "    <tr>\n",
       "      <th>542</th>\n",
       "      <td>SAAGAW0004</td>\n",
       "      <td>-30.871689</td>\n",
       "      <td>135.440381</td>\n",
       "    </tr>\n",
       "    <tr>\n",
       "      <th>591</th>\n",
       "      <td>SAARIV0001</td>\n",
       "      <td>-34.084303</td>\n",
       "      <td>140.757603</td>\n",
       "    </tr>\n",
       "    <tr>\n",
       "      <th>594</th>\n",
       "      <td>SAARIV0002</td>\n",
       "      <td>-34.083342</td>\n",
       "      <td>140.758478</td>\n",
       "    </tr>\n",
       "    <tr>\n",
       "      <th>596</th>\n",
       "      <td>SAARIV0003</td>\n",
       "      <td>-34.083889</td>\n",
       "      <td>140.760200</td>\n",
       "    </tr>\n",
       "    <tr>\n",
       "      <th>598</th>\n",
       "      <td>SAARIV0004</td>\n",
       "      <td>-34.261567</td>\n",
       "      <td>140.386861</td>\n",
       "    </tr>\n",
       "    <tr>\n",
       "      <th>601</th>\n",
       "      <td>SAARIV0005</td>\n",
       "      <td>-34.263472</td>\n",
       "      <td>140.387733</td>\n",
       "    </tr>\n",
       "    <tr>\n",
       "      <th>603</th>\n",
       "      <td>SAARIV0006</td>\n",
       "      <td>-34.263633</td>\n",
       "      <td>140.389853</td>\n",
       "    </tr>\n",
       "    <tr>\n",
       "      <th>606</th>\n",
       "      <td>SAARIV0007</td>\n",
       "      <td>-34.159450</td>\n",
       "      <td>139.926764</td>\n",
       "    </tr>\n",
       "    <tr>\n",
       "      <th>608</th>\n",
       "      <td>SAARIV0008</td>\n",
       "      <td>-34.159147</td>\n",
       "      <td>139.925417</td>\n",
       "    </tr>\n",
       "    <tr>\n",
       "      <th>610</th>\n",
       "      <td>SAARIV0009</td>\n",
       "      <td>-34.158378</td>\n",
       "      <td>139.927861</td>\n",
       "    </tr>\n",
       "    <tr>\n",
       "      <th>786</th>\n",
       "      <td>VCAAUA0004</td>\n",
       "      <td>-36.907758</td>\n",
       "      <td>147.290139</td>\n",
       "    </tr>\n",
       "    <tr>\n",
       "      <th>788</th>\n",
       "      <td>VCAAUA0006</td>\n",
       "      <td>-36.916219</td>\n",
       "      <td>147.212772</td>\n",
       "    </tr>\n",
       "    <tr>\n",
       "      <th>940</th>\n",
       "      <td>WAAPIL0006</td>\n",
       "      <td>-21.564244</td>\n",
       "      <td>117.059097</td>\n",
       "    </tr>\n",
       "    <tr>\n",
       "      <th>948</th>\n",
       "      <td>WAAPIL0013</td>\n",
       "      <td>-22.610856</td>\n",
       "      <td>118.293936</td>\n",
       "    </tr>\n",
       "    <tr>\n",
       "      <th>954</th>\n",
       "      <td>WAAPIL0017</td>\n",
       "      <td>-22.133872</td>\n",
       "      <td>119.023692</td>\n",
       "    </tr>\n",
       "    <tr>\n",
       "      <th>1003</th>\n",
       "      <td>WAGCOO0002</td>\n",
       "      <td>-30.350992</td>\n",
       "      <td>120.642692</td>\n",
       "    </tr>\n",
       "  </tbody>\n",
       "</table>\n",
       "</div>"
      ],
      "text/plain": [
       "     site_location_name   latitude  longtitude\n",
       "23           NSABHC0015 -31.833940  141.059250\n",
       "25           NSABHC0017 -31.843310  141.192629\n",
       "33           NSABHC0025 -32.420531  141.535447\n",
       "231          NTAPCK0003 -12.625497  132.853924\n",
       "241          NTAPCK1009 -12.671938  132.942318\n",
       "242          NTAPCK1010 -12.676906  132.964769\n",
       "243          NTAPCK1011 -12.701198  132.929794\n",
       "244          NTAPCK1012 -12.702209  132.932917\n",
       "245          NTAPCK2013 -12.706168  132.927351\n",
       "246          NTAPCK2014 -12.699107  132.930501\n",
       "247          NTASSD0001 -25.309792  136.307028\n",
       "249          NTASSD0003 -25.299444  136.298875\n",
       "250          NTASSD0004 -25.253267  136.274811\n",
       "251          NTASSD0005 -25.754111  136.546953\n",
       "252          NTASSD0006 -25.753436  136.547825\n",
       "253          NTASSD0007 -25.783556  136.564875\n",
       "255          NTASSD0009 -24.781733  136.011458\n",
       "256          NTASSD0010 -24.792826  136.021357\n",
       "530          SAAFLB0006 -33.085736  138.162692\n",
       "542          SAAGAW0004 -30.871689  135.440381\n",
       "591          SAARIV0001 -34.084303  140.757603\n",
       "594          SAARIV0002 -34.083342  140.758478\n",
       "596          SAARIV0003 -34.083889  140.760200\n",
       "598          SAARIV0004 -34.261567  140.386861\n",
       "601          SAARIV0005 -34.263472  140.387733\n",
       "603          SAARIV0006 -34.263633  140.389853\n",
       "606          SAARIV0007 -34.159450  139.926764\n",
       "608          SAARIV0008 -34.159147  139.925417\n",
       "610          SAARIV0009 -34.158378  139.927861\n",
       "786          VCAAUA0004 -36.907758  147.290139\n",
       "788          VCAAUA0006 -36.916219  147.212772\n",
       "940          WAAPIL0006 -21.564244  117.059097\n",
       "948          WAAPIL0013 -22.610856  118.293936\n",
       "954          WAAPIL0017 -22.133872  119.023692\n",
       "1003         WAGCOO0002 -30.350992  120.642692"
      ]
     },
     "execution_count": 15,
     "metadata": {},
     "output_type": "execute_result"
    }
   ],
   "source": [
    "new_sites_df = new_sites_df.rename(columns = {new_sites_df.columns[0]:'site_location_name', new_sites_df.columns[1]:'latitude', new_sites_df.columns[2]:'longtitude'})\n",
    "new_sites_df"
   ]
  },
  {
   "cell_type": "code",
   "execution_count": 16,
   "id": "e2dca5f9-8af8-4be0-90d2-e65fc1e3868b",
   "metadata": {
    "tags": []
   },
   "outputs": [],
   "source": [
    "new_sites_df = new_sites_df.reset_index(drop = True)"
   ]
  },
  {
   "cell_type": "code",
   "execution_count": 17,
   "id": "2f560b84-f22a-45c2-bdc7-62decb1f3261",
   "metadata": {
    "tags": []
   },
   "outputs": [
    {
     "data": {
      "text/html": [
       "<div>\n",
       "<style scoped>\n",
       "    .dataframe tbody tr th:only-of-type {\n",
       "        vertical-align: middle;\n",
       "    }\n",
       "\n",
       "    .dataframe tbody tr th {\n",
       "        vertical-align: top;\n",
       "    }\n",
       "\n",
       "    .dataframe thead th {\n",
       "        text-align: right;\n",
       "    }\n",
       "</style>\n",
       "<table border=\"1\" class=\"dataframe\">\n",
       "  <thead>\n",
       "    <tr style=\"text-align: right;\">\n",
       "      <th></th>\n",
       "      <th>site_location_name</th>\n",
       "      <th>latitude</th>\n",
       "      <th>longtitude</th>\n",
       "    </tr>\n",
       "  </thead>\n",
       "  <tbody>\n",
       "    <tr>\n",
       "      <th>0</th>\n",
       "      <td>NSABHC0015</td>\n",
       "      <td>-31.833940</td>\n",
       "      <td>141.059250</td>\n",
       "    </tr>\n",
       "    <tr>\n",
       "      <th>1</th>\n",
       "      <td>NSABHC0017</td>\n",
       "      <td>-31.843310</td>\n",
       "      <td>141.192629</td>\n",
       "    </tr>\n",
       "    <tr>\n",
       "      <th>2</th>\n",
       "      <td>NSABHC0025</td>\n",
       "      <td>-32.420531</td>\n",
       "      <td>141.535447</td>\n",
       "    </tr>\n",
       "    <tr>\n",
       "      <th>3</th>\n",
       "      <td>NTAPCK0003</td>\n",
       "      <td>-12.625497</td>\n",
       "      <td>132.853924</td>\n",
       "    </tr>\n",
       "    <tr>\n",
       "      <th>4</th>\n",
       "      <td>NTAPCK1009</td>\n",
       "      <td>-12.671938</td>\n",
       "      <td>132.942318</td>\n",
       "    </tr>\n",
       "    <tr>\n",
       "      <th>5</th>\n",
       "      <td>NTAPCK1010</td>\n",
       "      <td>-12.676906</td>\n",
       "      <td>132.964769</td>\n",
       "    </tr>\n",
       "    <tr>\n",
       "      <th>6</th>\n",
       "      <td>NTAPCK1011</td>\n",
       "      <td>-12.701198</td>\n",
       "      <td>132.929794</td>\n",
       "    </tr>\n",
       "    <tr>\n",
       "      <th>7</th>\n",
       "      <td>NTAPCK1012</td>\n",
       "      <td>-12.702209</td>\n",
       "      <td>132.932917</td>\n",
       "    </tr>\n",
       "    <tr>\n",
       "      <th>8</th>\n",
       "      <td>NTAPCK2013</td>\n",
       "      <td>-12.706168</td>\n",
       "      <td>132.927351</td>\n",
       "    </tr>\n",
       "    <tr>\n",
       "      <th>9</th>\n",
       "      <td>NTAPCK2014</td>\n",
       "      <td>-12.699107</td>\n",
       "      <td>132.930501</td>\n",
       "    </tr>\n",
       "    <tr>\n",
       "      <th>10</th>\n",
       "      <td>NTASSD0001</td>\n",
       "      <td>-25.309792</td>\n",
       "      <td>136.307028</td>\n",
       "    </tr>\n",
       "    <tr>\n",
       "      <th>11</th>\n",
       "      <td>NTASSD0003</td>\n",
       "      <td>-25.299444</td>\n",
       "      <td>136.298875</td>\n",
       "    </tr>\n",
       "    <tr>\n",
       "      <th>12</th>\n",
       "      <td>NTASSD0004</td>\n",
       "      <td>-25.253267</td>\n",
       "      <td>136.274811</td>\n",
       "    </tr>\n",
       "    <tr>\n",
       "      <th>13</th>\n",
       "      <td>NTASSD0005</td>\n",
       "      <td>-25.754111</td>\n",
       "      <td>136.546953</td>\n",
       "    </tr>\n",
       "    <tr>\n",
       "      <th>14</th>\n",
       "      <td>NTASSD0006</td>\n",
       "      <td>-25.753436</td>\n",
       "      <td>136.547825</td>\n",
       "    </tr>\n",
       "    <tr>\n",
       "      <th>15</th>\n",
       "      <td>NTASSD0007</td>\n",
       "      <td>-25.783556</td>\n",
       "      <td>136.564875</td>\n",
       "    </tr>\n",
       "    <tr>\n",
       "      <th>16</th>\n",
       "      <td>NTASSD0009</td>\n",
       "      <td>-24.781733</td>\n",
       "      <td>136.011458</td>\n",
       "    </tr>\n",
       "    <tr>\n",
       "      <th>17</th>\n",
       "      <td>NTASSD0010</td>\n",
       "      <td>-24.792826</td>\n",
       "      <td>136.021357</td>\n",
       "    </tr>\n",
       "    <tr>\n",
       "      <th>18</th>\n",
       "      <td>SAAFLB0006</td>\n",
       "      <td>-33.085736</td>\n",
       "      <td>138.162692</td>\n",
       "    </tr>\n",
       "    <tr>\n",
       "      <th>19</th>\n",
       "      <td>SAAGAW0004</td>\n",
       "      <td>-30.871689</td>\n",
       "      <td>135.440381</td>\n",
       "    </tr>\n",
       "    <tr>\n",
       "      <th>20</th>\n",
       "      <td>SAARIV0001</td>\n",
       "      <td>-34.084303</td>\n",
       "      <td>140.757603</td>\n",
       "    </tr>\n",
       "    <tr>\n",
       "      <th>21</th>\n",
       "      <td>SAARIV0002</td>\n",
       "      <td>-34.083342</td>\n",
       "      <td>140.758478</td>\n",
       "    </tr>\n",
       "    <tr>\n",
       "      <th>22</th>\n",
       "      <td>SAARIV0003</td>\n",
       "      <td>-34.083889</td>\n",
       "      <td>140.760200</td>\n",
       "    </tr>\n",
       "    <tr>\n",
       "      <th>23</th>\n",
       "      <td>SAARIV0004</td>\n",
       "      <td>-34.261567</td>\n",
       "      <td>140.386861</td>\n",
       "    </tr>\n",
       "    <tr>\n",
       "      <th>24</th>\n",
       "      <td>SAARIV0005</td>\n",
       "      <td>-34.263472</td>\n",
       "      <td>140.387733</td>\n",
       "    </tr>\n",
       "    <tr>\n",
       "      <th>25</th>\n",
       "      <td>SAARIV0006</td>\n",
       "      <td>-34.263633</td>\n",
       "      <td>140.389853</td>\n",
       "    </tr>\n",
       "    <tr>\n",
       "      <th>26</th>\n",
       "      <td>SAARIV0007</td>\n",
       "      <td>-34.159450</td>\n",
       "      <td>139.926764</td>\n",
       "    </tr>\n",
       "    <tr>\n",
       "      <th>27</th>\n",
       "      <td>SAARIV0008</td>\n",
       "      <td>-34.159147</td>\n",
       "      <td>139.925417</td>\n",
       "    </tr>\n",
       "    <tr>\n",
       "      <th>28</th>\n",
       "      <td>SAARIV0009</td>\n",
       "      <td>-34.158378</td>\n",
       "      <td>139.927861</td>\n",
       "    </tr>\n",
       "    <tr>\n",
       "      <th>29</th>\n",
       "      <td>VCAAUA0004</td>\n",
       "      <td>-36.907758</td>\n",
       "      <td>147.290139</td>\n",
       "    </tr>\n",
       "    <tr>\n",
       "      <th>30</th>\n",
       "      <td>VCAAUA0006</td>\n",
       "      <td>-36.916219</td>\n",
       "      <td>147.212772</td>\n",
       "    </tr>\n",
       "    <tr>\n",
       "      <th>31</th>\n",
       "      <td>WAAPIL0006</td>\n",
       "      <td>-21.564244</td>\n",
       "      <td>117.059097</td>\n",
       "    </tr>\n",
       "    <tr>\n",
       "      <th>32</th>\n",
       "      <td>WAAPIL0013</td>\n",
       "      <td>-22.610856</td>\n",
       "      <td>118.293936</td>\n",
       "    </tr>\n",
       "    <tr>\n",
       "      <th>33</th>\n",
       "      <td>WAAPIL0017</td>\n",
       "      <td>-22.133872</td>\n",
       "      <td>119.023692</td>\n",
       "    </tr>\n",
       "    <tr>\n",
       "      <th>34</th>\n",
       "      <td>WAGCOO0002</td>\n",
       "      <td>-30.350992</td>\n",
       "      <td>120.642692</td>\n",
       "    </tr>\n",
       "  </tbody>\n",
       "</table>\n",
       "</div>"
      ],
      "text/plain": [
       "   site_location_name   latitude  longtitude\n",
       "0          NSABHC0015 -31.833940  141.059250\n",
       "1          NSABHC0017 -31.843310  141.192629\n",
       "2          NSABHC0025 -32.420531  141.535447\n",
       "3          NTAPCK0003 -12.625497  132.853924\n",
       "4          NTAPCK1009 -12.671938  132.942318\n",
       "5          NTAPCK1010 -12.676906  132.964769\n",
       "6          NTAPCK1011 -12.701198  132.929794\n",
       "7          NTAPCK1012 -12.702209  132.932917\n",
       "8          NTAPCK2013 -12.706168  132.927351\n",
       "9          NTAPCK2014 -12.699107  132.930501\n",
       "10         NTASSD0001 -25.309792  136.307028\n",
       "11         NTASSD0003 -25.299444  136.298875\n",
       "12         NTASSD0004 -25.253267  136.274811\n",
       "13         NTASSD0005 -25.754111  136.546953\n",
       "14         NTASSD0006 -25.753436  136.547825\n",
       "15         NTASSD0007 -25.783556  136.564875\n",
       "16         NTASSD0009 -24.781733  136.011458\n",
       "17         NTASSD0010 -24.792826  136.021357\n",
       "18         SAAFLB0006 -33.085736  138.162692\n",
       "19         SAAGAW0004 -30.871689  135.440381\n",
       "20         SAARIV0001 -34.084303  140.757603\n",
       "21         SAARIV0002 -34.083342  140.758478\n",
       "22         SAARIV0003 -34.083889  140.760200\n",
       "23         SAARIV0004 -34.261567  140.386861\n",
       "24         SAARIV0005 -34.263472  140.387733\n",
       "25         SAARIV0006 -34.263633  140.389853\n",
       "26         SAARIV0007 -34.159450  139.926764\n",
       "27         SAARIV0008 -34.159147  139.925417\n",
       "28         SAARIV0009 -34.158378  139.927861\n",
       "29         VCAAUA0004 -36.907758  147.290139\n",
       "30         VCAAUA0006 -36.916219  147.212772\n",
       "31         WAAPIL0006 -21.564244  117.059097\n",
       "32         WAAPIL0013 -22.610856  118.293936\n",
       "33         WAAPIL0017 -22.133872  119.023692\n",
       "34         WAGCOO0002 -30.350992  120.642692"
      ]
     },
     "execution_count": 17,
     "metadata": {},
     "output_type": "execute_result"
    }
   ],
   "source": [
    "new_sites_df"
   ]
  },
  {
   "cell_type": "code",
   "execution_count": 18,
   "id": "62888649-1ed7-4c9e-a074-941fc259afa7",
   "metadata": {
    "tags": []
   },
   "outputs": [],
   "source": [
    "new_sites_df.to_csv('../DATASETS/AusPlots_Extracted_Data/Final/New_AusPlots_Locations_SW_Points.csv')"
   ]
  }
 ],
 "metadata": {
  "kernelspec": {
   "display_name": "Python 3 (ipykernel)",
   "language": "python",
   "name": "python3"
  },
  "language_info": {
   "codemirror_mode": {
    "name": "ipython",
    "version": 3
   },
   "file_extension": ".py",
   "mimetype": "text/x-python",
   "name": "python",
   "nbconvert_exporter": "python",
   "pygments_lexer": "ipython3",
   "version": "3.11.5"
  }
 },
 "nbformat": 4,
 "nbformat_minor": 5
}
