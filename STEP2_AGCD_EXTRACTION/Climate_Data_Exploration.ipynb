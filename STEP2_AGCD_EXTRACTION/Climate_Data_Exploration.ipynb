{
 "cells": [
  {
   "cell_type": "code",
   "execution_count": 22,
   "id": "a0ef2450",
   "metadata": {
    "tags": []
   },
   "outputs": [],
   "source": [
    "import numpy as np\n",
    "import pandas as pd\n",
    "import os \n",
    "import netCDF4 as nc\n",
    "import time"
   ]
  },
  {
   "cell_type": "code",
   "execution_count": 15,
   "id": "e489fc2a",
   "metadata": {
    "tags": []
   },
   "outputs": [],
   "source": [
    "#os.getcwd()\n",
    "file_dir = 'C:/Users/krish/Desktop/DYNAMIC MODEL VEGETATION PROJECT/DataExtraction/BACKUP_DATA/ausplots_agcd'\n",
    "precip_dir = os.path.join(file_dir, 'precip')\n",
    "tmax_dir = os.path.join(file_dir, 'tmax')\n",
    "tmin_dir = os.path.join(file_dir, 'tmin')\n",
    "vapourpres_h09_dir = os.path.join(file_dir, 'vapourpres_h09')\n",
    "vapourpres_h15_dir = os.path.join(file_dir, 'vapourpres_h15')"
   ]
  },
  {
   "cell_type": "code",
   "execution_count": 16,
   "id": "708dcac7-4f6c-4994-ae0f-51b2e0848fe4",
   "metadata": {
    "tags": []
   },
   "outputs": [],
   "source": [
    "precip_files = os.listdir(precip_dir)"
   ]
  },
  {
   "cell_type": "code",
   "execution_count": 18,
   "id": "00fd6c92-3600-413c-8456-42609e63b266",
   "metadata": {
    "tags": []
   },
   "outputs": [
    {
     "name": "stdout",
     "output_type": "stream",
     "text": [
      "NSABBS0001_1987_2022.nc\n"
     ]
    }
   ],
   "source": [
    "FI = 0 # file index \n",
    "precip_file = precip_files[0]\n",
    "print(precip_file)"
   ]
  },
  {
   "cell_type": "code",
   "execution_count": 19,
   "id": "3021cc1d-411c-45ec-97e3-c788dcf32cd9",
   "metadata": {
    "tags": []
   },
   "outputs": [],
   "source": [
    "precip_file_path = os.path.join(precip_dir, precip_file)"
   ]
  },
  {
   "cell_type": "code",
   "execution_count": 20,
   "id": "0e25e038",
   "metadata": {
    "tags": []
   },
   "outputs": [],
   "source": [
    "site_precip = nc.Dataset(precip_file_path)"
   ]
  },
  {
   "cell_type": "code",
   "execution_count": 21,
   "id": "3efb4807-12e0-43ee-af7c-63023c96a850",
   "metadata": {
    "tags": []
   },
   "outputs": [
    {
     "name": "stdout",
     "output_type": "stream",
     "text": [
      "<class 'netCDF4._netCDF4.Dataset'>\n",
      "root group (NETCDF4_CLASSIC data model, file format HDF5):\n",
      "    CDI: Climate Data Interface version 2.0.5 (https://mpimet.mpg.de/cdi)\n",
      "    source: Data is from site-based observation data recorded in the Australian Database for Meteorology and processed using methods described in the references\n",
      "    institution: Australian Bureau of Meteorology, GPO Box 1289, Melbourne VIC 3001, Australia\n",
      "    Conventions: CF-1.6, ACDD-1.3\n",
      "    geospatial_lat_min: -44.525\n",
      "    geospatial_lat_max: -9.975\n",
      "    geospatial_lon_min: 111.975\n",
      "    geospatial_lon_max: 156.275\n",
      "    time_coverage_start: 1986-12-31T09:00:00\n",
      "    date_created: 2017-01-18T15:11:47.783538\n",
      "    uuid: 9a94106e-ca62-4b03-9009-5e2a02ea452d\n",
      "    keywords_reference: Global Change Master Directory (GCMD). 2015. GCMD Keywords, Version 8.1. Greenbelt, MD: Global Change Data Center, Science and Exploration Directorate, Goddard Space Flight Center (GSFC) National Aeronautics and Space Administration (NASA). URL:http://gcmd.nasa.gov/learn/keywords.html\n",
      "    acknowledgment: The Australian Government, Bureau of Meteorology; The Australian Water Availability Project; The AusCover facility of the Terrestrial Ecosystem Research Network (TERN)\n",
      "    title: Interpolated Rain Gauge Precipitation\n",
      "    keywords_vocabulary: GCMD Science Keywords, Version 8.1\n",
      "    standard_name_vocabulary: CF Standard Names, v28\n",
      "    keywords: Earth Science, Atmosphere, Precipitation, Precipitation Amount, Liquid Water Equivalent\n",
      "    data_format: netCDF4 with zlib compression\n",
      "    cdm_data_type: Grid\n",
      "    analysis_components: total: the gridded accumulation of rainfall.\n",
      "    url: http://www.bom.gov.au/climate/\n",
      "    id: Australian Gridded Climate Data (AGCD)\n",
      "    summary: The daily and monthly rainfall data represents the amount of precipitation of any type (including the liquid equivalent of frozen hydrometeors such as hail and snow) observed by means of rain gauges stationed across Australia. These gauges measure millimetres of liquid water depth over a 24-hour period running from 9am local clock time the previous day to 9am on the observed day. Rainfall data from up to 6500 sites across the country are analysed, with limited quality control, onto 0.05x0.05 degree grids using the technique described in Jones et al. (2009). Monthly rainfall totals are calculated from the accumulation of the contributing daily rainfall totals, and may incorporate multi-day rainfall totals if observations were missing on any one day. Weekly rainfall totals are calculated from the sum of the daily grids. Multi-month rainfall totals are calculated from the sum of monthly grids. Month-to-date and Year-to-date rainfall grids are calculated from the sum of the contributing monthly and daily grids. \n",
      "    naming_authority: au.gov.bom\n",
      "    nco_openmp_thread_number: 1\n",
      "    time_coverage_end: 1987-12-31T00:00:00\n",
      "    references: http://www.bom.gov.au/jshess/docs/2009/jones_hres.pdf\n",
      "    agcd_version: AGCD (AWAP) v1.0.1 Snapshot (1900-01-01 to 2022-12-31)\n",
      "    licence: Data Licence: The grid data files in this AGCD Snapshot are available under the CC-BY-NC 4.0 International Licence. The CC-BY-NC 4.0 International ( Creative Commons Attribution Non-Commercial CC-BY-NC v.4.0 international ) license summary may be found here: [ https://creativecommons.org/licenses/by-nc/4.0/ ]. The full license text may be found here: [ https://creativecommons.org/licenses/by-nc/4.0/legalcode ].  This AGCD snapshot will be available for registered researchers, from NCI\n",
      "    description: This AGCD data is a snapshot of the operational AWAP dataset, updated every 6 months. It covers the most recent version of the complete historical archive, excluding grids covering the most recent 6 months.  If you require data covering the most recent 6 months or wish to use this data for commercial purposes please contact Bureau of Meteorology Climate Data Services at climatedata@bom.gov.au\n",
      "    date_issued: 2023-05-19 06:19:17\n",
      "    attribution: Data should be cited as : Australian Bureau of Meteorology (2023), \"Australian Gridded Climate Data ( AGCD ) / AWAP ; v1.0.1 Snapshot (1900-01-01 to 2022-12-31)\". Downloaded from NCI on [date]. The metadata repository for this dataset is https://doi.org/10.25914/hjqj-0x55.\n",
      "    copyright: (C) Copyright Commonwealth of Australia 2023, Bureau of Meteorology (ABN 92637 533532)\n",
      "    history: Tue Sep 19 11:10:17 2023: cdo mergetime /g/data/x45/temp_agcd/precip/NSABBS0001_1987_out.nc /g/data/x45/temp_agcd/precip/NSABBS0001_1988_out.nc /g/data/x45/temp_agcd/precip/NSABBS0001_1989_out.nc /g/data/x45/temp_agcd/precip/NSABBS0001_1990_out.nc /g/data/x45/temp_agcd/precip/NSABBS0001_1991_out.nc /g/data/x45/temp_agcd/precip/NSABBS0001_1992_out.nc /g/data/x45/temp_agcd/precip/NSABBS0001_1993_out.nc /g/data/x45/temp_agcd/precip/NSABBS0001_1994_out.nc /g/data/x45/temp_agcd/precip/NSABBS0001_1995_out.nc /g/data/x45/temp_agcd/precip/NSABBS0001_1996_out.nc /g/data/x45/temp_agcd/precip/NSABBS0001_1997_out.nc /g/data/x45/temp_agcd/precip/NSABBS0001_1998_out.nc /g/data/x45/temp_agcd/precip/NSABBS0001_1999_out.nc /g/data/x45/temp_agcd/precip/NSABBS0001_2000_out.nc /g/data/x45/temp_agcd/precip/NSABBS0001_2001_out.nc /g/data/x45/temp_agcd/precip/NSABBS0001_2002_out.nc /g/data/x45/temp_agcd/precip/NSABBS0001_2003_out.nc /g/data/x45/temp_agcd/precip/NSABBS0001_2004_out.nc /g/data/x45/temp_agcd/precip/NSABBS0001_2005_out.nc /g/data/x45/temp_agcd/precip/NSABBS0001_2006_out.nc /g/data/x45/temp_agcd/precip/NSABBS0001_2007_out.nc /g/data/x45/temp_agcd/precip/NSABBS0001_2008_out.nc /g/data/x45/temp_agcd/precip/NSABBS0001_2009_out.nc /g/data/x45/temp_agcd/precip/NSABBS0001_2010_out.nc /g/data/x45/temp_agcd/precip/NSABBS0001_2011_out.nc /g/data/x45/temp_agcd/precip/NSABBS0001_2012_out.nc /g/data/x45/temp_agcd/precip/NSABBS0001_2013_out.nc /g/data/x45/temp_agcd/precip/NSABBS0001_2014_out.nc /g/data/x45/temp_agcd/precip/NSABBS0001_2015_out.nc /g/data/x45/temp_agcd/precip/NSABBS0001_2016_out.nc /g/data/x45/temp_agcd/precip/NSABBS0001_2017_out.nc /g/data/x45/temp_agcd/precip/NSABBS0001_2018_out.nc /g/data/x45/temp_agcd/precip/NSABBS0001_2019_out.nc /g/data/x45/temp_agcd/precip/NSABBS0001_2020_out.nc /g/data/x45/temp_agcd/precip/NSABBS0001_2021_out.nc /g/data/x45/temp_agcd/precip/NSABBS0001_2022_out.nc /g/data/x45/temp_agcd/precip/NSABBS0001_1987_2022.nc\n",
      "Tue Sep 19 11:07:44 2023: cdo remapnn,lon=148.976552/lat=-31.281189 /g/data/zv2/agcd/v1-0-1/precip/total/r005/01day/agcd_v1-0-1_precip_total_r005_daily_1987.nc /g/data/x45/temp_agcd/precip/NSABBS0001_1987_out.nc\n",
      " \n",
      "    CDO: Climate Data Operators version 2.0.5 (https://mpimet.mpg.de/cdo)\n",
      "    dimensions(sizes): time(13149), bnds(2), lon(1), lat(1)\n",
      "    variables(dimensions): float64 time(time), float64 time_bnds(time, bnds), float64 lon(lon), float64 lat(lat), float32 precip(time, lat, lon)\n",
      "    groups: \n"
     ]
    }
   ],
   "source": [
    "print(site_precip)"
   ]
  },
  {
   "cell_type": "code",
   "execution_count": 24,
   "id": "7c769d56-0cae-45f5-8e2a-92f98a797662",
   "metadata": {
    "tags": []
   },
   "outputs": [
    {
     "data": {
      "text/plain": [
       "'1986-12-31T09:00:00'"
      ]
     },
     "execution_count": 24,
     "metadata": {},
     "output_type": "execute_result"
    }
   ],
   "source": [
    "site_precip.time_coverage_start"
   ]
  },
  {
   "cell_type": "code",
   "execution_count": 25,
   "id": "66d95a6b-f516-485d-ba28-16ed7c0168bc",
   "metadata": {
    "tags": []
   },
   "outputs": [
    {
     "data": {
      "text/plain": [
       "'1987-12-31T00:00:00'"
      ]
     },
     "execution_count": 25,
     "metadata": {},
     "output_type": "execute_result"
    }
   ],
   "source": [
    "site_precip.time_coverage_end"
   ]
  },
  {
   "cell_type": "code",
   "execution_count": 26,
   "id": "936feb34-73bf-4d3a-b5cf-d30c07ad092b",
   "metadata": {
    "tags": []
   },
   "outputs": [
    {
     "data": {
      "text/plain": [
       "{'time': <class 'netCDF4._netCDF4.Variable'>\n",
       " float64 time(time)\n",
       "     standard_name: time\n",
       "     long_name: time\n",
       "     bounds: time_bnds\n",
       "     units: days since 1850-01-01 00:00:00\n",
       "     calendar: standard\n",
       "     axis: T\n",
       " unlimited dimensions: time\n",
       " current shape = (13149,)\n",
       " filling off,\n",
       " 'time_bnds': <class 'netCDF4._netCDF4.Variable'>\n",
       " float64 time_bnds(time, bnds)\n",
       " unlimited dimensions: time\n",
       " current shape = (13149, 2)\n",
       " filling off,\n",
       " 'lon': <class 'netCDF4._netCDF4.Variable'>\n",
       " float64 lon(lon)\n",
       "     standard_name: longitude\n",
       "     long_name: longitude\n",
       "     units: degrees_east\n",
       "     axis: X\n",
       " unlimited dimensions: \n",
       " current shape = (1,)\n",
       " filling off,\n",
       " 'lat': <class 'netCDF4._netCDF4.Variable'>\n",
       " float64 lat(lat)\n",
       "     standard_name: latitude\n",
       "     long_name: latitude\n",
       "     units: degrees_north\n",
       "     axis: Y\n",
       " unlimited dimensions: \n",
       " current shape = (1,)\n",
       " filling off,\n",
       " 'precip': <class 'netCDF4._netCDF4.Variable'>\n",
       " float32 precip(time, lat, lon)\n",
       "     standard_name: lwe_thickness_of_precipitation_amount\n",
       "     long_name: Daily precipitation\n",
       "     units: mm\n",
       "     _FillValue: 1e+20\n",
       "     missing_value: 1e+20\n",
       "     least_significant_digit: 3\n",
       "     cell_methods: time: sum\n",
       "     analysis_version_number: 3.01\n",
       "     number_of_stations_reporting: 6173\n",
       "     frequency: daily\n",
       "     length_scale_for_analysis: 80.0\n",
       "     coverage_content_type: physicalMeasurement\n",
       " unlimited dimensions: time\n",
       " current shape = (13149, 1, 1)\n",
       " filling off}"
      ]
     },
     "execution_count": 26,
     "metadata": {},
     "output_type": "execute_result"
    }
   ],
   "source": [
    "site_precip.variables"
   ]
  },
  {
   "attachments": {
    "25e1edb2-056d-47ab-ada0-26c6b49c6c7a.png": {
     "image/png": "[encoded data removed]"
    }
   },
   "cell_type": "markdown",
   "id": "ae77a643-05ea-4521-a1e9-17e5a7004e2d",
   "metadata": {},
   "source": [
    "![image.png](attachment:25e1edb2-056d-47ab-ada0-26c6b49c6c7a.png)"
   ]
  },
  {
   "cell_type": "code",
   "execution_count": null,
   "id": "ec40b0c0-0188-46ec-8ac8-c1adc27c8363",
   "metadata": {},
   "outputs": [],
   "source": []
  }
 ],
 "metadata": {
  "kernelspec": {
   "display_name": "Python 3 (ipykernel)",
   "language": "python",
   "name": "python3"
  },
  "language_info": {
   "codemirror_mode": {
    "name": "ipython",
    "version": 3
   },
   "file_extension": ".py",
   "mimetype": "text/x-python",
   "name": "python",
   "nbconvert_exporter": "python",
   "pygments_lexer": "ipython3",
   "version": "3.10.9"
  }
 },
 "nbformat": 4,
 "nbformat_minor": 5
}
