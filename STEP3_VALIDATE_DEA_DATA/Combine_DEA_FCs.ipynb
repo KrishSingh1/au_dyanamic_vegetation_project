{
 "cells": [
  {
   "cell_type": "markdown",
   "id": "47a5e3eb-28f9-4ee8-bb4e-0165cb32a77b",
   "metadata": {},
   "source": [
    "# Combine DEA FCs into one CSV file"
   ]
  },
  {
   "cell_type": "code",
   "execution_count": 1,
   "id": "4ee3b188-87fb-47fe-8dce-d2701868123b",
   "metadata": {},
   "outputs": [],
   "source": [
    "import pandas as pd\n",
    "import numpy as np \n",
    "import os "
   ]
  },
  {
   "cell_type": "code",
   "execution_count": 2,
   "id": "2fc1320f-ce65-4ea7-b525-9995cabf4328",
   "metadata": {},
   "outputs": [],
   "source": [
    "dea_dir = '../DATASETS/DEA_FC_PROCESSED/MODELLED_PREPROCESSED/'\n",
    "files_name_list = os.listdir(dea_dir)\n",
    "files_name_list = [f.split('_')[2].split('.')[0] for f in files_name_list]"
   ]
  },
  {
   "cell_type": "code",
   "execution_count": 3,
   "id": "f29f4efd-998b-43ea-bd5e-a7cecd706f09",
   "metadata": {},
   "outputs": [
    {
     "data": {
      "text/html": [
       "<div>\n",
       "<style scoped>\n",
       "    .dataframe tbody tr th:only-of-type {\n",
       "        vertical-align: middle;\n",
       "    }\n",
       "\n",
       "    .dataframe tbody tr th {\n",
       "        vertical-align: top;\n",
       "    }\n",
       "\n",
       "    .dataframe thead th {\n",
       "        text-align: right;\n",
       "    }\n",
       "</style>\n",
       "<table border=\"1\" class=\"dataframe\">\n",
       "  <thead>\n",
       "    <tr style=\"text-align: right;\">\n",
       "      <th></th>\n",
       "      <th>site_location_name</th>\n",
       "      <th>time</th>\n",
       "      <th>pv_filter</th>\n",
       "      <th>npv_filter</th>\n",
       "      <th>bs_filter</th>\n",
       "    </tr>\n",
       "  </thead>\n",
       "  <tbody>\n",
       "  </tbody>\n",
       "</table>\n",
       "</div>"
      ],
      "text/plain": [
       "Empty DataFrame\n",
       "Columns: [site_location_name, time, pv_filter, npv_filter, bs_filter]\n",
       "Index: []"
      ]
     },
     "execution_count": 3,
     "metadata": {},
     "output_type": "execute_result"
    }
   ],
   "source": [
    "cols = ['site_location_name', 'time', 'pv_filter', 'npv_filter', 'bs_filter']\n",
    "template_df = pd.DataFrame(columns = cols)\n",
    "template_df"
   ]
  },
  {
   "cell_type": "code",
   "execution_count": 4,
   "id": "adb21d06-a257-44d8-9c85-da79b3651b29",
   "metadata": {},
   "outputs": [
    {
     "name": "stderr",
     "output_type": "stream",
     "text": [
      "C:\\Users\\krish\\AppData\\Local\\Temp\\ipykernel_48312\\1196724838.py:4: FutureWarning: The behavior of DataFrame concatenation with empty or all-NA entries is deprecated. In a future version, this will no longer exclude empty or all-NA columns when determining the result dtypes. To retain the old behavior, exclude the relevant entries before the concat operation.\n",
      "  template_df = pd.concat([template_df, dea_fc])\n"
     ]
    }
   ],
   "source": [
    "for f in files_name_list:\n",
    "    dea_fc = pd.read_csv('../DATASETS/DEA_FC_PROCESSED/MODELLED_PREPROCESSED/' + 'Input_DataSet_'  + f + '.csv' , usecols = cols[1:])\n",
    "    dea_fc['site_location_name'] = f\n",
    "    template_df = pd.concat([template_df, dea_fc])"
   ]
  },
  {
   "cell_type": "code",
   "execution_count": 5,
   "id": "9a752d0a-a777-4e3f-a134-e645b0127440",
   "metadata": {},
   "outputs": [],
   "source": [
    "combined_dea_fc = template_df[cols]\n",
    "combined_dea_fc = combined_dea_fc.set_index('time')"
   ]
  },
  {
   "cell_type": "code",
   "execution_count": 6,
   "id": "a355f7c7-04e0-4b21-8d41-06eb7230fcca",
   "metadata": {},
   "outputs": [],
   "source": [
    "combined_dea_fc.to_csv('DEA_FC_Combined_1987_2022.csv')"
   ]
  }
 ],
 "metadata": {
  "kernelspec": {
   "display_name": "Python 3 (ipykernel)",
   "language": "python",
   "name": "python3"
  },
  "language_info": {
   "codemirror_mode": {
    "name": "ipython",
    "version": 3
   },
   "file_extension": ".py",
   "mimetype": "text/x-python",
   "name": "python",
   "nbconvert_exporter": "python",
   "pygments_lexer": "ipython3",
   "version": "3.11.5"
  }
 },
 "nbformat": 4,
 "nbformat_minor": 5
}
