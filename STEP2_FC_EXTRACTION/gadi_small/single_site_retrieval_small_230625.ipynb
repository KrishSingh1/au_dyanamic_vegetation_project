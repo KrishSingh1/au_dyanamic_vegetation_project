{
 "cells": [
  {
   "cell_type": "code",
   "execution_count": 1,
   "id": "2b1a8154-f85b-4426-b251-bf9cc909b20e",
   "metadata": {
    "tags": []
   },
   "outputs": [
    {
     "name": "stdout",
     "output_type": "stream",
     "text": [
      "Query (SASMDD0002, Index = 0)\n",
      "{'y': (6236497.0, 6236597.0), 'x': (462393.0, 462493.0), 'time': ('2023-01-01', '2023-04-20'), 'crs': 'EPSG:28354'}\n"
     ]
    }
   ],
   "source": [
    "###### Retrive Fractional Cover From DEA on a AusPlot Site ######\n",
    "## Author: Krish Karan Singh\n",
    "## Date: 230624\n",
    "## Purpose: Retrive and preprocess fractional Cover From DEA on each AusPlot Site\n",
    "\n",
    "####### IMPORT PACKAGES ####### \n",
    "\n",
    "# Inbuilt tools \n",
    "import numpy as np\n",
    "import pandas as pd\n",
    "import os \n",
    "\n",
    "# DEA Tools \n",
    "import datacube\n",
    "from datacube.utils import masking\n",
    "import sys\n",
    "sys.path.insert(1, '../Tools/')\n",
    "from dea_tools.datahandling import wofs_fuser\n",
    "from dea_tools.plotting import rgb, plot_wo\n",
    "\n",
    "###### Create a directory for dataset ######\n",
    "dir_name = 'fc_preprocessed_one_small'\n",
    "path = os.path.join(os.getcwd(), dir_name)\n",
    "\n",
    "if not os.path.isdir(path): # create directory if doesn't exist\n",
    "    os.mkdir(dir_name)\n",
    "\n",
    "###### Create Query #######\n",
    "## Load in query file (sites coords of interest)\n",
    "site_info = pd.read_csv(\"sites_info_query.csv\") # get df for sites info \n",
    "site_info = site_info.drop(columns = \"Unnamed: 0\").copy() \n",
    "\n",
    "\n",
    "## Define parameters for Query \n",
    "RI = 0 # record index\n",
    "time = (\"2023-01-01\",\"2023-04-20\") # the pre-determined start-end date (Note: keep at (\"1987-09-01\",\"2023-04-20\")!!)\n",
    "resolution = (-10,10) \n",
    "\n",
    "extent = 100 # defines the extent of the coordinates \n",
    "y1, y2 = site_info[\"pit_marker_northing\"][RI], site_info[\"pit_marker_northing\"][RI] + extent # coords/northing\n",
    "x1, x2 = site_info[\"pit_marker_easting\"][RI], site_info[\"pit_marker_easting\"][RI] + extent # coords/easting \n",
    "\n",
    "mga_zone = site_info['pit_marker_mga_zones'][RI]\n",
    "output_crs = f'EPSG:283{mga_zone}' # get output_crs based on the zone \n",
    "\n",
    "## Create query \n",
    "query = {\n",
    "    'y': (y1, y2),\n",
    "    'x': (x1, x2),\n",
    "    'time': time,\n",
    "    'crs': output_crs\n",
    "}\n",
    "\n",
    "print(f\"Query ({site_info['site_location_name'][RI]}, Index = {RI})\\n{query}\") # Print query\n",
    "\n",
    "###### Retrieve Data and preprocess ######\n",
    "### Load DEA Fractional Cover data from the datacube\n",
    "dc = datacube.Datacube(app='DEA_Fractional_Cover') # Call for dataset tools \n",
    "fc = dc.load(product='ga_ls_fc_3',\n",
    "             measurements=['bs', 'pv', 'npv', 'ue'],\n",
    "             resolution= resolution,\n",
    "             group_by='solar_day',\n",
    "             output_crs = output_crs,\n",
    "             **query)\n",
    "fc = masking.mask_invalid_data(fc) # turn invalid data into NAN \n",
    "\n",
    "### Retrieve additional data for water masking  \n",
    "wo = dc.load(product='ga_ls_wo_3',\n",
    "             group_by='solar_day',\n",
    "             fuse_func=wofs_fuser,\n",
    "             like=fc)\n",
    "wo_mask = masking.make_mask(wo.water, dry=True)  # find wet pixels \n",
    "fc_masked = fc.where(wo_mask) # turn wet pixels into NAN\n",
    "\n",
    "###### Export processed as a csv file #######\n",
    "file_name = f\"{site_info['site_location_name'][RI]}.csv\" # Simply location_name.csv\n",
    "file_path = os.path.join(path,file_name)\n",
    "region = fc_masked.to_dataframe()\n",
    "df = region.to_csv(file_path)"
   ]
  }
 ],
 "metadata": {
  "kernelspec": {
   "display_name": "Python 3 (ipykernel)",
   "language": "python",
   "name": "python3"
  },
  "language_info": {
   "codemirror_mode": {
    "name": "ipython",
    "version": 3
   },
   "file_extension": ".py",
   "mimetype": "text/x-python",
   "name": "python",
   "nbconvert_exporter": "python",
   "pygments_lexer": "ipython3",
   "version": "3.9.12"
  }
 },
 "nbformat": 4,
 "nbformat_minor": 5
}
